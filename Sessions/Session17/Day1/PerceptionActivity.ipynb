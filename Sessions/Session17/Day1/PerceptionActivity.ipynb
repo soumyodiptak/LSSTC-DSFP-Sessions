{
 "cells": [
  {
   "cell_type": "code",
   "execution_count": 2,
   "id": "dae9a010",
   "metadata": {},
   "outputs": [],
   "source": [
    "import numpy as np\n",
    "import matplotlib.pyplot as plt"
   ]
  },
  {
   "cell_type": "code",
   "execution_count": 3,
   "id": "8a224517",
   "metadata": {},
   "outputs": [],
   "source": [
    "# Categories\n",
    "drink_type = ['Coffee','Espresso','Tea']\n",
    "sub_drink_type = [['Guatemala Casi Cielo','Guatemala Casi Cielo De-Caf','Sumatra'],['Americano','Cafe Latte','Cappuccino',\n",
    "                'Cafe Mocha'],['Organic Breakfast','Organic Long Life Green Tea','Monsoon Chai','Chai Tea Latte','Black Tea Latte'],\n",
    "                 ['Hot Chocolate'],['Homemade Syrup Flavors']]\n",
    "ounce_type = [8,12,16]\n",
    "price_type = [[1.50,1.70,1.90],[1.50,1.70,1.90],[1.50,1.70,1.90],[1.45,1.70,1.85],[1.60,1.80,2.00],[2.15,2.75,3.20],\n",
    "             [2.15,2.75,3.20],[2.65,3.05,3.55],[1.70,1.90,2.10],[1.70,1.90,2.10],[1.70,1.90,2.10],[2.40,2.95,3.35],\n",
    "              [2.20,2.55,3.20],[2.50,2.75,3.00],[0.50]] "
   ]
  },
  {
   "cell_type": "code",
   "execution_count": 8,
   "id": "0e86b346",
   "metadata": {},
   "outputs": [
    {
     "data": {
      "text/plain": [
       "<BarContainer object of 3 artists>"
      ]
     },
     "execution_count": 8,
     "metadata": {},
     "output_type": "execute_result"
    },
    {
     "data": {
      "image/png": "[encoded data removed]",
      "text/plain": [
       "<Figure size 432x288 with 1 Axes>"
      ]
     },
     "metadata": {
      "needs_background": "light"
     },
     "output_type": "display_data"
    }
   ],
   "source": [
    "plt.bar(sub_drink_type[0],price_type[0],width=0.2)"
   ]
  },
  {
   "cell_type": "code",
   "execution_count": null,
   "id": "225aac01",
   "metadata": {},
   "outputs": [],
   "source": []
  }
 ],
 "metadata": {
  "kernelspec": {
   "display_name": "Python 3 (ipykernel)",
   "language": "python",
   "name": "python3"
  },
  "language_info": {
   "codemirror_mode": {
    "name": "ipython",
    "version": 3
   },
   "file_extension": ".py",
   "mimetype": "text/x-python",
   "name": "python",
   "nbconvert_exporter": "python",
   "pygments_lexer": "ipython3",
   "version": "3.8.13"
  }
 },
 "nbformat": 4,
 "nbformat_minor": 5
}
