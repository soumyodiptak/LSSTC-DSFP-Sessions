{
 "cells": [
  {
   "cell_type": "markdown",
   "metadata": {
    "slideshow": {
     "slide_type": "slide"
    }
   },
   "source": [
    "# An Introduction to Visualizing Astronomical Images\n",
    "\n",
    "**Version 0.15**\n",
    "\n",
    "This session has focused on image processing, with particular attention paid to how we make standard measurements (such as flux or position) in data taken with a wide-field survey, such as the Legacy Survey of Space and Time (LSST) to be conducted by the Vera C. Rubin Observatory. \n",
    "\n"
   ]
  },
  {
   "cell_type": "markdown",
   "metadata": {
    "slideshow": {
     "slide_type": "slide"
    }
   },
   "source": [
    "Of course, as every good astro-data scientist knows, you should: \n",
    "\n",
    "<div align=\"center\">\n",
    "<br>\n",
    "<font size=\"+7\"> WORRY ABOUT THE DATA </font>\n",
    "</div>"
   ]
  },
  {
   "cell_type": "markdown",
   "metadata": {
    "slideshow": {
     "slide_type": "slide"
    }
   },
   "source": [
    "For CCDs, that means *looking at the actual images*. \n",
    "\n",
    "This lecture is about the visualization of astronomical images. There are many different aspects that can (should?) be considered within this context. We will focus a primary principle of visualization (recall previous sessions):\n",
    "\n",
    "  -  Salience - the most important aspects of the figure should stand out"
   ]
  },
  {
   "cell_type": "markdown",
   "metadata": {
    "slideshow": {
     "slide_type": "slide"
    }
   },
   "source": [
    "As is often the case when it comes to image processing, Robert Lupton [(Lupton et al. 2004)](https://ui.adsabs.harvard.edu/abs/2004PASP..116..133L/abstract) has written some definitive text on building false color images (we will return to this later). \n",
    "\n",
    "* * *\n",
    "\n",
    "Adapted by Bryan Scott, 2023, Jun 14 \n",
    "\n",
    "Originally by Adam Miller (CIERA/Northwestern & Adler)\n",
    "2020 July 13"
   ]
  },
  {
   "cell_type": "code",
   "execution_count": 1,
   "metadata": {
    "slideshow": {
     "slide_type": "skip"
    }
   },
   "outputs": [],
   "source": [
    "import numpy as np\n",
    "import pandas as pd\n",
    "import matplotlib.pyplot as plt\n",
    "\n",
    "from astropy.io import fits"
   ]
  },
  {
   "cell_type": "code",
   "execution_count": 2,
   "metadata": {
    "slideshow": {
     "slide_type": "skip"
    }
   },
   "outputs": [],
   "source": [
    "%matplotlib notebook"
   ]
  },
  {
   "cell_type": "markdown",
   "metadata": {
    "slideshow": {
     "slide_type": "slide"
    }
   },
   "source": [
    "If you have not already done so, 'git pull' to download the data. You should have\n",
    "\n",
    "ztf_i_band.fits \n",
    "\n",
    "ztf_r_band.fits\n",
    "\n",
    "ztf_g_band.fits\n",
    "\n",
    "Some quick background: these images are taken from the [Zwicky Transient Facilty](https://www.ztf.caltech.edu/).\\* ZTF has a 47 $\\mathrm{deg}^2$ camera, with $\\sim$1 arcsec pixels and $\\sim$2 arcsec seeing. It has 3 filters (g, r, i) and has mapped most of the Northern hemisphere. Today we are working with ZTF stacks, roughly 16 individual images has gone into each of these stacks. "
   ]
  },
  {
   "cell_type": "markdown",
   "metadata": {},
   "source": [
    "## Problem 0) Why Luptitudes? \n",
    "\n",
    "**Feel free to skip this problem and move on to the coding exercises. It is included here to touch on some themes from the week so far.**\n",
    "\n",
    "The quantity $$\\mu = -a (\\operatorname{arsinh}(x/2b) + ln(b)),$$ is called a luptitude and has a number of a nice properties that we will explore in this notebook. The goal of this problem is to understand why it is theoretically significant, and hence, why it can help to use these instead of traditional magnitudes, for example, in ML workflows. \n",
    "\n",
    "**Problem 0a)** Determine the limiting behavior of $\\mu$ in the case where x goes to zero and x goes to $\\infty$. \n",
    "\n",
    "**Problem 0b)** If we take m to be the limit as x goes to $\\infty$, compute the variance in m and $\\mu$, as well as the value of $m - \\mu$.\n",
    "\n",
    "**Problem 0c)** Comment on the tradeoff that one makes in picking a value of b. Is there an 'optimal' value? "
   ]
  },
  {
   "cell_type": "markdown",
   "metadata": {
    "slideshow": {
     "slide_type": "slide"
    }
   },
   "source": [
    "## Problem 1) Luminance\n",
    "\n",
    "We begin by examining how we want to represent the intensity of the light as detected by the ZTF CCD."
   ]
  },
  {
   "cell_type": "markdown",
   "metadata": {
    "slideshow": {
     "slide_type": "slide"
    }
   },
   "source": [
    "**Problem 1a**\n",
    "\n",
    "Load the data from `ztf_i_band.fits.gz` and display a 2D \"heatmap\" using [`imshow()`](https://matplotlib.org/3.2.2/api/_as_gen/matplotlib.pyplot.imshow.html).\n",
    "\n",
    "*Note* - CCDs are linear detectors, so use a linear scaling (the default for `imshow()`) of the data in order to \"see\" what the detector sees."
   ]
  },
  {
   "cell_type": "code",
   "execution_count": 3,
   "metadata": {
    "slideshow": {
     "slide_type": "slide"
    }
   },
   "outputs": [
    {
     "data": {
      "application/javascript": [
       "/* Put everything inside the global mpl namespace */\n",
       "/* global mpl */\n",
       "window.mpl = {};\n",
       "\n",
       "mpl.get_websocket_type = function () {\n",
       "    if (typeof WebSocket !== 'undefined') {\n",
       "        return WebSocket;\n",
       "    } else if (typeof MozWebSocket !== 'undefined') {\n",
       "        return MozWebSocket;\n",
       "    } else {\n",
       "        alert(\n",
       "            'Your browser does not have WebSocket support. ' +\n",
       "                'Please try Chrome, Safari or Firefox ≥ 6. ' +\n",
       "                'Firefox 4 and 5 are also supported but you ' +\n",
       "                'have to enable WebSockets in about:config.'\n",
       "        );\n",
       "    }\n",
       "};\n",
       "\n",
       "mpl.figure = function (figure_id, websocket, ondownload, parent_element) {\n",
       "    this.id = figure_id;\n",
       "\n",
       "    this.ws = websocket;\n",
       "\n",
       "    this.supports_binary = this.ws.binaryType !== undefined;\n",
       "\n",
       "    if (!this.supports_binary) {\n",
       "        var warnings = document.getElementById('mpl-warnings');\n",
       "        if (warnings) {\n",
       "            warnings.style.display = 'block';\n",
       "            warnings.textContent =\n",
       "                'This browser does not support binary websocket messages. ' +\n",
       "                'Performance may be slow.';\n",
       "        }\n",
       "    }\n",
       "\n",
       "    this.imageObj = new Image();\n",
       "\n",
       "    this.context = undefined;\n",
       "    this.message = undefined;\n",
       "    this.canvas = undefined;\n",
       "    this.rubberband_canvas = undefined;\n",
       "    this.rubberband_context = undefined;\n",
       "    this.format_dropdown = undefined;\n",
       "\n",
       "    this.image_mode = 'full';\n",
       "\n",
       "    this.root = document.createElement('div');\n",
       "    this.root.setAttribute('style', 'display: inline-block');\n",
       "    this._root_extra_style(this.root);\n",
       "\n",
       "    parent_element.appendChild(this.root);\n",
       "\n",
       "    this._init_header(this);\n",
       "    this._init_canvas(this);\n",
       "    this._init_toolbar(this);\n",
       "\n",
       "    var fig = this;\n",
       "\n",
       "    this.waiting = false;\n",
       "\n",
       "    this.ws.onopen = function () {\n",
       "        fig.send_message('supports_binary', { value: fig.supports_binary });\n",
       "        fig.send_message('send_image_mode', {});\n",
       "        if (fig.ratio !== 1) {\n",
       "            fig.send_message('set_device_pixel_ratio', {\n",
       "                device_pixel_ratio: fig.ratio,\n",
       "            });\n",
       "        }\n",
       "        fig.send_message('refresh', {});\n",
       "    };\n",
       "\n",
       "    this.imageObj.onload = function () {\n",
       "        if (fig.image_mode === 'full') {\n",
       "            // Full images could contain transparency (where diff images\n",
       "            // almost always do), so we need to clear the canvas so that\n",
       "            // there is no ghosting.\n",
       "            fig.context.clearRect(0, 0, fig.canvas.width, fig.canvas.height);\n",
       "        }\n",
       "        fig.context.drawImage(fig.imageObj, 0, 0);\n",
       "    };\n",
       "\n",
       "    this.imageObj.onunload = function () {\n",
       "        fig.ws.close();\n",
       "    };\n",
       "\n",
       "    this.ws.onmessage = this._make_on_message_function(this);\n",
       "\n",
       "    this.ondownload = ondownload;\n",
       "};\n",
       "\n",
       "mpl.figure.prototype._init_header = function () {\n",
       "    var titlebar = document.createElement('div');\n",
       "    titlebar.classList =\n",
       "        'ui-dialog-titlebar ui-widget-header ui-corner-all ui-helper-clearfix';\n",
       "    var titletext = document.createElement('div');\n",
       "    titletext.classList = 'ui-dialog-title';\n",
       "    titletext.setAttribute(\n",
       "        'style',\n",
       "        'width: 100%; text-align: center; padding: 3px;'\n",
       "    );\n",
       "    titlebar.appendChild(titletext);\n",
       "    this.root.appendChild(titlebar);\n",
       "    this.header = titletext;\n",
       "};\n",
       "\n",
       "mpl.figure.prototype._canvas_extra_style = function (_canvas_div) {};\n",
       "\n",
       "mpl.figure.prototype._root_extra_style = function (_canvas_div) {};\n",
       "\n",
       "mpl.figure.prototype._init_canvas = function () {\n",
       "    var fig = this;\n",
       "\n",
       "    var canvas_div = (this.canvas_div = document.createElement('div'));\n",
       "    canvas_div.setAttribute('tabindex', '0');\n",
       "    canvas_div.setAttribute(\n",
       "        'style',\n",
       "        'border: 1px solid #ddd;' +\n",
       "            'box-sizing: content-box;' +\n",
       "            'clear: both;' +\n",
       "            'min-height: 1px;' +\n",
       "            'min-width: 1px;' +\n",
       "            'outline: 0;' +\n",
       "            'overflow: hidden;' +\n",
       "            'position: relative;' +\n",
       "            'resize: both;' +\n",
       "            'z-index: 2;'\n",
       "    );\n",
       "\n",
       "    function on_keyboard_event_closure(name) {\n",
       "        return function (event) {\n",
       "            return fig.key_event(event, name);\n",
       "        };\n",
       "    }\n",
       "\n",
       "    canvas_div.addEventListener(\n",
       "        'keydown',\n",
       "        on_keyboard_event_closure('key_press')\n",
       "    );\n",
       "    canvas_div.addEventListener(\n",
       "        'keyup',\n",
       "        on_keyboard_event_closure('key_release')\n",
       "    );\n",
       "\n",
       "    this._canvas_extra_style(canvas_div);\n",
       "    this.root.appendChild(canvas_div);\n",
       "\n",
       "    var canvas = (this.canvas = document.createElement('canvas'));\n",
       "    canvas.classList.add('mpl-canvas');\n",
       "    canvas.setAttribute(\n",
       "        'style',\n",
       "        'box-sizing: content-box;' +\n",
       "            'pointer-events: none;' +\n",
       "            'position: relative;' +\n",
       "            'z-index: 0;'\n",
       "    );\n",
       "\n",
       "    this.context = canvas.getContext('2d');\n",
       "\n",
       "    var backingStore =\n",
       "        this.context.backingStorePixelRatio ||\n",
       "        this.context.webkitBackingStorePixelRatio ||\n",
       "        this.context.mozBackingStorePixelRatio ||\n",
       "        this.context.msBackingStorePixelRatio ||\n",
       "        this.context.oBackingStorePixelRatio ||\n",
       "        this.context.backingStorePixelRatio ||\n",
       "        1;\n",
       "\n",
       "    this.ratio = (window.devicePixelRatio || 1) / backingStore;\n",
       "\n",
       "    var rubberband_canvas = (this.rubberband_canvas = document.createElement(\n",
       "        'canvas'\n",
       "    ));\n",
       "    rubberband_canvas.setAttribute(\n",
       "        'style',\n",
       "        'box-sizing: content-box;' +\n",
       "            'left: 0;' +\n",
       "            'pointer-events: none;' +\n",
       "            'position: absolute;' +\n",
       "            'top: 0;' +\n",
       "            'z-index: 1;'\n",
       "    );\n",
       "\n",
       "    // Apply a ponyfill if ResizeObserver is not implemented by browser.\n",
       "    if (this.ResizeObserver === undefined) {\n",
       "        if (window.ResizeObserver !== undefined) {\n",
       "            this.ResizeObserver = window.ResizeObserver;\n",
       "        } else {\n",
       "            var obs = _JSXTOOLS_RESIZE_OBSERVER({});\n",
       "            this.ResizeObserver = obs.ResizeObserver;\n",
       "        }\n",
       "    }\n",
       "\n",
       "    this.resizeObserverInstance = new this.ResizeObserver(function (entries) {\n",
       "        var nentries = entries.length;\n",
       "        for (var i = 0; i < nentries; i++) {\n",
       "            var entry = entries[i];\n",
       "            var width, height;\n",
       "            if (entry.contentBoxSize) {\n",
       "                if (entry.contentBoxSize instanceof Array) {\n",
       "                    // Chrome 84 implements new version of spec.\n",
       "                    width = entry.contentBoxSize[0].inlineSize;\n",
       "                    height = entry.contentBoxSize[0].blockSize;\n",
       "                } else {\n",
       "                    // Firefox implements old version of spec.\n",
       "                    width = entry.contentBoxSize.inlineSize;\n",
       "                    height = entry.contentBoxSize.blockSize;\n",
       "                }\n",
       "            } else {\n",
       "                // Chrome <84 implements even older version of spec.\n",
       "                width = entry.contentRect.width;\n",
       "                height = entry.contentRect.height;\n",
       "            }\n",
       "\n",
       "            // Keep the size of the canvas and rubber band canvas in sync with\n",
       "            // the canvas container.\n",
       "            if (entry.devicePixelContentBoxSize) {\n",
       "                // Chrome 84 implements new version of spec.\n",
       "                canvas.setAttribute(\n",
       "                    'width',\n",
       "                    entry.devicePixelContentBoxSize[0].inlineSize\n",
       "                );\n",
       "                canvas.setAttribute(\n",
       "                    'height',\n",
       "                    entry.devicePixelContentBoxSize[0].blockSize\n",
       "                );\n",
       "            } else {\n",
       "                canvas.setAttribute('width', width * fig.ratio);\n",
       "                canvas.setAttribute('height', height * fig.ratio);\n",
       "            }\n",
       "            /* This rescales the canvas back to display pixels, so that it\n",
       "             * appears correct on HiDPI screens. */\n",
       "            canvas.style.width = width + 'px';\n",
       "            canvas.style.height = height + 'px';\n",
       "\n",
       "            rubberband_canvas.setAttribute('width', width);\n",
       "            rubberband_canvas.setAttribute('height', height);\n",
       "\n",
       "            // And update the size in Python. We ignore the initial 0/0 size\n",
       "            // that occurs as the element is placed into the DOM, which should\n",
       "            // otherwise not happen due to the minimum size styling.\n",
       "            if (fig.ws.readyState == 1 && width != 0 && height != 0) {\n",
       "                fig.request_resize(width, height);\n",
       "            }\n",
       "        }\n",
       "    });\n",
       "    this.resizeObserverInstance.observe(canvas_div);\n",
       "\n",
       "    function on_mouse_event_closure(name) {\n",
       "        /* User Agent sniffing is bad, but WebKit is busted:\n",
       "         * https://bugs.webkit.org/show_bug.cgi?id=144526\n",
       "         * https://bugs.webkit.org/show_bug.cgi?id=181818\n",
       "         * The worst that happens here is that they get an extra browser\n",
       "         * selection when dragging, if this check fails to catch them.\n",
       "         */\n",
       "        var UA = navigator.userAgent;\n",
       "        var isWebKit = /AppleWebKit/.test(UA) && !/Chrome/.test(UA);\n",
       "        if(isWebKit) {\n",
       "            return function (event) {\n",
       "                /* This prevents the web browser from automatically changing to\n",
       "                 * the text insertion cursor when the button is pressed. We\n",
       "                 * want to control all of the cursor setting manually through\n",
       "                 * the 'cursor' event from matplotlib */\n",
       "                event.preventDefault()\n",
       "                return fig.mouse_event(event, name);\n",
       "            };\n",
       "        } else {\n",
       "            return function (event) {\n",
       "                return fig.mouse_event(event, name);\n",
       "            };\n",
       "        }\n",
       "    }\n",
       "\n",
       "    canvas_div.addEventListener(\n",
       "        'mousedown',\n",
       "        on_mouse_event_closure('button_press')\n",
       "    );\n",
       "    canvas_div.addEventListener(\n",
       "        'mouseup',\n",
       "        on_mouse_event_closure('button_release')\n",
       "    );\n",
       "    canvas_div.addEventListener(\n",
       "        'dblclick',\n",
       "        on_mouse_event_closure('dblclick')\n",
       "    );\n",
       "    // Throttle sequential mouse events to 1 every 20ms.\n",
       "    canvas_div.addEventListener(\n",
       "        'mousemove',\n",
       "        on_mouse_event_closure('motion_notify')\n",
       "    );\n",
       "\n",
       "    canvas_div.addEventListener(\n",
       "        'mouseenter',\n",
       "        on_mouse_event_closure('figure_enter')\n",
       "    );\n",
       "    canvas_div.addEventListener(\n",
       "        'mouseleave',\n",
       "        on_mouse_event_closure('figure_leave')\n",
       "    );\n",
       "\n",
       "    canvas_div.addEventListener('wheel', function (event) {\n",
       "        if (event.deltaY < 0) {\n",
       "            event.step = 1;\n",
       "        } else {\n",
       "            event.step = -1;\n",
       "        }\n",
       "        on_mouse_event_closure('scroll')(event);\n",
       "    });\n",
       "\n",
       "    canvas_div.appendChild(canvas);\n",
       "    canvas_div.appendChild(rubberband_canvas);\n",
       "\n",
       "    this.rubberband_context = rubberband_canvas.getContext('2d');\n",
       "    this.rubberband_context.strokeStyle = '#000000';\n",
       "\n",
       "    this._resize_canvas = function (width, height, forward) {\n",
       "        if (forward) {\n",
       "            canvas_div.style.width = width + 'px';\n",
       "            canvas_div.style.height = height + 'px';\n",
       "        }\n",
       "    };\n",
       "\n",
       "    // Disable right mouse context menu.\n",
       "    canvas_div.addEventListener('contextmenu', function (_e) {\n",
       "        event.preventDefault();\n",
       "        return false;\n",
       "    });\n",
       "\n",
       "    function set_focus() {\n",
       "        canvas.focus();\n",
       "        canvas_div.focus();\n",
       "    }\n",
       "\n",
       "    window.setTimeout(set_focus, 100);\n",
       "};\n",
       "\n",
       "mpl.figure.prototype._init_toolbar = function () {\n",
       "    var fig = this;\n",
       "\n",
       "    var toolbar = document.createElement('div');\n",
       "    toolbar.classList = 'mpl-toolbar';\n",
       "    this.root.appendChild(toolbar);\n",
       "\n",
       "    function on_click_closure(name) {\n",
       "        return function (_event) {\n",
       "            return fig.toolbar_button_onclick(name);\n",
       "        };\n",
       "    }\n",
       "\n",
       "    function on_mouseover_closure(tooltip) {\n",
       "        return function (event) {\n",
       "            if (!event.currentTarget.disabled) {\n",
       "                return fig.toolbar_button_onmouseover(tooltip);\n",
       "            }\n",
       "        };\n",
       "    }\n",
       "\n",
       "    fig.buttons = {};\n",
       "    var buttonGroup = document.createElement('div');\n",
       "    buttonGroup.classList = 'mpl-button-group';\n",
       "    for (var toolbar_ind in mpl.toolbar_items) {\n",
       "        var name = mpl.toolbar_items[toolbar_ind][0];\n",
       "        var tooltip = mpl.toolbar_items[toolbar_ind][1];\n",
       "        var image = mpl.toolbar_items[toolbar_ind][2];\n",
       "        var method_name = mpl.toolbar_items[toolbar_ind][3];\n",
       "\n",
       "        if (!name) {\n",
       "            /* Instead of a spacer, we start a new button group. */\n",
       "            if (buttonGroup.hasChildNodes()) {\n",
       "                toolbar.appendChild(buttonGroup);\n",
       "            }\n",
       "            buttonGroup = document.createElement('div');\n",
       "            buttonGroup.classList = 'mpl-button-group';\n",
       "            continue;\n",
       "        }\n",
       "\n",
       "        var button = (fig.buttons[name] = document.createElement('button'));\n",
       "        button.classList = 'mpl-widget';\n",
       "        button.setAttribute('role', 'button');\n",
       "        button.setAttribute('aria-disabled', 'false');\n",
       "        button.addEventListener('click', on_click_closure(method_name));\n",
       "        button.addEventListener('mouseover', on_mouseover_closure(tooltip));\n",
       "\n",
       "        var icon_img = document.createElement('img');\n",
       "        icon_img.src = '_images/' + image + '.png';\n",
       "        icon_img.srcset = '_images/' + image + '_large.png 2x';\n",
       "        icon_img.alt = tooltip;\n",
       "        button.appendChild(icon_img);\n",
       "\n",
       "        buttonGroup.appendChild(button);\n",
       "    }\n",
       "\n",
       "    if (buttonGroup.hasChildNodes()) {\n",
       "        toolbar.appendChild(buttonGroup);\n",
       "    }\n",
       "\n",
       "    var fmt_picker = document.createElement('select');\n",
       "    fmt_picker.classList = 'mpl-widget';\n",
       "    toolbar.appendChild(fmt_picker);\n",
       "    this.format_dropdown = fmt_picker;\n",
       "\n",
       "    for (var ind in mpl.extensions) {\n",
       "        var fmt = mpl.extensions[ind];\n",
       "        var option = document.createElement('option');\n",
       "        option.selected = fmt === mpl.default_extension;\n",
       "        option.innerHTML = fmt;\n",
       "        fmt_picker.appendChild(option);\n",
       "    }\n",
       "\n",
       "    var status_bar = document.createElement('span');\n",
       "    status_bar.classList = 'mpl-message';\n",
       "    toolbar.appendChild(status_bar);\n",
       "    this.message = status_bar;\n",
       "};\n",
       "\n",
       "mpl.figure.prototype.request_resize = function (x_pixels, y_pixels) {\n",
       "    // Request matplotlib to resize the figure. Matplotlib will then trigger a resize in the client,\n",
       "    // which will in turn request a refresh of the image.\n",
       "    this.send_message('resize', { width: x_pixels, height: y_pixels });\n",
       "};\n",
       "\n",
       "mpl.figure.prototype.send_message = function (type, properties) {\n",
       "    properties['type'] = type;\n",
       "    properties['figure_id'] = this.id;\n",
       "    this.ws.send(JSON.stringify(properties));\n",
       "};\n",
       "\n",
       "mpl.figure.prototype.send_draw_message = function () {\n",
       "    if (!this.waiting) {\n",
       "        this.waiting = true;\n",
       "        this.ws.send(JSON.stringify({ type: 'draw', figure_id: this.id }));\n",
       "    }\n",
       "};\n",
       "\n",
       "mpl.figure.prototype.handle_save = function (fig, _msg) {\n",
       "    var format_dropdown = fig.format_dropdown;\n",
       "    var format = format_dropdown.options[format_dropdown.selectedIndex].value;\n",
       "    fig.ondownload(fig, format);\n",
       "};\n",
       "\n",
       "mpl.figure.prototype.handle_resize = function (fig, msg) {\n",
       "    var size = msg['size'];\n",
       "    if (size[0] !== fig.canvas.width || size[1] !== fig.canvas.height) {\n",
       "        fig._resize_canvas(size[0], size[1], msg['forward']);\n",
       "        fig.send_message('refresh', {});\n",
       "    }\n",
       "};\n",
       "\n",
       "mpl.figure.prototype.handle_rubberband = function (fig, msg) {\n",
       "    var x0 = msg['x0'] / fig.ratio;\n",
       "    var y0 = (fig.canvas.height - msg['y0']) / fig.ratio;\n",
       "    var x1 = msg['x1'] / fig.ratio;\n",
       "    var y1 = (fig.canvas.height - msg['y1']) / fig.ratio;\n",
       "    x0 = Math.floor(x0) + 0.5;\n",
       "    y0 = Math.floor(y0) + 0.5;\n",
       "    x1 = Math.floor(x1) + 0.5;\n",
       "    y1 = Math.floor(y1) + 0.5;\n",
       "    var min_x = Math.min(x0, x1);\n",
       "    var min_y = Math.min(y0, y1);\n",
       "    var width = Math.abs(x1 - x0);\n",
       "    var height = Math.abs(y1 - y0);\n",
       "\n",
       "    fig.rubberband_context.clearRect(\n",
       "        0,\n",
       "        0,\n",
       "        fig.canvas.width / fig.ratio,\n",
       "        fig.canvas.height / fig.ratio\n",
       "    );\n",
       "\n",
       "    fig.rubberband_context.strokeRect(min_x, min_y, width, height);\n",
       "};\n",
       "\n",
       "mpl.figure.prototype.handle_figure_label = function (fig, msg) {\n",
       "    // Updates the figure title.\n",
       "    fig.header.textContent = msg['label'];\n",
       "};\n",
       "\n",
       "mpl.figure.prototype.handle_cursor = function (fig, msg) {\n",
       "    fig.canvas_div.style.cursor = msg['cursor'];\n",
       "};\n",
       "\n",
       "mpl.figure.prototype.handle_message = function (fig, msg) {\n",
       "    fig.message.textContent = msg['message'];\n",
       "};\n",
       "\n",
       "mpl.figure.prototype.handle_draw = function (fig, _msg) {\n",
       "    // Request the server to send over a new figure.\n",
       "    fig.send_draw_message();\n",
       "};\n",
       "\n",
       "mpl.figure.prototype.handle_image_mode = function (fig, msg) {\n",
       "    fig.image_mode = msg['mode'];\n",
       "};\n",
       "\n",
       "mpl.figure.prototype.handle_history_buttons = function (fig, msg) {\n",
       "    for (var key in msg) {\n",
       "        if (!(key in fig.buttons)) {\n",
       "            continue;\n",
       "        }\n",
       "        fig.buttons[key].disabled = !msg[key];\n",
       "        fig.buttons[key].setAttribute('aria-disabled', !msg[key]);\n",
       "    }\n",
       "};\n",
       "\n",
       "mpl.figure.prototype.handle_navigate_mode = function (fig, msg) {\n",
       "    if (msg['mode'] === 'PAN') {\n",
       "        fig.buttons['Pan'].classList.add('active');\n",
       "        fig.buttons['Zoom'].classList.remove('active');\n",
       "    } else if (msg['mode'] === 'ZOOM') {\n",
       "        fig.buttons['Pan'].classList.remove('active');\n",
       "        fig.buttons['Zoom'].classList.add('active');\n",
       "    } else {\n",
       "        fig.buttons['Pan'].classList.remove('active');\n",
       "        fig.buttons['Zoom'].classList.remove('active');\n",
       "    }\n",
       "};\n",
       "\n",
       "mpl.figure.prototype.updated_canvas_event = function () {\n",
       "    // Called whenever the canvas gets updated.\n",
       "    this.send_message('ack', {});\n",
       "};\n",
       "\n",
       "// A function to construct a web socket function for onmessage handling.\n",
       "// Called in the figure constructor.\n",
       "mpl.figure.prototype._make_on_message_function = function (fig) {\n",
       "    return function socket_on_message(evt) {\n",
       "        if (evt.data instanceof Blob) {\n",
       "            var img = evt.data;\n",
       "            if (img.type !== 'image/png') {\n",
       "                /* FIXME: We get \"Resource interpreted as Image but\n",
       "                 * transferred with MIME type text/plain:\" errors on\n",
       "                 * Chrome.  But how to set the MIME type?  It doesn't seem\n",
       "                 * to be part of the websocket stream */\n",
       "                img.type = 'image/png';\n",
       "            }\n",
       "\n",
       "            /* Free the memory for the previous frames */\n",
       "            if (fig.imageObj.src) {\n",
       "                (window.URL || window.webkitURL).revokeObjectURL(\n",
       "                    fig.imageObj.src\n",
       "                );\n",
       "            }\n",
       "\n",
       "            fig.imageObj.src = (window.URL || window.webkitURL).createObjectURL(\n",
       "                img\n",
       "            );\n",
       "            fig.updated_canvas_event();\n",
       "            fig.waiting = false;\n",
       "            return;\n",
       "        } else if (\n",
       "            typeof evt.data === 'string' &&\n",
       "            evt.data.slice(0, 21) === 'data:image/png;base64'\n",
       "        ) {\n",
       "            fig.imageObj.src = evt.data;\n",
       "            fig.updated_canvas_event();\n",
       "            fig.waiting = false;\n",
       "            return;\n",
       "        }\n",
       "\n",
       "        var msg = JSON.parse(evt.data);\n",
       "        var msg_type = msg['type'];\n",
       "\n",
       "        // Call the  \"handle_{type}\" callback, which takes\n",
       "        // the figure and JSON message as its only arguments.\n",
       "        try {\n",
       "            var callback = fig['handle_' + msg_type];\n",
       "        } catch (e) {\n",
       "            console.log(\n",
       "                \"No handler for the '\" + msg_type + \"' message type: \",\n",
       "                msg\n",
       "            );\n",
       "            return;\n",
       "        }\n",
       "\n",
       "        if (callback) {\n",
       "            try {\n",
       "                // console.log(\"Handling '\" + msg_type + \"' message: \", msg);\n",
       "                callback(fig, msg);\n",
       "            } catch (e) {\n",
       "                console.log(\n",
       "                    \"Exception inside the 'handler_\" + msg_type + \"' callback:\",\n",
       "                    e,\n",
       "                    e.stack,\n",
       "                    msg\n",
       "                );\n",
       "            }\n",
       "        }\n",
       "    };\n",
       "};\n",
       "\n",
       "function getModifiers(event) {\n",
       "    var mods = [];\n",
       "    if (event.ctrlKey) {\n",
       "        mods.push('ctrl');\n",
       "    }\n",
       "    if (event.altKey) {\n",
       "        mods.push('alt');\n",
       "    }\n",
       "    if (event.shiftKey) {\n",
       "        mods.push('shift');\n",
       "    }\n",
       "    if (event.metaKey) {\n",
       "        mods.push('meta');\n",
       "    }\n",
       "    return mods;\n",
       "}\n",
       "\n",
       "/*\n",
       " * return a copy of an object with only non-object keys\n",
       " * we need this to avoid circular references\n",
       " * https://stackoverflow.com/a/24161582/3208463\n",
       " */\n",
       "function simpleKeys(original) {\n",
       "    return Object.keys(original).reduce(function (obj, key) {\n",
       "        if (typeof original[key] !== 'object') {\n",
       "            obj[key] = original[key];\n",
       "        }\n",
       "        return obj;\n",
       "    }, {});\n",
       "}\n",
       "\n",
       "mpl.figure.prototype.mouse_event = function (event, name) {\n",
       "    if (name === 'button_press') {\n",
       "        this.canvas.focus();\n",
       "        this.canvas_div.focus();\n",
       "    }\n",
       "\n",
       "    // from https://stackoverflow.com/q/1114465\n",
       "    var boundingRect = this.canvas.getBoundingClientRect();\n",
       "    var x = (event.clientX - boundingRect.left) * this.ratio;\n",
       "    var y = (event.clientY - boundingRect.top) * this.ratio;\n",
       "\n",
       "    this.send_message(name, {\n",
       "        x: x,\n",
       "        y: y,\n",
       "        button: event.button,\n",
       "        step: event.step,\n",
       "        modifiers: getModifiers(event),\n",
       "        guiEvent: simpleKeys(event),\n",
       "    });\n",
       "\n",
       "    return false;\n",
       "};\n",
       "\n",
       "mpl.figure.prototype._key_event_extra = function (_event, _name) {\n",
       "    // Handle any extra behaviour associated with a key event\n",
       "};\n",
       "\n",
       "mpl.figure.prototype.key_event = function (event, name) {\n",
       "    // Prevent repeat events\n",
       "    if (name === 'key_press') {\n",
       "        if (event.key === this._key) {\n",
       "            return;\n",
       "        } else {\n",
       "            this._key = event.key;\n",
       "        }\n",
       "    }\n",
       "    if (name === 'key_release') {\n",
       "        this._key = null;\n",
       "    }\n",
       "\n",
       "    var value = '';\n",
       "    if (event.ctrlKey && event.key !== 'Control') {\n",
       "        value += 'ctrl+';\n",
       "    }\n",
       "    else if (event.altKey && event.key !== 'Alt') {\n",
       "        value += 'alt+';\n",
       "    }\n",
       "    else if (event.shiftKey && event.key !== 'Shift') {\n",
       "        value += 'shift+';\n",
       "    }\n",
       "\n",
       "    value += 'k' + event.key;\n",
       "\n",
       "    this._key_event_extra(event, name);\n",
       "\n",
       "    this.send_message(name, { key: value, guiEvent: simpleKeys(event) });\n",
       "    return false;\n",
       "};\n",
       "\n",
       "mpl.figure.prototype.toolbar_button_onclick = function (name) {\n",
       "    if (name === 'download') {\n",
       "        this.handle_save(this, null);\n",
       "    } else {\n",
       "        this.send_message('toolbar_button', { name: name });\n",
       "    }\n",
       "};\n",
       "\n",
       "mpl.figure.prototype.toolbar_button_onmouseover = function (tooltip) {\n",
       "    this.message.textContent = tooltip;\n",
       "};\n",
       "\n",
       "///////////////// REMAINING CONTENT GENERATED BY embed_js.py /////////////////\n",
       "// prettier-ignore\n",
       "var _JSXTOOLS_RESIZE_OBSERVER=function(A){var t,i=new WeakMap,n=new WeakMap,a=new WeakMap,r=new WeakMap,o=new Set;function s(e){if(!(this instanceof s))throw new TypeError(\"Constructor requires 'new' operator\");i.set(this,e)}function h(){throw new TypeError(\"Function is not a constructor\")}function c(e,t,i,n){e=0 in arguments?Number(arguments[0]):0,t=1 in arguments?Number(arguments[1]):0,i=2 in arguments?Number(arguments[2]):0,n=3 in arguments?Number(arguments[3]):0,this.right=(this.x=this.left=e)+(this.width=i),this.bottom=(this.y=this.top=t)+(this.height=n),Object.freeze(this)}function d(){t=requestAnimationFrame(d);var s=new WeakMap,p=new Set;o.forEach((function(t){r.get(t).forEach((function(i){var r=t instanceof window.SVGElement,o=a.get(t),d=r?0:parseFloat(o.paddingTop),f=r?0:parseFloat(o.paddingRight),l=r?0:parseFloat(o.paddingBottom),u=r?0:parseFloat(o.paddingLeft),g=r?0:parseFloat(o.borderTopWidth),m=r?0:parseFloat(o.borderRightWidth),w=r?0:parseFloat(o.borderBottomWidth),b=u+f,F=d+l,v=(r?0:parseFloat(o.borderLeftWidth))+m,W=g+w,y=r?0:t.offsetHeight-W-t.clientHeight,E=r?0:t.offsetWidth-v-t.clientWidth,R=b+v,z=F+W,M=r?t.width:parseFloat(o.width)-R-E,O=r?t.height:parseFloat(o.height)-z-y;if(n.has(t)){var k=n.get(t);if(k[0]===M&&k[1]===O)return}n.set(t,[M,O]);var S=Object.create(h.prototype);S.target=t,S.contentRect=new c(u,d,M,O),s.has(i)||(s.set(i,[]),p.add(i)),s.get(i).push(S)}))})),p.forEach((function(e){i.get(e).call(e,s.get(e),e)}))}return s.prototype.observe=function(i){if(i instanceof window.Element){r.has(i)||(r.set(i,new Set),o.add(i),a.set(i,window.getComputedStyle(i)));var n=r.get(i);n.has(this)||n.add(this),cancelAnimationFrame(t),t=requestAnimationFrame(d)}},s.prototype.unobserve=function(i){if(i instanceof window.Element&&r.has(i)){var n=r.get(i);n.has(this)&&(n.delete(this),n.size||(r.delete(i),o.delete(i))),n.size||r.delete(i),o.size||cancelAnimationFrame(t)}},A.DOMRectReadOnly=c,A.ResizeObserver=s,A.ResizeObserverEntry=h,A}; // eslint-disable-line\n",
       "mpl.toolbar_items = [[\"Home\", \"Reset original view\", \"fa fa-home\", \"home\"], [\"Back\", \"Back to previous view\", \"fa fa-arrow-left\", \"back\"], [\"Forward\", \"Forward to next view\", \"fa fa-arrow-right\", \"forward\"], [\"\", \"\", \"\", \"\"], [\"Pan\", \"Left button pans, Right button zooms\\nx/y fixes axis, CTRL fixes aspect\", \"fa fa-arrows\", \"pan\"], [\"Zoom\", \"Zoom to rectangle\\nx/y fixes axis\", \"fa fa-square-o\", \"zoom\"], [\"\", \"\", \"\", \"\"], [\"Download\", \"Download plot\", \"fa fa-floppy-o\", \"download\"]];\n",
       "\n",
       "mpl.extensions = [\"eps\", \"jpeg\", \"pgf\", \"pdf\", \"png\", \"ps\", \"raw\", \"svg\", \"tif\", \"webp\"];\n",
       "\n",
       "mpl.default_extension = \"png\";/* global mpl */\n",
       "\n",
       "var comm_websocket_adapter = function (comm) {\n",
       "    // Create a \"websocket\"-like object which calls the given IPython comm\n",
       "    // object with the appropriate methods. Currently this is a non binary\n",
       "    // socket, so there is still some room for performance tuning.\n",
       "    var ws = {};\n",
       "\n",
       "    ws.binaryType = comm.kernel.ws.binaryType;\n",
       "    ws.readyState = comm.kernel.ws.readyState;\n",
       "    function updateReadyState(_event) {\n",
       "        if (comm.kernel.ws) {\n",
       "            ws.readyState = comm.kernel.ws.readyState;\n",
       "        } else {\n",
       "            ws.readyState = 3; // Closed state.\n",
       "        }\n",
       "    }\n",
       "    comm.kernel.ws.addEventListener('open', updateReadyState);\n",
       "    comm.kernel.ws.addEventListener('close', updateReadyState);\n",
       "    comm.kernel.ws.addEventListener('error', updateReadyState);\n",
       "\n",
       "    ws.close = function () {\n",
       "        comm.close();\n",
       "    };\n",
       "    ws.send = function (m) {\n",
       "        //console.log('sending', m);\n",
       "        comm.send(m);\n",
       "    };\n",
       "    // Register the callback with on_msg.\n",
       "    comm.on_msg(function (msg) {\n",
       "        //console.log('receiving', msg['content']['data'], msg);\n",
       "        var data = msg['content']['data'];\n",
       "        if (data['blob'] !== undefined) {\n",
       "            data = {\n",
       "                data: new Blob(msg['buffers'], { type: data['blob'] }),\n",
       "            };\n",
       "        }\n",
       "        // Pass the mpl event to the overridden (by mpl) onmessage function.\n",
       "        ws.onmessage(data);\n",
       "    });\n",
       "    return ws;\n",
       "};\n",
       "\n",
       "mpl.mpl_figure_comm = function (comm, msg) {\n",
       "    // This is the function which gets called when the mpl process\n",
       "    // starts-up an IPython Comm through the \"matplotlib\" channel.\n",
       "\n",
       "    var id = msg.content.data.id;\n",
       "    // Get hold of the div created by the display call when the Comm\n",
       "    // socket was opened in Python.\n",
       "    var element = document.getElementById(id);\n",
       "    var ws_proxy = comm_websocket_adapter(comm);\n",
       "\n",
       "    function ondownload(figure, _format) {\n",
       "        window.open(figure.canvas.toDataURL());\n",
       "    }\n",
       "\n",
       "    var fig = new mpl.figure(id, ws_proxy, ondownload, element);\n",
       "\n",
       "    // Call onopen now - mpl needs it, as it is assuming we've passed it a real\n",
       "    // web socket which is closed, not our websocket->open comm proxy.\n",
       "    ws_proxy.onopen();\n",
       "\n",
       "    fig.parent_element = element;\n",
       "    fig.cell_info = mpl.find_output_cell(\"<div id='\" + id + \"'></div>\");\n",
       "    if (!fig.cell_info) {\n",
       "        console.error('Failed to find cell for figure', id, fig);\n",
       "        return;\n",
       "    }\n",
       "    fig.cell_info[0].output_area.element.on(\n",
       "        'cleared',\n",
       "        { fig: fig },\n",
       "        fig._remove_fig_handler\n",
       "    );\n",
       "};\n",
       "\n",
       "mpl.figure.prototype.handle_close = function (fig, msg) {\n",
       "    var width = fig.canvas.width / fig.ratio;\n",
       "    fig.cell_info[0].output_area.element.off(\n",
       "        'cleared',\n",
       "        fig._remove_fig_handler\n",
       "    );\n",
       "    fig.resizeObserverInstance.unobserve(fig.canvas_div);\n",
       "\n",
       "    // Update the output cell to use the data from the current canvas.\n",
       "    fig.push_to_output();\n",
       "    var dataURL = fig.canvas.toDataURL();\n",
       "    // Re-enable the keyboard manager in IPython - without this line, in FF,\n",
       "    // the notebook keyboard shortcuts fail.\n",
       "    IPython.keyboard_manager.enable();\n",
       "    fig.parent_element.innerHTML =\n",
       "        '<img src=\"' + dataURL + '\" width=\"' + width + '\">';\n",
       "    fig.close_ws(fig, msg);\n",
       "};\n",
       "\n",
       "mpl.figure.prototype.close_ws = function (fig, msg) {\n",
       "    fig.send_message('closing', msg);\n",
       "    // fig.ws.close()\n",
       "};\n",
       "\n",
       "mpl.figure.prototype.push_to_output = function (_remove_interactive) {\n",
       "    // Turn the data on the canvas into data in the output cell.\n",
       "    var width = this.canvas.width / this.ratio;\n",
       "    var dataURL = this.canvas.toDataURL();\n",
       "    this.cell_info[1]['text/html'] =\n",
       "        '<img src=\"' + dataURL + '\" width=\"' + width + '\">';\n",
       "};\n",
       "\n",
       "mpl.figure.prototype.updated_canvas_event = function () {\n",
       "    // Tell IPython that the notebook contents must change.\n",
       "    IPython.notebook.set_dirty(true);\n",
       "    this.send_message('ack', {});\n",
       "    var fig = this;\n",
       "    // Wait a second, then push the new image to the DOM so\n",
       "    // that it is saved nicely (might be nice to debounce this).\n",
       "    setTimeout(function () {\n",
       "        fig.push_to_output();\n",
       "    }, 1000);\n",
       "};\n",
       "\n",
       "mpl.figure.prototype._init_toolbar = function () {\n",
       "    var fig = this;\n",
       "\n",
       "    var toolbar = document.createElement('div');\n",
       "    toolbar.classList = 'btn-toolbar';\n",
       "    this.root.appendChild(toolbar);\n",
       "\n",
       "    function on_click_closure(name) {\n",
       "        return function (_event) {\n",
       "            return fig.toolbar_button_onclick(name);\n",
       "        };\n",
       "    }\n",
       "\n",
       "    function on_mouseover_closure(tooltip) {\n",
       "        return function (event) {\n",
       "            if (!event.currentTarget.disabled) {\n",
       "                return fig.toolbar_button_onmouseover(tooltip);\n",
       "            }\n",
       "        };\n",
       "    }\n",
       "\n",
       "    fig.buttons = {};\n",
       "    var buttonGroup = document.createElement('div');\n",
       "    buttonGroup.classList = 'btn-group';\n",
       "    var button;\n",
       "    for (var toolbar_ind in mpl.toolbar_items) {\n",
       "        var name = mpl.toolbar_items[toolbar_ind][0];\n",
       "        var tooltip = mpl.toolbar_items[toolbar_ind][1];\n",
       "        var image = mpl.toolbar_items[toolbar_ind][2];\n",
       "        var method_name = mpl.toolbar_items[toolbar_ind][3];\n",
       "\n",
       "        if (!name) {\n",
       "            /* Instead of a spacer, we start a new button group. */\n",
       "            if (buttonGroup.hasChildNodes()) {\n",
       "                toolbar.appendChild(buttonGroup);\n",
       "            }\n",
       "            buttonGroup = document.createElement('div');\n",
       "            buttonGroup.classList = 'btn-group';\n",
       "            continue;\n",
       "        }\n",
       "\n",
       "        button = fig.buttons[name] = document.createElement('button');\n",
       "        button.classList = 'btn btn-default';\n",
       "        button.href = '#';\n",
       "        button.title = name;\n",
       "        button.innerHTML = '<i class=\"fa ' + image + ' fa-lg\"></i>';\n",
       "        button.addEventListener('click', on_click_closure(method_name));\n",
       "        button.addEventListener('mouseover', on_mouseover_closure(tooltip));\n",
       "        buttonGroup.appendChild(button);\n",
       "    }\n",
       "\n",
       "    if (buttonGroup.hasChildNodes()) {\n",
       "        toolbar.appendChild(buttonGroup);\n",
       "    }\n",
       "\n",
       "    // Add the status bar.\n",
       "    var status_bar = document.createElement('span');\n",
       "    status_bar.classList = 'mpl-message pull-right';\n",
       "    toolbar.appendChild(status_bar);\n",
       "    this.message = status_bar;\n",
       "\n",
       "    // Add the close button to the window.\n",
       "    var buttongrp = document.createElement('div');\n",
       "    buttongrp.classList = 'btn-group inline pull-right';\n",
       "    button = document.createElement('button');\n",
       "    button.classList = 'btn btn-mini btn-primary';\n",
       "    button.href = '#';\n",
       "    button.title = 'Stop Interaction';\n",
       "    button.innerHTML = '<i class=\"fa fa-power-off icon-remove icon-large\"></i>';\n",
       "    button.addEventListener('click', function (_evt) {\n",
       "        fig.handle_close(fig, {});\n",
       "    });\n",
       "    button.addEventListener(\n",
       "        'mouseover',\n",
       "        on_mouseover_closure('Stop Interaction')\n",
       "    );\n",
       "    buttongrp.appendChild(button);\n",
       "    var titlebar = this.root.querySelector('.ui-dialog-titlebar');\n",
       "    titlebar.insertBefore(buttongrp, titlebar.firstChild);\n",
       "};\n",
       "\n",
       "mpl.figure.prototype._remove_fig_handler = function (event) {\n",
       "    var fig = event.data.fig;\n",
       "    if (event.target !== this) {\n",
       "        // Ignore bubbled events from children.\n",
       "        return;\n",
       "    }\n",
       "    fig.close_ws(fig, {});\n",
       "};\n",
       "\n",
       "mpl.figure.prototype._root_extra_style = function (el) {\n",
       "    el.style.boxSizing = 'content-box'; // override notebook setting of border-box.\n",
       "};\n",
       "\n",
       "mpl.figure.prototype._canvas_extra_style = function (el) {\n",
       "    // this is important to make the div 'focusable\n",
       "    el.setAttribute('tabindex', 0);\n",
       "    // reach out to IPython and tell the keyboard manager to turn it's self\n",
       "    // off when our div gets focus\n",
       "\n",
       "    // location in version 3\n",
       "    if (IPython.notebook.keyboard_manager) {\n",
       "        IPython.notebook.keyboard_manager.register_events(el);\n",
       "    } else {\n",
       "        // location in version 2\n",
       "        IPython.keyboard_manager.register_events(el);\n",
       "    }\n",
       "};\n",
       "\n",
       "mpl.figure.prototype._key_event_extra = function (event, _name) {\n",
       "    // Check for shift+enter\n",
       "    if (event.shiftKey && event.which === 13) {\n",
       "        this.canvas_div.blur();\n",
       "        // select the cell after this one\n",
       "        var index = IPython.notebook.find_cell_index(this.cell_info[0]);\n",
       "        IPython.notebook.select(index + 1);\n",
       "    }\n",
       "};\n",
       "\n",
       "mpl.figure.prototype.handle_save = function (fig, _msg) {\n",
       "    fig.ondownload(fig, null);\n",
       "};\n",
       "\n",
       "mpl.find_output_cell = function (html_output) {\n",
       "    // Return the cell and output element which can be found *uniquely* in the notebook.\n",
       "    // Note - this is a bit hacky, but it is done because the \"notebook_saving.Notebook\"\n",
       "    // IPython event is triggered only after the cells have been serialised, which for\n",
       "    // our purposes (turning an active figure into a static one), is too late.\n",
       "    var cells = IPython.notebook.get_cells();\n",
       "    var ncells = cells.length;\n",
       "    for (var i = 0; i < ncells; i++) {\n",
       "        var cell = cells[i];\n",
       "        if (cell.cell_type === 'code') {\n",
       "            for (var j = 0; j < cell.output_area.outputs.length; j++) {\n",
       "                var data = cell.output_area.outputs[j];\n",
       "                if (data.data) {\n",
       "                    // IPython >= 3 moved mimebundle to data attribute of output\n",
       "                    data = data.data;\n",
       "                }\n",
       "                if (data['text/html'] === html_output) {\n",
       "                    return [cell, data, j];\n",
       "                }\n",
       "            }\n",
       "        }\n",
       "    }\n",
       "};\n",
       "\n",
       "// Register the function which deals with the matplotlib target/channel.\n",
       "// The kernel may be null if the page has been refreshed.\n",
       "if (IPython.notebook.kernel !== null) {\n",
       "    IPython.notebook.kernel.comm_manager.register_target(\n",
       "        'matplotlib',\n",
       "        mpl.mpl_figure_comm\n",
       "    );\n",
       "}\n"
      ],
      "text/plain": [
       "<IPython.core.display.Javascript object>"
      ]
     },
     "metadata": {},
     "output_type": "display_data"
    },
    {
     "data": {
      "text/html": [
       "<img src=\"data:image/png;base64,iVBORw0KGgoAAAANSUhEUgAAAoAAAAHgCAYAAAA10dzkAAAAAXNSR0IArs4c6QAAIABJREFUeF7tvQmYXFWZ///equ50J510EhISCNsAAwg4IwhBUEZFCBBUZB8eZ1gHUIQ4IDsqwqgsMoOAioAzLL+ZBxAcFhnZhciwjIMsAwjhPwgDsgSQJE0WutNdVf/nPaGK6uqqvufee/bzvc/jM0P6LO/7+Z6q+61zzzk3qdVqNcIFAiAAAiAAAiAAAiAQDYEEBjAarZEoCIAACIAACIAACAgCMIAYCCAAAiAAAiAAAiAQGQEYwMgER7ogAAIgAAIgAAIgAAOIMQACIAACIAACIAACkRGAAYxMcKQLAiAAAiAAAiAAAjCAGAMgAAIgAAIgAAIgEBkBGMDIBEe6IAACIAACIAACIAADiDEAAiAAAiAAAiAAApERgAGMTHCkCwIgAAIgAAIgAAIwgBgDIAACIAACIAACIBAZARjAyARHuiAAAiAAAiAAAiAAA4gxAAIgAAIgAAIgAAKREYABjExwpAsCIAACIAACIAACMIAYAyAAAiAAAiAAAiAQGQEYwMgER7ogAAIgAAIgAAIgAAOIMQACIAACIAACIAACkRGAAYxMcKQLAiAAAiAAAiAAAjCAGAMgAAIgAAIgAAIgEBkBGMDIBEe6IAACIAACIAACIAADiDEAAiAAAiAAAiAAApERgAGMTHCkCwIgAAIgAAIgAAIwgBgDIAACIAACIAACIBAZARjAyARHuiAAAiAAAiAAAiAAA4gxAAIgAAIgAAIgAAKREYABjExwpAsCIAACIAACIAACMIAYAyAAAiAAAiAAAiAQGQEYwMgER7ogAAIgAAIgAAIgAAOIMQACIAACIAACIAACkRGAAYxMcKQLAiAAAiAAAiAAAjCAGAMgAAIgAAIgAAIgEBkBGMDIBEe6IAACIAACIAACIAADiDEAAiAAAiAAAiAAApERgAGMTHCkCwIgAAIgAAIgAAIwgBgDIAACIAACIAACIBAZARjAyARHuiAAAiAAAiAAAiAAA4gxAAIgkJvAY489Rtdeey098MAD9H//9380Y8YM2nHHHel73/sebb755lLt/tmf/Rm98soromySJNTf308bbLAB7bTTTvR3f/d39IlPfEKqnc9+9rP0pz/9iZ599tkx5Tm2jTfemC688EI6+eSTpdrLU+jcc8+lrbbaivbZZ5/U6vWYuOB3v/td+ta3vjWmzt/8zd/QddddR319fbRixYrUNlEABEAABGQJwADKkkI5EACBMQQOOOAAevjhh+nAAw+kv/zLv6TFixfTj3/8Y2FW/uu//os++tGPplJjAzh9+nQ66aSTRNnly5fT888/TzfddJNo78QTT6SLLrootR0XDODkyZOJmVxzzTWp8dYNYG9vL22yySb0+9//flSdlStX0uzZs6lSqVC5XIYBTCWKAiAAAlkIwABmoYWyIAACowg88sgjtP3229OECRMa//6///u/9Bd/8RfCCP3bv/1bKjE2gGwU/+M//mNU2ffff5++/OUv06233kqXXXYZHXvsseO25asB3G+//ejmm2+mp556ij72sY81cuSZv8MPP5z23HNPuv/++2EAU0cSCoAACGQhAAOYhRbKggAISBHYbrvtRLnHH388tXwnA8gVeSZxo402ookTJ9If//hH8Yi405XHAC5btozOPvts+vd//3d6++23xaPno48+mk455RQqlUqNrv7xH/9RmLQXXniBVq1aJR7znnHGGcLk1q92sR122GEdZwObH0uzweVZ1AsuuKDR3uc//3kx87fWWmvRL37xi1EG8LbbbqMrr7ySnnzySXr33Xdp/fXXF2bxzDPPFHXqV50JP6ZfsGCBKL/OOuvQaaedRl/96ldTtUEBEACBcAnAAIarLTIDASsEarWaMFJbb7013X333akxjGcAufJRRx1F//Iv/yLW9nGb4xnAt956i/7zP/9zTBE2jx//+MdHrQFkI8frDF9//XX6yle+QhtuuCHxjOa//uu/0te//nW6+OKLG+1wPnvvvbcwfqtXr6YbbriB/vu//1vMWrJR44tnOznWHXbYgY455hjxb5tuuqnoo93VbACXLl0q6vO/sZHktYzrrruuiOWuu+4aYwD33XdfMes6d+5c4sfOPEPIj8x5fSOvc2w2gDwjOzIyQgcddJBYl3njjTfSQw89JJgeeeSRqfqgAAiAQJgEYADD1BVZgYA1AmxkDjnkEGmDkWYA2YjxOkCe9WITNp4B/M1vfjNu3s2bQHijyvnnny9mxTbbbLNGPZ7Z43Ivv/yyMLJ88eNonoWsX8PDw8JQzpo1i3796183/j3PGkDua/78+eIxOJvXnXfeWTzy5lk6NrRf+9rXxhjA1ng4AJ7RY8O4ZMkS6unpETHxDCAz+ad/+if6xje+If6NDSxvrHnjjTfotddeo+7ubmtjBR2DAAjYIwADaI89egaB4AgsWrRImAueqWMz0/w4slOyaQbwn//5n8VjWTaWvCt2PAPIu4l/9rOfjSnCRupv//ZvR80A8nq7OXPmCNPUfP3P//wP7bbbbh3749k63phx1lln0fXXX0/83/UrrwHkmTuOh83fT37yE/F/mQvnzI92Wx8BN8fLm2aGhobEbCvn2LyWkA0gb9LhR928k7h+XX755WJN5aOPPip2beMCARCIjwAMYHyaI2MQ0EKAd+x+6lOfIp4d4x3AbK7q18DAgJhFq1/8+JLXtvGVZgCzzABmOQZm0qRJo2JqhcI7j3nmkS9+1Mszhmyu2GzVL35cW61WlRhAXv/HM3X8GJof1XKfe+21V1sDyDuG+dgYfvT73nvvjQqdZ/w+/elPi39jA8gzmfVjduoFud6uu+4qDOzBBx+sZTygURAAAbcJwAC6rQ+iAwEvCLDBY7Px6quvipk/XivXfPEsFm9EqF+f+cxnaOHChVIGsL4GkE1Pa7vNfWTdBMLHr7BROvXUU9syZhPG6wI5H46Xyx566KFibR4/Nr366qvFGX285rF+FZkBZHZshrkvXu/45ptvUldX1xgDyLN5f/7nfy7OS/z7v/97sc6Qc3niiSfEY2M+k5FZwAB68dFBkCBgjQAMoDX06BgEwiAwODhIu+++u9jxe99997Xd9PDcc8+JNWf1i8/9q+8UltkFzI8veRZL5S5gfkw9depUMeM23nXCCSeIHbf8qLe+to7L1w9pbjaAU6ZMof333z/TOYDN6xL/6q/+SmzQ4MezvA6Qr9ZHwHwsDm8CaZ7p43L86Js3n7QaQDwCDuNzhixAQDUBGEDVRNEeCEREgNfC8Tl2d9xxh9ikwY8ss14y5wDymjXeqTvelXUG8JxzzhFHwPAu2z322GNU0zzLxrN5PAPHB1Rz/++88w7xY2O+eLcuG0jeSdxsAPmIFV5TxyYt7Wr3dhI2dWzg/vqv/5q23HLLtgbw9ttvF5theAaVZwv5qm/s4EfUrQaw0yYQ3v3M/8MmkDSl8HcQCJMADGCYuiIrEDBCgGfHLrnkEvriF78ojhlpvXhTQtrV+iYQPvuPZwzrbwJhA8bn8KVdWQ0gmzeecXv66afFLBvPSPLbN5555hmx6YIN2syZM8U6O14vx2X5YGo+L5A3arDZ47rNBpCPhGHD9Q//8A9iDSS/fq7Tq+xkX0/XOgPI5/7xrmV+BMzH1fCsKG9k4bWIvIGl1QDWj4FhU8mPtX/+85+LWUae1eTNNbhAAATiJAADGKfuyBoElBCoHzPSqbFmc9SpTOu7gPkxKh+/8slPfrJxrp5MsFkNILfJZpPf38tmk9fgsalik8Szmmyu6rNjV111lTgyhsuwqeO1dmzgeBaxOUc+KJofw/I7knnTi+xB0OO9n7jdLmB+bM3GmA0fP05no80mlWcyWw0gb4xpPgiaXy/HB10fd9xxMlhRBgRAIFACMICBCou0QAAEQGA8Uww6IAACcROAAYxbf2QPAiAQMAEYwIDFRWogUJAADGBBgKgOAiAAAq4SgAF0VRnEBQL2CcAA2tcAEYAACICAFgIwgFqwolEQCIIADGAQMuZPgncz8jlk/BYHfhXVj370I/Eye1wgAAIgAAIgAALhEoABDFfb1Mz4OAh+swGfccZHVfArt3g3JO9k5Jfc4wIBEAABEAABEAiTAAxgmLpKZcWmb+7cufTjH/9YlOdzxPj4jQULFtDpp58u1QYKgQAIgAAIgAAI+EcABtA/zZREzG8O4Lca8IG3++yzT6NNPreM34LAb3XABQIgAAIgAAIgECYBGMAwdU3Nit/Lut5664n3oO60006N8qeeeqp4k8Fvf/vbUW0MDQ0R/69+8WzhkiVLaMaMGeO+nzU1EBQAARAAARCwQoAPMV++fLl4a02pVLISAzq1RwAG0B57qz1nNYD8zlR+6wEuEAABEACBsAj88Y9/pPXXXz+spJBNKgEYwFREYRbI+gi4dQZwYGCANtxwQ9qZ9qIu6g4TErICAdMEkoQoKRFVKx/2XCqP/m/TMXnY320D/09E/aWph3oYvbmQR2iYHqI7xLKfqVOnmusYPTlBAAbQCRnsBMGbQPjIFz76hS9+rMum7vjjj0/dBPLee++JL4zP0peoK3HHACZdXVSr1vTfMB27Kd9bvakxiOaVDrQzoDT0Wpo0iaqrVmloGU2GTKD+eQjps6BDr5HaMC2k24h/0PN7sHHFRQAGMC69R2XLx8Dwpo8rrrhCGEE+BubGG2+kRYsWEb8wfrzLVQPYte46VH1vOVVXrtSmrFKzpchIjoqpfBBRraYtfx8bVqqZjwAQcxgEeIZY4WcbBjCMYZE3CxjAvOQCqcdHwNQPgt5mm23o0ksvFWcCpl2uGsC0uEmB4VJqJhTEwznnMoB8M+FL4Q0llb+lAko1s5SDdLeKxpR0fyjoLQEYQG+lUxI4DKASjPE14q0BVCCVi2YiV0yKZxMUoNXWRDSPBJOESj09VB0c1MYSDftBIOnpodrq1eP+wIMB9ENLXVHCAOoiG3i7MRvAwKV1J72IDKo70BFJTARgAGNSe2yuMIBx6587exjA3OhQMXYCacY2okfzsQ8F2/nDANpWwG7/MIB2+Xvbu1UDyGucatUo1q55O0BiDTzN3DEXmTKh8YOpdVJRGEAnZTEWFAygMdRhdWTVAHp0AxXrcJreoNJxFCQJJeUy1UZGig0UF2+0rujlShzFFA67NjQyqi8MoFHcznUGA+icJH4EZNUAtkOEG8caKkUMYFaGWctbHNqlvr415wlGsON5DGaPdLI4RD78/NgcI4a1ggG0PuKsBgADaBW/v507ZwD9Rell5HzgNvGMpczsZmuGmm9ybXf8Rnw0StI9gWrDq70cZ7EELX6gaDy7tBNHGMBYRlj7PGEA49Y/d/YwgLnRoaJmAtEc+aKZI5o3SEDzjyIYQINaetQVDKBHYrkUKgygS2ogFkGgyONvVQh5ppGv5nf5qmob7YCAYgKYAVQM1LPmYAA9E8yVcAsZQEu/dl1hN14cLj6uE+9XrlTiXD+XddDw2E5K0RvAXAeTZ2UdUnlLP15gAEMaRNlzgQHMzgw1iAgGEMMABECgEwEYwGxjg3/48dFWhU8ByNYtwQBmBBZYcRjAwAQ1lc64BlB2hk+2nKmk0I/zBJybjcQYbjtmYACd/yiJAGEA/dBJV5QwgLrIBt5uoRnAwNkgPccIOGzSpM+JzIjUOaOcMf5cxS09RvX5YG8YwFwjLZhKMIDBSGk2ERhAs7zRW6AEYjqeRoMRx0xjsc8FDGAxfr7XhgH0XUFL8cMAWgKPbkEABBoEYACLDQYYwGL8fK8NA+i7gpbij94AapjNsCQlugWBuAjgs9vQGwYwrqHfmi0MYNz6585eiQH09cw0fm9vVzferpB79KAiCICACwRgAF1QwV4MMID22HvdsxID6DUBBK+EQExr4JQAQyOqCODxMXYBqxpLvrYDA+ircpbjjt4AsnGpVfMfjhzjY6jmnG0bv6L6Wf78Fe4+z/hLEipPm0aVpUvHdp+nvcJJFGvAJwNYnj2LqkuWKX/qgBnAYmPI99owgL4raCn+6A1gM/c8N788dSxpjW4DJBC7AQ5AUikDm/I9AwMYwEAokAIMYAF4MVdtNoAP1G5toJhXOjBmLJlzd/HVb5mTQAV/CJj64aGiHxVtKFRG15mNeUOUMoApjcMA5qUfRj0YwDB0NJ4FDKAa5DCAajiiFUkCJkwVPyqe2k+VZQOSQbUpxhutymXjr0bLH7D5mjCA5pmH1iMMYGiKGsrHhgFUbpZM3Axl9XApFtmYbZUDK1vk9fSbV0+fduPnzVEP8UarmAHUDNjx5mEAHRfI1fCCWANoeyOCq+IiLhCoE3DUuGQWCJ/1tshgADOPpKAqwAAGJae5ZIIwgOZwoae8BHwxIJrjFOvPVq/Ov+s8L/8C9UpTphBVq1RduZKsv5tYsz4FMFmtCgNoFb/1zmEArUvgZwAwgH7qhqj9JFDu76fK8uVeGUBi08VXreYn9JSolS9JsUAJBtACdIe6hAF0SAyfQpE2gDZ/ebv62Efyxlhf5D2vfFB4N9HWcWFwnDS4urZj3dXx6sMXE4+fpERUrTSiFbOOIyPaoi/19lJ1cFC+fYNjXDYoGEBZUmGWgwEMU1ftWUkbQB2RSHyR8uOnKs+YeHyZNCoqdhRmQc03z1qlqvxgW5kYTHIdFY/EuJWJH2X0EcgzNkx/dlRmDwOokqZ/bcEA+qeZExFbNYAyBDCbIkOpUcbnm1imRIkoz00+ax8ob4CABkOdZ2z4/NmBATQwTh3uAgbQYXFcDs15A+gyPAdj03YTU32Tbmovz81aJ3rdjxx1xm68bdXjwngCH3ao9LMjuTxEVbowgKpI+tkODKCfulmPGgbQugReBFDq6xO7QJVdLhrAekwBmRplevnWUFYNk4TurdzYyHLPGce0f1dyDg4mflDAAOYQJqAqMIABiWkylXENYNYvUZOBoy8Q8JkAPlt61cvBt3kGcPeJf0u1oSG9MSpsHQZQIUwPm4IB9FA0F0LGDKALKrgdQ3nmDKoOLLey0UMJGcOP45TEjEa0E2h95DvKAPb8jVfjHQZQ+3BxugMYQKflcTc4GEB5bfhRDl86j6SQjya9pKqX3ps2gKriHkUIm4lGD5gcPPi8PKpVvRn/aZ+Qcdf85eCT1p/Ov8MA6qTrftswgO5r5GSEtgyg0gXXTpJ1IKgcj8EciFpNCBpv4CEcTaQGMlpxhQAMoCtK2IkDBtAOd+97hQH0XkLjCVh/HZhMxhoNIOlsu56biT5kOCooE82PPYs/uGAAFQxUj5uAAfRYPJuhwwDapI++cxGweKPNFa9MJTZ8teqHb4oJKEcvDaBn/GEAZT5k4ZaBAQxXW62Z2TKAeZPi9WiVd5eE90q1vEAirFeePl28HcbaWkzPzIHtIeKlAbQNLWP/MIAZgQVWHAYwMEFNpdMwgMk+1EVrNjlou7LcOHlGhK+md4Lyf7Z9cXtAj8u0sUfD6gg0j7csY1pdBOZbiiVP82SV9AgDqASjt43AAHornd3Ac88A4oZgVzj0rp8AflisYcyf9aQ05seYbgFce0OM7nyLtA8DWISe/3VhAP3X0EoGbQ0gzJ0VLZzvNBBDJPVmhiSh8oy1qPKnd52XJcQA8dg4m6owgNl4hVYaBjA0RQ3lk3sG0FB86MYygSShpFxes94OPwyKiaGYn1gOUakYn5krBkGuNgygHKd6KRjAbLxCKw0DGJqihvJpNoDd3RPtLaw3lK+2bhTf3LXFiYZBAASCIwADGJykmRKCAcyEC4XrBLTOAMIUYaCBQDoBnmWdMMGrd8+mJ4USJgnAAJqk7V5fMIDuaeJFRFoNoBcEPA0S5tpT4RA2CKgnAAOonqlPLcIA+qSWQ7HaNoBY6zPOYChi8orUdWh8Kg+FZ9u6uqk2vFp502hwLIHSpEnE73auLF0aPB6b7wqHAQx+eI2bIAxg3Prnzh4GMDc6VPSQAN+k+V2+HQ0JjLNSVYUp4k1EQ0NK2/W1sVJvr1hnrfoQcxhAX0eEmrhhANVwjK4VGMDoJPc2YanjW4pkx+aPr1qtSCuo6yIBR4w9z4ZSpQID6OIY8TgmGECPxbMZum0DaDN39A0Cowg4YhKgigYClsw9/2jh/1UHBzUk9WGTmAHUitf5xmEAnZfIzQCVGUBLX7BuUm2JSpOx0D4jJgtXU36y3XtVLpDDtL1iHkGwMIARiDxOijCAceufO3tlBjB3BKiYl0Cpr4+qK1fmra6nXosZ5EdeWP+lBzVatUhAxY8eFW18gAAG0OJYcKBrGEAHRPAxBBhAH1XzJOZSmZJSony9kyfZI0wQMEZghEZoYe1WGhgYoP7+fmP9oiM3CMAAuqGDd1E4ZQAV/iL2TogAAy7PnEGUlKjyzjsBZoeUQMAdApgBdEcLG5HAANqgHkCfThnAojxDM5B511WGxqHouPC1PtYLZlcuUmYwgNmHSkg1YABDUtNgLkYMIAyJQUXj64rP9asNDoV1uHOSUHlqP1WWDYwrqNgIVKmEfXRNlu+PZgOYpZ7nHxsYQM8FLBg+DGBBgLFWV2oATf/6Nt1frINEIm9lb3TJoWmQBlCCuSgSkcmRRdIol2MsZe7DkQowgI4IYSkMGEBL4H3vVqkB9B2G4vjLm29KlRf/j6haUdyye80pM4DupYaIQMB5AjCAzkukNUAYQK14w20cBlCfts6c06cvxUbLMIAGIKMLEOhAAAYw7qEBAxi3/rmz12UAk+4Ja9YmOT77FZNJyz1ITFb0+ZGmz7Gb1Bh9KScAA6gcqVcNwgB6JZc7weoygO5kmCES3MAzwIq06HhjJKI1Z6PUjzVvhz4CMIAOiWEhFBhAC9BD6BIGcLSKeJQZwqhGDiDgDoHytKmpu7mLRgsDWJSg3/VhAP3Wz1r0MIAwgNYGn0cd63ilnYofG6qXMNRjmlc60CN1HA+1ZdZYB2MYQMfHgObwYAA1Aw61eRhAGMBQx7b2vAouGVBhAFUfA6PDnHTUoVSm8uQ+qrz3nnapXOpAB2MYQJcUNh8LDKB55kH0CAPYJGOS0L2VGxv/YGUWBOup/Phc4T3HanTqZKI/+HcdZklN4G61AgPolh6mo4EBNE28YH9nn302nXPOOaNa2WKLLWjRokXi3wYHB+mkk06iG264gYaGhmiPPfagyy67jGbPnt2o8+qrr9Kxxx5LDzzwAE2ePJkOO+wwOu+886irq0s6OhcMoNgxPLxaOmadBZXMyugMEG3bI1Bwxs9e4P72PN7nEZ/VD3WFAfR3jKuIHAZQBUWDbbAB/MUvfkH33Xdfo1c2bjNnzhT/zcbuV7/6FV1zzTU0depUOv7446lUKtHDDz8s/l6pVGibbbahddZZhy688EJ688036dBDD6Wjjz6azj33XOlMXDCA0sEaKOj0TQWzg+OPABg0A58Qg12kzMg7/Vk1iIm7ggE0DNyx7mAAHRMkLRw2gLfeeis99dRTY4oODAzQ2muvTddddx0dcMAB4u88M7jlllvSo48+SjvuuCPdeeed9IUvfIHeeOONxqzg5ZdfTqeddhq98847NGHChLQQxN9NGMDSpEmir+qqVeL/8owfXzKzfuM+Aupwwy/19lJ1cFAqf62FYEi04vWmcYyDdKk6MMIMYDo6GEA5RiGXggH0TF02gDxzx7N7vb29tNNOO4nHtxtuuCHdf//9tOuuu9LSpUtp2rRpjcw22mgjOuGEE+jEE0+ks846i375y1+OMpAvv/wybbLJJvTEE0/QtttuK0XEhAFsDUQYwmpVyqSNMYAys2C44Uppj0JmCIgdxKtXE9VqmTs0tgYOn5nM2rhUATOALqlhPhYYQPPMC/XIM3grVqwgXvfHj295PeDrr79Ozz77LN1+++10xBFHiLV/zdcOO+xAu+yyC11wwQV0zDHH0CuvvEJ33313o8iqVauor6+P7rjjDpo/f37b+LjN5nbZAG6wwQb0WfoSdSXdhXLSUdnYDVBH8LrbxE1bN2Hr7Ts7/jH2rI+N5gBgAJ2Sw3gwMIDGkavtcNmyZcQzfBdddBFNnDhRmwFst/mEM3HVAKqlHG5rqs+DC5cUMlNCAAZQCUZVjcAAqiLpZzswgH7qNirquXPn0m677Ubz5s3T9gjYtxlAr2TVeVMslak0sZeqK1faQ6IzP3tZudtzRLyxoaPYMIQBLMbP99owgJ4ryI+Def0fz9DxcS68CeT666+n/fffX2T2wgsv0Ec+8pExm0D48fGsWbNEmSuvvJJOOeUUevvtt6mnp0eKiI01gGmBidmsSiXXmqm0tr3+u8eGwNlHmV4PiHCChwHsoKXkZx4GMJzPQp5MYADzULNY5+STT6YvfvGL4rEv7+T9zne+IzZ0PPfcc8L88TEwvJaPj4Hp7++nBQsWiGgfeeQR8X/rx8DMmTOHfvCDH9DixYvpkEMOoaOOOsr8MTD8JZWUiKoVi0TRtTME2ty0RhlA3sjDF8aLM5IhkPwEXFh+AQOYX78QasIAeqbiwQcfTA8++CC9++67wvDtvPPO9P3vf5823XRTkUn9IGieBWw+CJrP/atfvAmEjeLChQvF5g+eOTz//PO9OwjaM+kQbg4CmAHMAa1TFZmd8Fm7Y9POV46dylm78qm8L+MWBtCnUaU+VhhA9UyjaNHFR8BBgPdhVnScx0suP5IrfFOWfKzm6jgscqyMqzm5GteYsebo2IEBdHUEmYkLBtAM5+B6gQHUK2lhs6I3PKIcB/DqDimtfeeZpiWAv4OAYgIwgIqBetYcDKBngrkSrlEDKDsrJluuIESVMymdTEmwZkVmJkTHo8qCmqM6CIRIAAYwRFXlc4IBlGeFkk0ElBtAGWOQpoBKAzhOPOWZM6iyZFnnzQgZcgnW6KVpNc7fS1OmUHXFCqwrK8AQVUFAhgAMoAylcMvAAIarrdbMlBtArdGi8XEJ8IxbrQrDhWECApERgAGMTPCWdGEA49Y/d/YwgLnRuVcxw4yl1eBMtZglAAAgAElEQVR9idMqJHSuhEAkyxBgAJWMFm8bgQH0Vjq7gcMA2uWvvXdfjvdoMoW2dyAn3RPWHESe5ZxCD40Gli1o//QZ6wAG0BhqJzuCAXRSFveDggF0X6PYIlRqAMebbVQ5E6myLUOCwwAaAm2gGxhAA5Ad7gIG0GFxXA4NBjCfOip3EOeLINxaSg1gJ0xJQl3rzaGR1143D9KXWVnVZFyZJU0SKvX0UHVwUHWG+tpLGTMwgPrQ+9AyDKAPKjkYIwygg6IgJPUEWmfobJowm32rJ4sW0wjonh1OEhIGsHYrDQwMiFeH4oqLAAxgXHoryxYGUBlKNAQCcRHQbWw+oGlkRthn5dgAUoUWVm+GAfRZxwKxwwAWgBdzVRhABeobuhEqiNSPJsDTD50MRRmcAWx+FN5mrItNSCPDmY5zwiNgQ4PR0W5gAB0VxvWwshrApKuLaiMjrqflZnwqjU3G9VRY8O/mkEBUIDCGQMbPNteHAYx7HMEAxq1/7uxTDaBrhwurNFFMLceXbW7YeSsqyNl1Ayg9y6OAhZBBVTt5NW1Xz8WYVObnSVs8A5f09lB1+XJPIoYB9EYoTYHCAGoCG3qzqQYQNyV9Q8AmW5t9tyEqawDF6+WK3phLZSpvtjFV/r8/ZHrMpm8gZGsZs/DZeGUuXSpTUi5TbXh15qq2KmAG0BZ5N/qFAXRDB++iSDWA3mXkYMDjmC3czNfoJWsAlanrmAFWlpfGhkq9vWL5B5aAaIScs2kYwJzgAqkGAxiIkKbTCNYA4qgN00MpvP5CHUM5lz3kekNKeKPCiYxafzDBADohi7UgYACtofe742ANoK+yYGbKV+UQt00CkX1uYABtDjb3+oYBdE8TLyKK0QC6viHCi4GDIMMkoHrWMzJjZmpQwACaIu1HPzCAfujkXJQwgM5J4nVAvE6ML69es+U1cceDt2EAbfRpWQY8ArYsgOXuYQAtC+Br96kGMOd6IZd4lCZNouqqVY2QvJ0BjPDG5tI4cjYWjAtnpTEVGAygKdJu9gMD6KYuzkcVgwEUi9c9OtLB+UFTJMAAflAUSR91PyDg0zhQYbBVtDHO4IEBjPuTBQMYt/65s081gLlbHr9iMMefaP5i14TfXrM+3fjtUULPIRFIEipPm0aVpUu1ZQUDqA2tFw3DAHohk3tB2jKAggTMk3sDAhGBAAh4RwAG0DvJlAYMA6gUZzyNWTWA8WBGpiAAApYI8Mak0DclwQBaGlyOdAsD6IgQvoVR2ACqfqSHWUHfhhDiBQEQsEwABtCyAJa7hwG0LICv3Rc2gL4mjrhBQDWB5jP0VP8wUh0r2guKAAxgUHJmTgYGMDMyVGACMICejgPbBgMztWMHTrMBdI2Pa/F4+rFLDVv1QdqpHa4pAAMoCSrQYjCAgQqrOy0YQN2EPW4fpsFj8TwLHWPtQ8FysIAB9Gy8Kw4XBlAx0FiagwF0WOkcNwKHs/EqtKSnh2qrVxPVaoVuzF4lbTFY08dCme4vL9rx4hRjdGgIM4B54QZUDwYwIDFNpgIDaJI2+jJOgB+V16qjjZzxINChawS61l+PRt5YTFStZA/N5A8zyb4wA5hdxpBqwACGpKbBXIwZQMkvMlWp+/ILX1W+4kxFvppnrJQ1joZAoIUAxptTQwIG0Ck5jAcDA2gceRgdGjGASUJJuUy1kRG3oGU1pZhNcks/VdFkHQeq+kU7IKCIAAygIpCeNgMD6KlwtsM2YgBtJjnOzV28I7hSkX4MJGYVqzXp8jbTdq1vvI/ZNUUQT0gEYABDUjN7LjCA2ZmhRsFjYO6t3iQYzisfVOjRI5/Un0yYQJX33oMmIAACzT9aMDuJ8SBBAAZQAlLARWAAAxZXZ2pFZgAbBrB0YLEQsZ6oGD/Ubk/A9lmJeXWB6ctLTm09j8YPDKBa6X1rDQbQN8UciXeUASxNyDSTp8wA1lngxldsVIDfKH6lvj6qrlqVaUwXEyC9tvLPTHqXKBEBARjACEQeJ0UYwLj1z519EQOYu1NUdI8AzKMRTYwZQI9mr4yAD7wTGMDABU5JDwYwbv1zZ1/kEXDuTrNW7HQzg2nJShLlQYDqJpRRzCu6fAM8CxEoTZokDhxPPSEh5bsOBrCQDN5XhgH0XkI7CXhhAEMwepZziO5cRDsfJ3d6HWe8wQA6JBOfLMAnEaSd35kyowsD6I6mNiKBAbRBPYA+vTCAAXDmnc7VwcEAMmmTgqy5bXcTk60bJjkrWcEAWsFevNNxTCAMYHG8PrcAA+izehZjhwHUBB/GRgoszlaUwoRCIDCWQNN3DAxg3AMEBjBu/XNn740BxFExuTVGRRAImkCkP7aSnh6qDQ0JaWEAgx7hqcnBAKYiQoF2BLwxgG2CN7aj0ubQifTmZhM5+h5LIIrPmsfCwwB6LJ6C0GEAFUCMsQkYQLdVx+YNt/WJJToYQLeVhgF0Wx/d0cEA6iYcaPtOGcAkofKfb0yVF19O3xUXqB5ICwRcJAAD6KIqH8YEA+i2PrqjgwHUTTjQ9p0ygMwYB9jaHWngb5e/x70n3RPWHGlSrXichZ+hwwD6qZuqqGEAVZGMrB3nDGBk/JEuCIRCgI864gONUw81DiXhHHmIJR3jnfuXJJR0dVNteHWm1mEAM+EKrjAMYHCSmklIxgCKX/YZv5DMRG+glzybMPLUMZBK8F34wB272YMfhjYShAG0Qd2dPmEA3dHCq0hkDKBXCSFYIgUmo/mICSBVSECBNgqjQVOBEIABDETInGnAAOYEF3s1GMAARwCv46tVx99IkzJbFvWsb4BDwtuUfJjVVQG3YJ4wgCpE8LcNGEB/tbMauVcG0OXZk4Jf4LoGgfTL5nUFYLjd3MfmZNUva3kdHGzFoKtfbEDKPUpgAHOjC6IiDGAQMppPIpMB1PXFbz7taHos9fWJtwVgYb6E5GxA+PpgF2tuM8mb2fv6qDRrJo28/IpExyjiCwH+QVVdtcq5cGEAnZPEaEAwgEZxh9NZFgOocl0YXkj/wRgqlSnp7mq80knpyHLBsLsQg1KoGRpTmbuq2TGVMWVA0baoS7HI5qJKB9n+JMvBAEqCCrQYDGCgwupOK4sBVBlLYQPo481DJUCZtsBIhhLKgID3BGAAvZewUAIwgIXwxVsZBnCN9kUe92UdPaUpU6i6YkX4bzthA5qUzB4M7OgMTdYxwuXF48b33w9/nOSBgzqjCMAAxj0gYADj1j939qkGELNIudlGU7HDrmM21WwAG2dIYixlGhJ8sHJ1cDBTHRTORiCUV9zBAGbTPbTSMIChKWoon1QDKKbHEsxCaNAj9TE4uMtRTxK6t3Jjo+y80oFy9VAqegIwgNEPgSAAwAAGIaP5JKQMoPmwwugxxcClGkAFFFJfPaWgDxeaMMHSWp74IWANvZMdtxkPmAF0UiljQcEAGkMdVkdaDWD9iwo3sLaDxoRp4eNIxLEVtVpYA7clG9UsTa4JDVoYJKecQLsfdTCAyjF71SAMoFdyuROsVgNYTxMG0B3BEUk6gSSh0sSJTp73lh48SlghYPk7DgbQiurOdAoD6IwUfgVixAD6hcS5aFXPbilN0PKNT2kuaEw7Ad9nVl39LMIAah+6TncAA+i0PO4Gp80AwhgoEb35hsMNYoODEqxoxGMCSkxYzuOClPStgT0MoAaoHjUJA+iRWC6FOq4BzPkl6VJ+vscCA+i7gohfNQEZE6Zr7atM36rzlWkPBlCGUrhlYAAd0/bBBx+kCy+8kB5//HF688036ZZbbqF99tmnEWWtVqPvfOc79LOf/YyWLVtGn/rUp+inP/0pbbbZZo0yS5YsoQULFtDtt99OpVKJ9t9/f7rkkkto8uTJjTJPP/00HXfccfTYY4/R2muvLcqfeuqp0jSUzQBixk+a+bgFW0x3FgPo6s1JCRiMLyUYQ2hEZpz7/qg5q06VroQeGL6JBgYGqL+/P2t1lPecAAygYwLeeeed9PDDD9N2221H++233xgDeMEFF9B5551H1157LW288cb07W9/m5555hl67rnnqLe3V2Qzf/58YR6vuOIKGh4epiOOOILmzp1L1113nfg7m7fNN9+cdtttNzrjjDNE/SOPPJIuvvhiOuaYY6SIKDOA9d74Rs1XyLtODZsRmRseI5ctJzUwUCiVQNI94cNDrlNLO1TA8PiVztzVuKQTsFcQM4D22LvQMwygCyp0iCFJklEGkGf/5syZQyeddBKdfPLJohb/cps9ezZdc801dPDBB9Pzzz9PW221lZjZ23777UWZu+66i/baay967bXXRH2eMfzmN79JixcvpgkTJogyp59+Ot166620aNEiKSKjDGBpgj3jhi//jnrJGjvZclIDA4XSCWDMrmHkA4eCMaow+zoPnYYBTP+4hlwCBtBhdVsN4EsvvUSbbropPfnkk7TNNts0Iv/MZz4j/psf81511VXCIC5durTx95GRETE7eNNNN9G+++5Lhx56qJgFZMNXvx544AH63Oc+R/z4ePr06alUMs0AYk1gKk/ZAjoeUUkZwII3Qtn8UK7jr0F7P7IgSjoBjZ8PGMB0/CiRjwAMYD5uRmq1GsBHHnlErPl74403aN11123EcNBBBxGX/fnPf07nnnuueDz8wgsvjIpx1qxZdM4559Cxxx5Lu+++u3h8zI+I6xc/Qt56663Fo+Qtt9xyTH5DQ0PE/6tfbAA32GAD+ix9ibqSbiM8ouxE440lSp5IGgRA4MPJARqhhbVbsQYw0jEBA+iw8C4ZwLPPPlsYyNbLOwMIQ+XwiEdoXjwWhUzBEMAj4GCkzJUIDGAubGYqufQI2MoMoAqzxm0kJaJqxYxoEfeiYr1TxPiQOggYJwADaBy5Ux3CADolx+hgOm0C4Q0gvM6PL34Uy493WzeB/O53vxM7ifm65557aM899xyzCeStt96i7u41j2/PPPNMuvnmm/NtAsEjYIdHkYOhdTL2Kgx/nnTb9WsrFpn4Vcamsi2Z2FHGKQIwgE7JYTwYGEDjyMfvcMWKFfTiiy+KQttuuy1ddNFFtMsuu9Baa61FG264IfExMOeff/6oY2D4TL/WY2DY3F1++eWNY2B4R3D9GBjeObzFFluItYCnnXYaPfvss+IYmB/+8If2joFxTAeEM5qA1EaREKHxBqZa1Z0NGDHPaMOsKv+EwQAqR+pVgzCAjsm1cOFCYfhar8MOO0zM8tUPgr7yyivFQdA777wzXXbZZeJcv/rFO3mPP/74UQdBX3rppR0Pgp45c6Y4CJrNoOyVaRewbKOulytyA/L8nMNoDaDrY1JHfEXGuY54Pmgz6emhWtNGNI1dRdM0DGA0UrdNFAYwbv1zZx+lAcxNi4h4JokvrEUsQhF1QSAeAgZme2EA4xlO7TKFAYxb/9zZwwDmRoeKPhIoMitWpK7rrELOLS97j5jAAOYVOYx6MIBh6Gg8i2AMoEdf1sZFLtqha+vnOuQjDteuVNxZ5yfDHeNWhhLKpBCAAYx7iMAAxq1/7uyDMYBNbykpTZpE1VWrcjNBxbgJ6HhLS0hEsY7UPTVhAN3TxGREMIAmaQfUVzAGsFmTrLMqWcsHpL/3qUA74xLCABpHntohDGAqoqALwAAGLa++5II0gPpw2W8Zhqe4Bh0Y8gHYfNWGVxfvI+AWYADdExcG0D1NTEYEA2iSdkB9wQDmFzOEG6HOF9RnIuv58ToiVxlz3rRUIROfDwrzESqlib1UWTaQubp4tF2tYQd7ZnIWKmTcOQwDaEEjh7qEAXRIDJ9CgQHMrxYMYH52Y2rKmCeF3eloytja05ysnNwkkzMXHfo51WapTEl314fnJaZwggF0Sj3jwcAAGkceRoc6DCAbo3mlA8MANE4WIRjA4EXKmiAMSVZiKO8AARhAB0SwGAIMoEX4PncNA+izen7HzjNm/Ni0unKlO4nUH9HCCBbXBAyLM5RsAQZQElSgxWAAAxVWd1o6DKDumH1tH6/A+lA5bLjwdRRniLvgescMPUVfFAYw7iEAAxi3/rmzhwHMjc5oxVJfnzjgOJTzDUtTphBVKsHkY3Qw+NYZZgK1KwYDqB2x0x3AADotj7vBwQBm0MbmjSyEXbIZUGctWurtperQkF9vAcmapKflMfOtXzgYQP2MXe4BBtBldRyOTZcBxAYJh0UPMLTy2mtT5d0l/hxxYvPHRID6x54SDGDcIwAGMG79c2cvZQBz3KyyGkA+ooJnCpzaENCGqpjNWL0aM025RxwqOk8gx+fd+ZwCDxAGMHCBU9KDAYxb/9zZSxnAHK1nNYA5utBbpdNNsMjNsUhdvdmi9SwEFG1ucOYQ7tbcTYxTmT5kymTRLeCyMIABiyuRGgygBCQUGUtAlwEE60gItK5NZHPEV7USLABVa9qcNYAmlIO5U0oZBlApTu8agwH0TjI3AoYBVKiDjZuajT4VIkNTbQhAU7eHhYP6wAC6PWR0RwcDqJtwoO07ZwCbH685+EUb6DDQk5Yp/fi1WaWEaiMjxfIwFW+xKFHbIgEx+zs8QlSrdlwHbGM9MwygxUHhQNcwgA6I4GMIzhlAHyE6GHOuNZgwQA4qiZCcIiD7GZEtpyg5GEBFID1tBgbQU+Fshx28AeQv4qRUbE2aokX/zVrzwc7iUOdaTcsQyGUAtUTicKNJQqXJk6m6fLnDQSI0EEgnAAOYzijkEjCAIaurMTcrBtDwr2N+36wuo5VXGnFu3Z/+pC0uGMC8yiioh0O7O0PU+VnU8ENNwWgw0gQMoBHMznYCA+isNG4HVjeAAwMD1N/fT/NKB7odsEx0Om8yMv07UAYGcLQIxnfcYgya/xREzBwG0Pxwc6lHGECX1PAoliANoEf8i4ZamjRpzPt0m80ft98w9RHfIE0bwKR7AtVGhrXN8BYdN6jvMYE2n2MYQI/1VBA6DKACiDE24ZsBFO98HRyMUaq2OQujMbx61N/GGMDyQWv+XnQtJKiDgG0CEf+IGQ89DKDtgWm3fxhAu/y97d3KGkBvafkReMcZQPaAbBgrlWKbYvzAYDZKrPsbxZuPQhHjTPEmJ9FutYbx2zK6YQDNftxd6w0G0DVFPInHGQOIX/ZKRwzWACrFmd6Yit3m6b2oL+Hi587FmNSTV9oiDKBSnN41BgPonWRuBKzVAGb5Is9S1g10aqLQlDcMoBp50IoFApo+ExYyMdYlDKAx1E52BAPopCzuB6XVALqffrARajOAuDkHO2aQmL8EYAD91U5F5DCAKihG2AYMoBrRtRmunOGZ3vWaM0xUAwEQUEAABlABRI+bgAH0WDybocMArqHfbjdtFl1cM4BZYkdZRwi4Mrtq60BlVe90dkROk2HAAJqk7V5fMIDuaeJFRDCAamSKzgC6YlbUyIdWmgn4qq2vcSsYfTCACiB63AQMoMfi2QwdBpCIj5YoTe6jyrIBm1KIOPisvtZz/awGhc7jIOCSeXIpFgvq51m+AQNoQSiHuoQBdEgMn0IJ1gBmeYyVJJSUy1QbGfFJOsTqK4HIDc4Y2cBjFBIYQF8/2PbihgG0x97rnoM1gF6roih4X8+mU5Q+mgEBrwlkMMaYAfRa6cLBwwAWRhhnA9EYwPqXaYYv1caIyFPHleHkc+wmGYJTbtqpG6h0sC3YJseclEv5XiuZ5elCbqpEpSlTqLpihdTbVGAAC4AOoCoMYAAi2kghOgOoEbJYSzhlClWWLlXei3gFVkCPqFNNg3KC8TSY5xFiIToFzVihvmUrty7zCOzVfTCAsgMhzHIwgGHqqj2rYAygC1/oSUKlnp58swralTbUgaQZSHp6qDY0ZCioMLqRZWbcAIaB124Wkp+bTkHCANqVz3bvMIC2FfC0/2AMoKf8gwq7Zc2hrGFxjYGu2daiPEp9fVRdtSr1kSAMoGsjSiIeGEAJSCjSiQAMIMZGLgIwgLmwoZIMAUNrpWRCcaJMwZt8oRxs9l0ocFSWIYAZQBlK4ZaBAQxXW62ZxWgAozu0WesIQuMgAAK2CcAA2lbAbv8wgHb5e9s7DOCB3mqHwEHAKQISs4yl3l6q8trPWs2p0H0PBgbQdwWLxQ8DWIxftLWdMoAGHxmqXCcl1ma9P0j3jtwwahzNK+kzl7l30UrcpJ3+MLgcf4jvslXMW/n6ylKZyv2Trb/Fx/ZnBgbQtgJ2+4cBtMvf296lDKDim4C3sDoEXp45g6rLBuie1dcbM4D0wa5nvMEktNGUIZ+mz6XKHzQZIrBTtClvcfTStKlU+dO7dmLJ26vi71QYwLxChFEPBjAMHY1nIWUAjUflZ4fNaws5A50zgA1CBmdN/VQljqhDM4DKZwoDHwYwgIELnJIeDGDc+ufOHgaQSKxLGhzMzdCFirhhuqCCRzG4/sOhaHxcv1aNZq0hDKBHnz0NocIAaoAaQ5NBGMCij1OK1o9hoGTNsegNPGt/KA8CCgiItbUjw94ZRxhABeJ73AQMoMfi2Qy9owGEKbIpi5t9Z5lVwfhRoyGMtBqOsq24OG4lYoIBlBU4zHIwgGHqqj2rIGYAtVPS1AFu7prAolntBFre+qK9v/E+K6Zj0Z5s9g5gALMzC6kGDGBIahrMxSUDiAOaNQsvMZOgOQI0r5FA1OtAIx/bMIAaP1geNA0D6IFILoborAEsH1RoHQ7MpIujTV1Muc9B5BAcMgtRmzZ1wyH6lmAA4x4CMIBx6587e1cN4PwN/p5GXn8jd14wgLnRja7okFlSlBGaAYHgCMAABidppoRgADPhQuE6AWkD6KsRiGmdXUy54iMMAiDQIAADGPdggAGMW//c2UsbwNw9oCIIBEDApx9APsUawNDolILJx/swgAEPJInUYAAlIKHIWAIwgJ6Mig9e/Ua1micBFwwTJqYzwCShrnVm08ibiwtC/qA6WKvh2NIKDKAWrGi0DQEYQAyLXARgAHNhK14p7003b73iEaMFEAiXQKlM947cIPIz8gpHxSQxA6gYqGfNwQB6Jpgr4UZhALMcYCwrDIyYLCmUAwEtBPgVjrVKlWrDqwu3z7N196y+frQB7PQZ1/jZL0+bSpVlA5nzgQHMjCyoCjCAQclpLplCBlDjF2EuAq7FkyuJHJWw+SMHNFTxnUBp0iSqDY8oMYCusCj391PlvfcyhwMDmBlZUBVgAIOS01wyhQyguTDleorVAMrRQamiBDwYX+WZM6iyZBlRtVI0W9TPSsDi+IABzCpWWOVhAMPS01g2XhhAyVc9JT09VBsaMsPO4pe9mQTRS4OAL1onCSXlMtVGRvSJ59Jssy+66FOj0TIMoAHIDncBA+iwOC6H5oUBdBkgYjNDQOPNXuzWrFQ6vnlGvHVkZLjQm2nMQDLQi0YdRPSlMpUn9+V6DGoge9GFyd29sjnBAMqSCrMcDGCYumrPCgZQO2J0oIKATuOhs20VuaMNtwg4OF5gAN0aIqajgQE0TTyQ/mAAU4R08Ms+kKGHNEAABBQRgAFUBNLTZmAAPRXOdth5DKCLj0C0cXRpzZO2JANpOPDDsuvvt/bxnLpCIww/wlLxwQCmIgq6AAygY/I++OCDdOGFF9Ljjz9Ob775Jt1yyy20zz77NKI8/PDD6dprrx0V9R577EF33XVX49+WLFlCCxYsoNtvv51KpRLtv//+dMkll9DkyZMbZZ5++mk67rjj6LHHHqO1115blD/11FOlacgYwPqNhxsVN59QvpBDyUOlSQ2FifQnwJ+CXhnAwM24a6MGBtA1RczGAwNolndqb3feeSc9/PDDtN1229F+++3X1gC+9dZbdPXVVzfa6unpoenTpzf+e/78+cI8XnHFFTQ8PExHHHEEzZ07l6677jpRhs3b5ptvTrvtthudccYZ9Mwzz9CRRx5JF198MR1zzDGpMdbbmDp1Kn2WvkRdSXfbOmMMoFTLKGSEQJJQaeJEqq5aZaQ77qTU17emP99fS6fSOBuj70lHMIBGhYIBNIrbuc5gAJ2T5MOAkiRpawCXLVtGt956a9vIn3/+edpqq63EzN72228vyvDs4F577UWvvfYazZkzh37605/SN7/5TVq8eDFNmDBBlDn99NNFm4sWLZIikmsGUKrlSAvpeOuIAyibH/uL99C+/SecNWdKF8zKmiLtbT8wgN5KpyRwGEAlGPU00skAslFj48azfp/73Ofoe9/7Hs2YMUMEcdVVV9FJJ51ES5cubQQ1MjJCvb29dNNNN9G+++5Lhx56qJgFbDaRDzzwgGiLHx83zybWGxkaGiL+X/3i+htssAFmABVJn3akiKJu8jcznpkolanUN4mqy5ePbR8mJD/zIjUxk1aEXjR1YQCjkbptojCADuvfzgDecMMNNGnSJNp4443pD3/4A5155plibd+jjz5K5XKZzj33XLFG8IUXXhiV2axZs+icc86hY489lnbffXdRnx8R16/nnnuOtt56a+L/u+WWW46hcvbZZ4v6rdd4j4AdRovQfCMQqpF0xaiFyte3cW44XhhAw8Ad6w4G0DFBmsNpZwBbw33ppZdo0003pfvuu4923XVXbQYwzwygcbS4iRlHjg5BAAQUELD03QUDqEA7j5uAAXRYPBkDyOHzLl5+DPyVr3xF2yPgVkwyawAdRovQXCZg6WboMhLEFgABB8c1DGAA46pACjCABeDpripjAHljx4YbbijW8+29995U3wTyu9/9Tuwk5uuee+6hPffcc8wmEN5N3N29ZgcvP0q++eablW4C6cgn0A0PuseDbPtBnLdYHyNJSd+mEQdvyLIaoxwI5CLQMuZhAHNRDKYSDKBjUq5YsYJefPFFEdW2225LF110Ee2yyy601lprif/xOjw+12+dddYRawD57L7ly5eLo1z4OBi++BgYNneXX3554xgY3hFcPwZmYGCAtthiC7EW8LTTTqNnn31WHAPzwx/+UOkxMFrQ6rhp62hTS/KRNcq6ZDWASUJJVzfVhldHBsuRdPFZShfCIUYwgOlyhVwCBtAxdRcuXBhWok8AACAASURBVCgMX+t12GGHieNb+FDoJ598kvgoGD7ShU3cd7/7XZo9e3ajCu/kPf7440cdBH3ppZd2PAh65syZ4iBoNoOyl61HwKXeXqquHtY3KyQLwKdyBc+tk5lR9OqwYZ+0Q6xjCThkoHyXBwbQdwWLxQ8DWIxftLVtGUCrwGO58eTIM3QDWJo0iaqDQ97+8FB6KHuO8WH1c2ux86Snh2qrVzt7+DkMoMXB4UDXMIAOiOBjCFEaQB+FQswgQERKDaCrRF00pi7G1KQfDKCrg9lMXDCAZjgH14v3BtDxL2YjAwYMjGB2oZMoDKALoD2LYYRGaGHtVuJ14f39/Z5Fj3CLEoABLEow0vreG8BIdWubNowgRgMIREkAM4BRyt5IGgYwbv1zZ++cAeTdn+Wy2DWaugMUhie37kYrJgmJtXcrVxrtFp2BQPAEPvgOhAEMXulxE4QBjFv/3Nl3NIA2zVWsfedWERVBAASo4C55pwl2yg0G0GnZTAUHA2iKdGD9ODcDGBhfpAMCSgioNDc2f2ApgRFhIymaYQYwwjHRlDIMYNz6584eBjA3uvgq5jnQOT5KWjIuT59OlaVL1bQNA6iGo0OtwAA6JIaFUGAALUAPocsYDKDrZ3ipGkdJ9wSqjQw7e1aZqjzRDgh4T6DAjK74nLe8IQcG0PsRUSgBGMBC+OKtrM0AFviCy6SG7GyGbLlMnftTGMeH+KMVIs1OwLcDzFN/lGb8voIBzD5mQqoBAxiSmgZz0WYADeaArtIJeGkATf2ISMc3tkTGG3SeLlBHnoBvBlA+M7mSMIBynEItBQMYqrKa8wrdALZ7XKIZqZPNe2kAYbJGjSUvNXTy09AUlMs/MjKwgwHMACvAojCAAYpqIiVdBjDp6hLh10ZGTKSRv49ITEZU5sGEpnxe5YQJVBsaGjX2eNzXqjVKurvG/C3/IF1Ts1nD5rbmlQ4s2nTY9dnk1aphrY1tMa4wgGEP4bTsYADTCOHvbQmoNIB82G8ysZcq7y6Jg7YJo9FK0kafcaipNksVOrW0oc0AYne3Wu1VtyYxSwkDqBq6X+3BAPqllzPRqjSAvLCZZ0Wqy5c7k19wgagwFsFBkUzIMrui69SK1pek5FcxCXNkPSED4w4G0LrKVgOAAbSK39/OVRpAGxTEIzeTj5l9uOHYECJLnwZuiFnCMVW2qIErWt9Unkb78eDzWJoyhaorVuR/BC3xeYEBNDrqnOsMBtA5SfwIyHcDmJVy27VwEl+wqf2oaCO1E08L8Hq5ru7G2WXl2bOo8tbbniaDsEcR8GHc+xBjp2El+XgeBjDuzyUMYNz6584eBjA3OlRUTcDnG7VqFi63F7JOnuYGA+jyB0Z/bDCA+hkH2QMMYJCy6k3Kg8duegGgdRBwiwAMoFt6mI4GBtA08UD6i8IAevqr3skhJvlIysnYPQpKrBtbuYqoWkmPGoY8nVHgJWAAAxc4JT0YwLj1z529MgMIk5VbA1QEARAAgSIEYACL0PO/Lgyg/xpayUCZAbQSPTotSkDsoq5U8u9QLBoA6rtDAD/i3NEiYyQwgBmBBVYcBjAwQU2lY9QA8m7Qcjn7sS24MZkaDuiniUB5+nSqrljZ2L2sAw6OdtFBVW2bDY26Du74SF7Fm3aKtAEDqFZz31qDAfRNMUfiNWoAHcnZyzBggo3LZmJ2VKsBxJhRMmbqGs1fbwGNLH6r7Wx5EfNWD7JIGzCASqT2thEYQG+lsxu4qwawyJehVqIu3VRDfMepVvEiajzvbLtGRPX3JEttbNEYh46mVXxfFWkDBlCHqv60CQPoj1ZORQoDSJR0T8j+mM+CESxyg3Bq0OkMxoIuOtMZt23Ola9azVoI6NgNAjCAbuhgKwoYQFvkPe8XBjCnAbSge6gGkN8hXRsa0kPUhCFM6yPt73kzL5XXrKkdXp23BafqGX+to1PZFwsGBrAYP99rwwD6rqCl+F01gJZwON1tqAZQK3R+TM6XzHl6WQPB+XtZiaG8JgIwgJrAetIsDKAnQrkWJgyga4ogHi8IlMpUXnuGW+801jXT6IUggQeZoi0MYOD6p6QHAxi3/rmzhwHMjQ4VsxCwYU5s9NmGiXjEPTyiZxYyiwY5yuZaH5ujnyCrGJwhhgEMcgRJJwUDKI0KBZsJwABiPJggYGN9l40+27HMdJyMQdOQSXdsOMmESxQ2+AMEBjC7PCHVgAEMSU2DuYRmALWeq9ZBF54lKU3uo8rSpfqVM3hT0Z9MgR5cNUoFUjJtGjKFindAd8TlwiwpDGCm0RxcYRjA4CQ1kxAMoCLOhoxZptmkoqmFNOuTJFSaNImqK1cWpaK9vunz8nRvLjLyo0zx50969tiRcQUDqP1j6XQHMIBOy+NucN4YQMkZHyM3G3flRGSdCDhyo3ZRoCAMYBGwis1jkVDy1oUBzEsujHowgGHoaDwLbwygCjIBfNGrwKClDRtsbfSpBZ7dRqM3gHbxK+kdBlAJRm8bgQH0Vjq7gUdlAO2i7ti77hvwuGnDRGkbFVZ11ZZVYA1LPllwPWsYQNcV0hsfDKBevsG2DgNoX1oYBfsa6IgAuuqgqrhNGEDFQNGcDQIwgDaoB9AnDKB9EWEU7GugJAI2E7Vq49280FUJVTTSjkDLzD1mAOMeJjCAceufO3snDWCSrHnH6chI7rycrOjY41YYFMWjxDF9FWeH5mwRaDeuYABtqeFkvzCATsriflCZDWBIR4O4L4+eCD+4eag0gCrbGjfpllk2PYDQqpMEYLA7yoIZQCdHrLGgYACNoQ6ro8wGUFH6OK5FEcgczUifcZahbe0GsH7zhwnIoIp8UR4TlJSoNrxavhJKtiWg/bPQplcYwLgHIwxg3Prnzt4HA6jDsOQG5ltFQ4bJxk3PNylyxWtqk0KHmX1xePb77zfWNebKIbJKqj4L/L2XTJxI1eXLUwnCAKYiCroADGDQ8upLzpYBzJJRub+fKu+9l6UKyoKAewQMmXHpxCUepxt984x04G4XzG0AC4wPGEC3x4Tu6GAAdRMOtH0fDGCg6ONKq8DNLS5QBrOVMIAGo0FXBQjAABaAF0BVGMAARLSRAgygDeroEwTiI5B7Ziw+VJkzhgHMjCyoCjCAQclpLhmlBhCzPHqFM7UeTG8WaD1SAtIGEN8jmUcIDGBmZEFVgAEMSk5zySg1gObCXtNT3htFq5HK247ufFvjcjVO3RzQfhAEpA0gfuhk/n6DAQziI5I7CRjA3Ojirui1AVQlXUTGKumeQLWR4fRdnRExUTWM0A4I2CIAA2iLvBv9wgC6oYN3UcAAeidZsYBlFv77Yv58ibOYYsVrm+TEfSUlomqleNxoQZoADKA0qiALwgAGKav+pFw3gNKPjfSjCrIHHMjtjqziuCM+861WUxuUSQOoNnK0JkkABlASVKDFYAADFVZ3WjCAugnnbL9UXvM+ZM1vZshsAGEmcgr6YbVOP2rE43nNercNHpoW1pQbSHp6qDY8YmX2EwZQiYTeNgID6K10dgPPYgDxRg5zWvEbGJKJvVR5d4m5TtGTEQImZ7XZVJbWmkaVt942klvQnThslGEAgx55qcnBAKYiQoF2BLIYwI67bh3+YoTqYREwaZ4a5BSPb6M5lMpUmthL1ZUrrQ2EzLPMNiJVrHFzCib0hgG0MWjc6RMG0B0tvIokkwHskJm1R1dekUawqQQkbsImbqapcaJAJgKZDeAH4yCUJw4mxiwMYKYhGVxhGMDgJDWTkAoDaCbSD3qRMAlG40Fn6ghIaGviZqouIbTUrBfTmFc6MCooufPPeBYiDGBUw2pMsjCAceufO/vcBpBv1nyp3rGYOxNUDIpAqUxds2bSyOK33E0Ln4H22jQZ+dwGyF3VM0VmKn8YwEyyBFcYBjA4Sc0klNsAmgnPXC8Ss0/mggmop7pJyvFjwflHgK4ZwCShUk8PVQcHnRlApgyQMwm3BGIqfxhAV0eAmbhgAM1wDq6XoAxgxscmwYmJhKInoMo0l3p7qTo0VGyGP0no3sqNozTBI+Acj8AlfmjAAMb90YcBjFv/3NmHZABV3fxyw0RFfwjIvBHFn2w+jFTRTLbKz5KpdZscs5hoHhlxSjkT+cMAOiW58WBgAI0jD6PDkAxgGIr4n4X0+4b9TxUZSBCQ3gVccAa/PHOGeA1d5Z13JKIyVwQG0BzrWHuCAYxV+YJ5wwAWBIjqYwmMcyMvT5tK1RUr18zSFLzhA72nBNrNUvL6xcmTqcqvwsM1hkCaicYMYNyDBgYwbv1zZw8DmBsdKmYhUL/pN5s+RY8rs4ThTVmw8UYqE4HCAJqg7G8fMID+amc18qgNYPMO1WYVAjvaJu3mYXUAetS5eNcrb4zQdcH06SKrt10HZrIxA6hXYtdbhwF0XSFH43PWAOq+GXYyf3WdkpKVl7rrGCYwgIqo6h6TisK00gzYWMFe7xQG0Cp+653DAFqX4MMAzjvvPLr55ptp0aJFNHHiRPrkJz9JF1xwAW2xxRaNQoODg3TSSSfRDTfcQENDQ7THHnvQZZddRrNnz26UefXVV+nYY4+lBx54gCZPnkyHHXYYcdtdH+x244ILFy6kb3zjG/T73/+eNthgA/rWt75Fhx9+uDSNVgMYhVloNX/1Gb9O/y5NEwVBoIVAklBSLju3MxU6hUUABjAsPbNmAwOYlZjG8nvuuScdfPDBNHfuXBoZGaEzzzyTnn32WXruueeor69P9MzG7le/+hVdc801NHXqVDr++OOpVCrRww8/LP5eqVRom222oXXWWYcuvPBCevPNN+nQQw+lo48+ms4991xR5uWXX6aPfvSj9NWvfpWOOuoo+vWvf00nnHCCaJcNpcwVvQFs97hX4twtGbYo04YAZorsDgtf+OMzSFmWHMAA2v1Y2e4dBtC2AuP0/84779CsWbPoN7/5DX3605+mgYEBWnvttem6666jAw44QNTk2cItt9ySHn30Udpxxx3pzjvvpC984Qv0xhtvNGYFL7/8cjrttNOI25swYYL4/9nssbmsX2w8ly1bRnfddZcUEWcfAUtFT0QpNzQ+kiTp7qLqqlUfttj6dorWNly5+fhys5bVyoVyYOqCCv7EwOOl03KQ8f4mkWF5+nSqLF0qUTK9CAxgOqOQS8AAOqzuiy++SJttthk988wzYsbu/vvvp1133ZWWLl1K06ZNa0S+0UYbiRm8E088kc466yz65S9/SU899VTj7zzjt8kmm9ATTzxB2267rTCTH//4x+niiy9ulLn66qtFG2wy2138uJn/V7/YAPKj48/Sl6irNKHYyf8ualAqCwM4avF+p9eT4RGwiwqqjWk8A+jAYn61yWpqTdZEy5bTFKaKZvmNKHx1fL1egRzF21YUvbYPBlCF2v62AQPoqHbVapX23ntvMSv30EMPiSh55u+II44YZcT433fYYQfaZZddxHrBY445hl555RW6++67G5mtWrVKPEK+4447aP78+bT55puLds4444xGGf7b5z//eeKyvP6w9Tr77LPpnHPOGfPvwgAm3Y5SVBxWO6PXblNIYLuBFVMMr7lOBrDATT48SBTu+Y0e6wwDGOQnTTopGEBpVGYL8lo/fpzL5m/99de3bgDHnQGMxQCyCq2Gjx/z1K9aNbyZULPD3r3ePL65uwfTYkQh6qhgyQkMoMUx6UDXMIAOiNAaAm/suO222+jBBx+kjTfeuPFnm4+AW2P0fg1gEd3rX7x18xeD8QvxBpo2Bgqu1UprHn8HAdsEYABtK2C3fxhAu/xH9V6r1WjBggV0yy23iGNaeP1f81XfBHL99dfT/vvvL/70wgsv0Ec+8pExm0B49y9vIOHryiuvpFNOOYXefvtt6unpEZtA+JEvry2sX1/+8pdpyZIl8WwCcUh3hCJBIJR1dilGujRpElUHh8I4S5KPsunqptrwagmBUcQGARhAG9Td6RMG0B0t6Gtf+5pY58ezf81n//FxL/V1efxomM0bHwPT398vDCNfjzzyiPi/9WNg5syZQz/4wQ9o8eLFdMghh4jjXlqPgTnuuOPoyCOPFJtLvv71rxc6BsYhjG6GonIGTWVbbtKKNqrSlClUe/99nP8X7QgwmzgMoFnervUGA+iQIkm7DQVExDt064c01w+C5lnA5oOg+dy/+sWbQNgo8iwib/7gg6DPP//8MQdB865hPmOQ1xh++9vfLnQQtDKMocz0MBDOJYbHw8rER0MuEuBZSV77Wl250sXwlMeUdHVFY8BhAJUPH68ahAH0Si53gjW6BhAzXnqFB9/2fF3+MWJSMwWbDfQOYLSel8BIUqWF1ZvF8V/8RAlXXARgAOPSW1m2Rg2gsqjDaag8bSpRTw9V3no7nKSQCQj4SMCkGVfMp9pTovsHb4QBVMzVl+ZgAH1RyrE4YQCbBLExQ2KjT8fGYPTheGw8otfOEQB4BOyIEJbCgAG0BN73bmEAmxT0YK3fvdWbGgHPKx3o+/BrH78qQ8R68lWt6OPk8uNlfVmP37Iq/YrE70IMReLPWBcGMCOwwIrDAAYmqKl0YABNkVbTTxQGUA0qtAIC0RCAAYxG6raJwgDGrX/u7G0YwEy780z+kjfZV07FnDOAfEZcuVx8t6UMe5kyObmimmUCmEktJAAMYCF83leGAfReQjsJNAxgaT/qqjW9Ds1OOOg1hYBzBpDjNWXMbJsEE3ma6KPop8yHGIvm6Fl9GEDPBFMcLgygYqCxNJfLANq+EcciDvJ0ioB4u8eqVfpiwoYgfWxlWm63BjhJqLzWdKq8u0SmBWtlYACtoXeiYxhAJ2TwLwgbj4D9o+RwxKpmY0J5X67PP05UGkBV48KloW8pp6Snh2pDQy6RGBMLDKDT8mgPDgZQO+IwO+hoAD3YEeuyIpnWObqcCGIDgXYE0sxY2t9BVSkBGEClOL1rDAbQO8ncCLiTAWQDw1dtZMRaoE6ud5Ol4fNMlGyOsZSDmYlFaW/zhAH0VjolgcMAKsEYXyMuPwJ23gDCGMT3gUHGIOAgARhAB0UxGBIMoEHYIXXlswEs9JjVVfNmOi5Vx7iE9KFALsUIfDCG6z/ggj2wvBglpbVhAJXi9K4xGEDvJHMjYJcNoBuEDEaRJFSaOFHvTlOD6aArRQRcWk4gEYv4YVat0b0jNwgAMICKxsE4zcAA6mfscg8wgC6r43BsbQ2gyt2IDudeODRwyofQ9CxnvijdquXCWMNs8Zox4eD4hQF06+NqOhoYQNPEA+lvlAEsTSCq1aQyK/X2UnVwUKosCikm4OANSHGGxZpzwSzlyaBZ1wA1HvVIOMD88kiuqg4MoCqSfrYDA+inbtajzv0IuOgXeKm85hViw6utM/AtgKR7QmduRXXxDUY93gDy9uG8uSLDA2sCi9Abvy4MoD62PrQMA+iDSg7GmNsAFs3F11manHlrf4vEB3FJm4gADJOUFPU8+QdHKbF6rJFUvCgEAjkIwADmgBZQFRjAgMQ0mYo1A2gySRf6smVAYjF6aRq78oMDeqQphb9nJZAkNEIVWli9mQYGBqi/vz9rCyjvOQEYQM8FtBU+DKAt8u70i0dz9rQoTZlC1RUrpNfe2os08J41GnOeladqTetyF8wABj4+U9KDAYxb/9zZ5zWAhc7gyxKtxi/mLGEoKSuZixa24xzfEa0BlNRDWvtmxhLHpXC70o/spYNAwVwEWs4urLfReoRNqa9vzTFNkpvlhMYfHItD1Uqu0GQqwQDKUAq3DAxguNpqzSyvAdQaVHPjqm/SxgJv05FkLpkMoGSb1tKWNEId49P56LbOrh3DvFzz1jMskNNv2Sk6ZgqwbObCzYwxgA6cftAuRhjAAqIHUBUGMAARbaRQyADyuWATJlBtaEhb6O3MUBQzVp4YCW3C1xtOMYBKjEy7PtiE1KqZZnq0s1DYgRJuHeIxMeOlEMWoptIMoJJ+C/6ogQFUokJQjcAABiWnuWQKGUBzYZr/kraUm/PdOmZMcxmZPObOsbyLjpNR3MoHqTW6zXwLmp2ieeapn2tM5ekoZx0YwJzgAq4GAxiwuDpTSzWADn+BRzETqFP8cdrO9BjaUozcrZGbdalM5elTqfLukvEzDcwkWpQVXWckgEfAGYEFVhwGMDBBTaWTagBNBZLWD26uaYSU/n3cw6bz9gQN85Lzu54t3XX329y+5R/KMIB+f0SKRg8DWJRgpPW9MYCR6pMpbd03vEzB+F/YyCyoTs10tp1FXltx2Oo3CxtFZWEAFYH0tBkYQE+Fsx22VwbQ4u5AYzpZuGkZeYxqDGC2jsSxHitXtq9kQYts0aM0CKwhAAMY90iAAYxb/9zZ+2QAdZ+Z1rXuOlRbvTp9rVdu2qMrsvFqPWZCUdOZmonZAGYCZbKwrPnkckmJdJ4xZzJt9JWPAAxgPm6h1IIBDEVJw3mMawBlb0KGY9bVXerxFa0zkAXX/cAA6lIS7YKAZwQ6fddKfgfDAHqmt+JwYQAVA42lOZ9mAK1rIvllbD3OkALI+ti/oCkPCR1hvCqTs9TbS7VKVevr3IoECwNYhJ7/dWEA/dfQSgYuGED+cqVSac0rlnCBQDMBmBiMBxcIOP7DAgbQhUFiLwYYQHvsve7ZBQPoNUAEDwIuE7BhoMfr03EjpVxKQ/xhAJUr51WDMIBeyeVOsJkNoKEvNHcIGYgETA1ARhcg4DCBgt8BMIAOa2sgNBhAA5BD7CKzAQwRgo2c6m+XWLJU7Wu4NORi5Dw82bgL3ihlu0E5EDBJoOhnDAbQpFru9QUD6J4mXkQEA9hGJkMmo+iXvrEBlnUjhrHA0JFJAlreDmMyAZm+PB3rMIAy4oZbBgYwXG21ZgYDqBWvXON806lV888EJgklXd16dygaMsVywBSWCjUvhYjqTfFmrergoIaW3W2yvPbaa84FrVbMBplxXMIAmpXHtd5gAF1TxJN4XDCAPBPGV21kxBNq8mFKHV6d8cu+be8q2pBPy2zJ2DYOmKWL3sYj4MnnCgYw7mEMAxi3/rmzd8EA5g4eFd0i4MnN0i1oRDivzzlFRgfEM+zlstM/UGEAHR9DmsODAdQMONTmYQBDVdZAXjB8BiA71EWsenvwuj0YQIc+JxZCgQG0AD2ELm0bwFJfH1VXrgwBJXIAARBoJeDppgpVQop1k6uHta8hhAFUpZif7cAA+qmb9ahtG0CpNXLWKTUFEOssiGYNxDhYvfrDjTCec45ix6zmMdHcfEw885wOAANocDA62BUMoIOi+BCSaQN4b/WmBpZ5pQN9QDQ6xizGxLHNC86xr7NMEipvtgnVXl9MVKlEt9PUvw8BIh5DwPJMJwxg3GMSBjBu/XNnH5QBzGLOchMzVLFUXrPwfHi1sg6dNYDKMkRDIGCHQJ5Zu0akCswjDKAd3V3pFQbQFSU8i8OoASyV6d6RG/yeAfRM3+Zw2xlAXqPEx++EeASPx1L5E7pjs9z+gFMbKQygWp6+tQYD6JtijsRr1AA6krMII6TZQkmu7Qxg17rrUHXFSqouXy7ZCoqBAAi4RgAG0DVFzMYDA2iWdzC9jWsA8es+GJ05EWOPgEMy1woezwU1iFxOJmKtYABdHpj6Y4MB1M84yB6inQF0Rc2QzJIrTOtxqGAbsanQJWfXenOotnIlVZYNyHUh80OUNxJNm0aVpUvl2gysFAxgYIJmTAcGMCMwFF9DAAYw40hoNQQqTMZ4IcCAZBQIxZ0noPsz0wrAUH9iI0ilkv+d3gWEgwEsAC+AqjCAAYhoIwUYwGzUx93tZ+hGky1iydKqjabPLCSRRVGMX4PW1a10N3oU3JqTNPBZgAGMblSNShgGMG79c2cPA/gBOgNf0rlFUlAx9SBdH/I3EaPM40YFeqCJsQR4jCbdXVRdtcpvPCbGaQshGEC/h0zR6GEAixKMtL43BtCDF7JHOoSwuSQC4UuTJlFteMStmUALRstVqWEAXVXGTFwwgGY4B9eLNwZQ9SNKA0qK94AODVlZE9Q2PU2zW8Z2FxvQDF20JyBe1Tc8ov2dttHzz/k9BwMY98iBAYxb/9zZe2MAc2eYsaLKWQWVbWVMo1DxjHHDABaiHWflnEYnTljpWcMApjMKuQQMYMjqaswNBlAjXDStlkBGY6q2c7QGAuMQaDO7nrruViFQGECFMD1sCgbQQ9FcCBkGMKcK/IWflPBILCc+VAOBkAiU+/vF6xQbG1iShEoTJxrb0AIDGNJoyp4LDGB2ZqiBcwCLjYGiM1JF6xeLXn3t0PJpJeR6fqUydc1Zh0Zee129tmhxfAKWxwYMYNwDFAYwbv1zZx/DDGCpr4+qK1fmZoSKIOALAZOPHX1hkilOy0YuU6xNhWEA85ILox4MYBg6Gs9CiQH09EvTOGx0OIZAMBtIQtjUUCpTUi67ddQLPjNSBGAApTAFWwgGMFhp9SamxADqDTFb666bUU1HsWSD5E5pKQOIt1GoFazDZ0QcxFwuUXVwUG1/aE07ARhA7Yid7gAG0Gl53A1OuQF03YC5KwUiG4+Az+PKtdhdiyfryO8Uv+95ZeWAR8AFiIVVFQYwLD2NZaPcABqLHB2BQA4CEZuEHLRQRSOBtrPfOccnZgA1CuVB0zCAHojkYogwgC6qgphyEfBtHV7Om30uNqjkHAGp5Q+SUcMASoIKtBgMYKDC6k5L1gCWp0+n6vLl4qwrXCAAAiAAAsUIwAAW44faHxKAAcRoyEVgjAHkWZRadez7a12drXAlLubGV7WSSwdUAgEQAAEZAu2MI2YAZciFWwYGMFxttWYmOwPYMYhOhlE26qK7Yk0YQBN9yPJSVE7l7EM9pOY2+d/mlQ5UFK39ZnTwsp8VIihCwNaYgAEsolqYdWEAw9RVe1ZFDWDS1UW1ao3uHblBxBrSTb8BHwZQahy2GsDmSr6PC5UL9qVgRlSozta3MQIDGNEgdTxVGEDHBXI1vIGBAZo2bRrtTHtRF3XnDvO2gf8n6n5pvec2VQAADCxJREFU6qG527BeMUCj14lpXS+VmjW32dqv1+OCiHTwsj7eHQmg6HeHbW3K0/qpMrB87LIZg3xHaJgeojto2bJlNHXqVIM9oysXCMAAuqCChzG89NJLtOmmm3oYOUIGARAAARBoJvDHP/6R1l9/fUCJjAAMYGSCq0qXfzFOnz6dXn31VfxyHAcqPyrfYIMNiL9g+/v7VeEPrh1wkpMUnMBJjoBcqVqtRsuXL6c5c+ZQqVSSq4RSwRCAAQxGSrOJ1NcA8qNgGJvO7MFJblyCEzjJEZArhfEkxwml4iYAAxi3/rmzxxesHDpwAic5AnKlMJ7ASY4ASoFAOgEYwHRGKNGGAG5EcsMCnMBJjoBcKYwncJIjgFIgkE4ABjCdEUq0ITA0NETnnXcenXHGGdTT0wNGHQiAk9zQACdwkiMgVwrjSY4TSsVNAAYwbv2RPQiAAAiAAAiAQIQEYAAjFB0pgwAIgAAIgAAIxE0ABjBu/ZE9CIAACIAACIBAhARgACMUHSmDAAiAAAiAAAjETQAGMG79kT0IgAAIgAAIgECEBGAAIxRdRco/+clP6MILL6TFixfTxz72MfrRj35EO+ywg4qmnW/j7LPPpnPOOWdUnFtssQUtWrRI/Nvg4CCddNJJdMMNNxDvRtxjjz3osssuo9mzZzfq8BtUjj32WHrggQdo8uTJdNhhh4ld1V1dXc7n3ynABx98UIyJxx9/nN5880265ZZbaJ999mkU57cOfOc736Gf/exn4t2jn/rUp+inP/0pbbbZZo0yS5YsoQULFtDtt98u3kyw//770yWXXCIY1a+nn36ajjvuOHrsscdo7bXXFuVPPfVUb7ilcTr88MPp2muvHZUPj6G77rorGk78Wbj55pvFZ2rixIn0yU9+ki644ALiz1n9UvU5W7hwIX3jG9+g3//+9+KtPd/61reINcAFAqETgAEMXWEN+f385z+nQw89lC6//HL6xCc+QRdffDHddNNN9MILL9CsWbM09OhWk2wAf/GLX9B9993XCIyN28yZM8V/s7H71a9+Rddcc414Td7xxx8vzMzDDz8s/l6pVGibbbahddZZRxgmNkvM8+ijj6Zzzz3XrWQzRHPnnXeKHLfbbjvab7/9xhhAvoHzjZ3NzcYbb0zf/va36ZlnnqHnnnuOent7RU/z588XPK644goaHh6mI444gubOnUvXXXed+Dufg7f55pvTbrvtJo4g4vpHHnmkGIPHHHNMhmjtFU3jxObjrbfeoquvvroRJB+1xK9erF+hc9pzzz3p4IMPFtqPjIzQmWeeSc8++6wYK319fco+Zy+//DJ99KMfpa9+9at01FFH0a9//Ws64YQTxOeXTTcuEAiZAAxgyOpqyo1NH38x//jHPxY9VKtV8cuZZ2JOP/10Tb260ywbwFtvvZWeeuqpMUHxq/F4VooNywEHHCD+zrMYW265JT366KO04447EhuAL3zhC/TGG280ZgXZTJ922mn0zjvv0IQJE9xJNmckSZKMMoA8+8fvG+WZ0ZNPPlm0yqx4VpSNMt/sn3/+edpqq63EzN72228vyvCs11577UWvvfaaqM8zht/85jfFzHOdE4851qM+A5szZCvVWjlxEGwAeYaUc2p3xciJPxf84/I3v/kNffrTnxZjR8XnjD9zbPbYXNYvHovMv3nG1crgQKcgoJkADKBmwKE1v3r1apo0aZKYAWt+vMePMPlL87bbbgst5TH5sAHkmTue3eOZq5122knMbG244YZ0//3306677kpLly6ladOmNeputNFGYmbhxBNPpLPOOot++ctfjjKQPBOxySab0BNPPEHbbrut9wxbjc1LL71Em266KT355JNi9rN+feYznxH/zY95r7rqKmEQmV394tkfZswzzPvuu6+YKeVZwGZzxI/RP/e5zxE/Pm6eJfMBYicDyPmxweV8OLfvfe97NGPGDJFSjJxefPFFsVSAZ3x5xk7V54zN5Mc//nExg1y/eOaVP6tsMnGBQMgEYABDVldDbjxrtd5669EjjzwijE/94jVY/Ov8t7/9rYZe3WqSZ/BWrFgh1iPx40peD/j666+LWQReu8aPLXntX/PF6yN32WUXsY6JH1W+8sordPfddzeKrFq1SjzauuOOO8RjUN+vVmPD44XX/PH4WXfddRvpHXTQQcRleVkBP/7mx8O8lKD54pkfZsyP1nfffXfx+JgfEdcvfiy49dZbi8eDPNPq09XOAPLaUf6RxXn+4Q9/EI8/eQ0kzyCXy+XoOPEThr333lv8wHzooYeEvDzDruJzxssJuB1eTlC/+DP4+c9/nvgzyesPcYFAqARgAENVVlNeMIBjwfKNiWf4LrroInHDUHFj0iSfsWZhAOVQtzOArTXrs6e85pRnl2Mzymz8+UcXm7/1118fBlBuaKEUCKQSgAFMRYQCzQTwCLj9eOA1kbwxYd68eXgETCRm9Zp3AeMRcPtxI2MAuSavd+PHwF/5yleiegTMG6h4WQnvnOYZ0fqFR8C4L4FAcQIwgMUZRtcCbwLhR5p89Atf/IiG17/xl3UMm0BaBefHwZw/rw3ktZB8s77++uvFESZ88SPNj3zkI2M2gfDj4/qu6SuvvJJOOeUUevvtt4l3fPp+ddoEwhtAeJ0fX7yWj/Nv3QTyu9/9Tuwk5uuee+4h3hHaugmEd8l2d3eLMvyItH5kiG/cZAwg587ji9cF8qPQ+iaQkDnxpiHeVMY/IviYluajgljj+iaQop8z3gTCj3x5bWH9+vKXvyzWk2ITiG+fJsSblQAMYFZiKC/Wa7HR4XVYbAR5AfWNN94odmE2n3UXKio2MV/84hfFY19+JM5n2/GOYF6DxuaPH1nxTYWNTX9/v7iR8cXr4PiqHwPDu1p/8IMfiB2thxxyiDiGwudjYNgI82J9vngjCz8S53WPa621ljAwvP7x/PPPH3UMDJ/p13oMDJs73hVdPwaGdwTXj4HhGz+vveS1gHzz5nWXfAzMD3/4Q2+OgRmPE7Pi9Y7844GPCeI1gLy+dvny5cKk1H8c8DrRkDl97WtfE5rz7F/z2X+88aq+Lk/F56x+DAyfK8njiGcWv/71r+MYmFC/vJHXKAIwgBgQuQjwETD1g6B5F+ell14qzgSM4eJjIviR1LvvvisM384770zf//73xS5XvuoH1PLsRPNB0HxDr1+8CYRvYDy7wZs/2FCzOfL5IGjOhQ1f68W5sRmuHwTNs528bpK58QHZvBC/fvHMC88kNx8EzWOr00HQfPYiG2w2g75c43HiY254dz3vlmZG/COBze53v/vdUT+uQufEM6PtLt6hWz+kWdXnjPXg3fn8Q4TXGPL5lDgI2pdPE+IsQgAGsAg91AUBEAABEAABEAABDwnAAHooGkIGARAAARAAARAAgSIEYACL0ENdEAABEAABEAABEPCQAAygh6IhZBAAARAAARAAARAoQgAGsAg91AUBEAABEAABEAABDwnAAHooGkIGARAAARAAARAAgSIEYACL0ENdEAABEAABEAABEPCQAAygh6IhZBAAARAAARAAARAoQgAGsAg91AUBEAABEAABEAABDwnAAHooGkIGARAAARAAARAAgSIEYACL0ENdEAABEAABEAABEPCQAAygh6IhZBAAARAAARAAARAoQgAGsAg91AUBEAABEAABEAABDwnAAHooGkIGARAAARAAARAAgSIEYACL0ENdEAABEAABEAABEPCQAAygh6IhZBAAARAAARAAARAoQgAGsAg91AUBEAABEAABEAABDwnAAHooGkIGARAAARAAARAAgSIEYACL0ENdEAABEAABEAABEPCQAAygh6IhZBAAARAAARAAARAoQgAGsAg91AUBEAABEAABEAABDwnAAHooGkIGARAAARAAARAAgSIEYACL0ENdEAABEAABEAABEPCQAAygh6IhZBAAARAAARAAARAoQgAGsAg91AUBEAABEAABEAABDwnAAHooGkIGARAAARAAARAAgSIEYACL0ENdEAABEAABEAABEPCQAAygh6IhZBAAARAAARAAARAoQgAGsAg91AUBEAABEAABEAABDwnAAHooGkIGARAAARAAARAAgSIEYACL0ENdEAABEAABEAABEPCQAAygh6IhZBAAARAAARAAARAoQuD/BzucEeUINKjYAAAAAElFTkSuQmCC\" width=\"640\">"
      ],
      "text/plain": [
       "<IPython.core.display.HTML object>"
      ]
     },
     "metadata": {},
     "output_type": "display_data"
    }
   ],
   "source": [
    "i_data = fits.getdata('ztf_i_band.fits.gz')\n",
    "\n",
    "# complete\n",
    "fig1 = plt.figure()\n",
    "plt.imshow(i_data) \n",
    "plt.title(\"2-D Heat Map\")\n",
    "plt.show()"
   ]
  },
  {
   "cell_type": "markdown",
   "metadata": {
    "slideshow": {
     "slide_type": "slide"
    }
   },
   "source": [
    "The first thing that jumps out of this image is all the white pixels. They are $\\equiv$ `nan` because they have been flagged in the ZTF image processing pipeline as unreliable/no good. \n",
    "\n",
    "Note - from an aesthic standpoint, you can make these disappear by inputting the following: \n",
    "\n",
    "`np.where(np.isnan(i_data), np.nanmedian(i_data), i_data)`\n",
    "\n",
    "to `imshow()`, which replaces the nan values with the median value from the image. While this is aesthetically more pleasing, it is also misleading. Most of the masked pixels are saturated."
   ]
  },
  {
   "cell_type": "code",
   "execution_count": 4,
   "metadata": {
    "slideshow": {
     "slide_type": "skip"
    }
   },
   "outputs": [
    {
     "data": {
      "application/javascript": [
       "/* Put everything inside the global mpl namespace */\n",
       "/* global mpl */\n",
       "window.mpl = {};\n",
       "\n",
       "mpl.get_websocket_type = function () {\n",
       "    if (typeof WebSocket !== 'undefined') {\n",
       "        return WebSocket;\n",
       "    } else if (typeof MozWebSocket !== 'undefined') {\n",
       "        return MozWebSocket;\n",
       "    } else {\n",
       "        alert(\n",
       "            'Your browser does not have WebSocket support. ' +\n",
       "                'Please try Chrome, Safari or Firefox ≥ 6. ' +\n",
       "                'Firefox 4 and 5 are also supported but you ' +\n",
       "                'have to enable WebSockets in about:config.'\n",
       "        );\n",
       "    }\n",
       "};\n",
       "\n",
       "mpl.figure = function (figure_id, websocket, ondownload, parent_element) {\n",
       "    this.id = figure_id;\n",
       "\n",
       "    this.ws = websocket;\n",
       "\n",
       "    this.supports_binary = this.ws.binaryType !== undefined;\n",
       "\n",
       "    if (!this.supports_binary) {\n",
       "        var warnings = document.getElementById('mpl-warnings');\n",
       "        if (warnings) {\n",
       "            warnings.style.display = 'block';\n",
       "            warnings.textContent =\n",
       "                'This browser does not support binary websocket messages. ' +\n",
       "                'Performance may be slow.';\n",
       "        }\n",
       "    }\n",
       "\n",
       "    this.imageObj = new Image();\n",
       "\n",
       "    this.context = undefined;\n",
       "    this.message = undefined;\n",
       "    this.canvas = undefined;\n",
       "    this.rubberband_canvas = undefined;\n",
       "    this.rubberband_context = undefined;\n",
       "    this.format_dropdown = undefined;\n",
       "\n",
       "    this.image_mode = 'full';\n",
       "\n",
       "    this.root = document.createElement('div');\n",
       "    this.root.setAttribute('style', 'display: inline-block');\n",
       "    this._root_extra_style(this.root);\n",
       "\n",
       "    parent_element.appendChild(this.root);\n",
       "\n",
       "    this._init_header(this);\n",
       "    this._init_canvas(this);\n",
       "    this._init_toolbar(this);\n",
       "\n",
       "    var fig = this;\n",
       "\n",
       "    this.waiting = false;\n",
       "\n",
       "    this.ws.onopen = function () {\n",
       "        fig.send_message('supports_binary', { value: fig.supports_binary });\n",
       "        fig.send_message('send_image_mode', {});\n",
       "        if (fig.ratio !== 1) {\n",
       "            fig.send_message('set_device_pixel_ratio', {\n",
       "                device_pixel_ratio: fig.ratio,\n",
       "            });\n",
       "        }\n",
       "        fig.send_message('refresh', {});\n",
       "    };\n",
       "\n",
       "    this.imageObj.onload = function () {\n",
       "        if (fig.image_mode === 'full') {\n",
       "            // Full images could contain transparency (where diff images\n",
       "            // almost always do), so we need to clear the canvas so that\n",
       "            // there is no ghosting.\n",
       "            fig.context.clearRect(0, 0, fig.canvas.width, fig.canvas.height);\n",
       "        }\n",
       "        fig.context.drawImage(fig.imageObj, 0, 0);\n",
       "    };\n",
       "\n",
       "    this.imageObj.onunload = function () {\n",
       "        fig.ws.close();\n",
       "    };\n",
       "\n",
       "    this.ws.onmessage = this._make_on_message_function(this);\n",
       "\n",
       "    this.ondownload = ondownload;\n",
       "};\n",
       "\n",
       "mpl.figure.prototype._init_header = function () {\n",
       "    var titlebar = document.createElement('div');\n",
       "    titlebar.classList =\n",
       "        'ui-dialog-titlebar ui-widget-header ui-corner-all ui-helper-clearfix';\n",
       "    var titletext = document.createElement('div');\n",
       "    titletext.classList = 'ui-dialog-title';\n",
       "    titletext.setAttribute(\n",
       "        'style',\n",
       "        'width: 100%; text-align: center; padding: 3px;'\n",
       "    );\n",
       "    titlebar.appendChild(titletext);\n",
       "    this.root.appendChild(titlebar);\n",
       "    this.header = titletext;\n",
       "};\n",
       "\n",
       "mpl.figure.prototype._canvas_extra_style = function (_canvas_div) {};\n",
       "\n",
       "mpl.figure.prototype._root_extra_style = function (_canvas_div) {};\n",
       "\n",
       "mpl.figure.prototype._init_canvas = function () {\n",
       "    var fig = this;\n",
       "\n",
       "    var canvas_div = (this.canvas_div = document.createElement('div'));\n",
       "    canvas_div.setAttribute('tabindex', '0');\n",
       "    canvas_div.setAttribute(\n",
       "        'style',\n",
       "        'border: 1px solid #ddd;' +\n",
       "            'box-sizing: content-box;' +\n",
       "            'clear: both;' +\n",
       "            'min-height: 1px;' +\n",
       "            'min-width: 1px;' +\n",
       "            'outline: 0;' +\n",
       "            'overflow: hidden;' +\n",
       "            'position: relative;' +\n",
       "            'resize: both;' +\n",
       "            'z-index: 2;'\n",
       "    );\n",
       "\n",
       "    function on_keyboard_event_closure(name) {\n",
       "        return function (event) {\n",
       "            return fig.key_event(event, name);\n",
       "        };\n",
       "    }\n",
       "\n",
       "    canvas_div.addEventListener(\n",
       "        'keydown',\n",
       "        on_keyboard_event_closure('key_press')\n",
       "    );\n",
       "    canvas_div.addEventListener(\n",
       "        'keyup',\n",
       "        on_keyboard_event_closure('key_release')\n",
       "    );\n",
       "\n",
       "    this._canvas_extra_style(canvas_div);\n",
       "    this.root.appendChild(canvas_div);\n",
       "\n",
       "    var canvas = (this.canvas = document.createElement('canvas'));\n",
       "    canvas.classList.add('mpl-canvas');\n",
       "    canvas.setAttribute(\n",
       "        'style',\n",
       "        'box-sizing: content-box;' +\n",
       "            'pointer-events: none;' +\n",
       "            'position: relative;' +\n",
       "            'z-index: 0;'\n",
       "    );\n",
       "\n",
       "    this.context = canvas.getContext('2d');\n",
       "\n",
       "    var backingStore =\n",
       "        this.context.backingStorePixelRatio ||\n",
       "        this.context.webkitBackingStorePixelRatio ||\n",
       "        this.context.mozBackingStorePixelRatio ||\n",
       "        this.context.msBackingStorePixelRatio ||\n",
       "        this.context.oBackingStorePixelRatio ||\n",
       "        this.context.backingStorePixelRatio ||\n",
       "        1;\n",
       "\n",
       "    this.ratio = (window.devicePixelRatio || 1) / backingStore;\n",
       "\n",
       "    var rubberband_canvas = (this.rubberband_canvas = document.createElement(\n",
       "        'canvas'\n",
       "    ));\n",
       "    rubberband_canvas.setAttribute(\n",
       "        'style',\n",
       "        'box-sizing: content-box;' +\n",
       "            'left: 0;' +\n",
       "            'pointer-events: none;' +\n",
       "            'position: absolute;' +\n",
       "            'top: 0;' +\n",
       "            'z-index: 1;'\n",
       "    );\n",
       "\n",
       "    // Apply a ponyfill if ResizeObserver is not implemented by browser.\n",
       "    if (this.ResizeObserver === undefined) {\n",
       "        if (window.ResizeObserver !== undefined) {\n",
       "            this.ResizeObserver = window.ResizeObserver;\n",
       "        } else {\n",
       "            var obs = _JSXTOOLS_RESIZE_OBSERVER({});\n",
       "            this.ResizeObserver = obs.ResizeObserver;\n",
       "        }\n",
       "    }\n",
       "\n",
       "    this.resizeObserverInstance = new this.ResizeObserver(function (entries) {\n",
       "        var nentries = entries.length;\n",
       "        for (var i = 0; i < nentries; i++) {\n",
       "            var entry = entries[i];\n",
       "            var width, height;\n",
       "            if (entry.contentBoxSize) {\n",
       "                if (entry.contentBoxSize instanceof Array) {\n",
       "                    // Chrome 84 implements new version of spec.\n",
       "                    width = entry.contentBoxSize[0].inlineSize;\n",
       "                    height = entry.contentBoxSize[0].blockSize;\n",
       "                } else {\n",
       "                    // Firefox implements old version of spec.\n",
       "                    width = entry.contentBoxSize.inlineSize;\n",
       "                    height = entry.contentBoxSize.blockSize;\n",
       "                }\n",
       "            } else {\n",
       "                // Chrome <84 implements even older version of spec.\n",
       "                width = entry.contentRect.width;\n",
       "                height = entry.contentRect.height;\n",
       "            }\n",
       "\n",
       "            // Keep the size of the canvas and rubber band canvas in sync with\n",
       "            // the canvas container.\n",
       "            if (entry.devicePixelContentBoxSize) {\n",
       "                // Chrome 84 implements new version of spec.\n",
       "                canvas.setAttribute(\n",
       "                    'width',\n",
       "                    entry.devicePixelContentBoxSize[0].inlineSize\n",
       "                );\n",
       "                canvas.setAttribute(\n",
       "                    'height',\n",
       "                    entry.devicePixelContentBoxSize[0].blockSize\n",
       "                );\n",
       "            } else {\n",
       "                canvas.setAttribute('width', width * fig.ratio);\n",
       "                canvas.setAttribute('height', height * fig.ratio);\n",
       "            }\n",
       "            /* This rescales the canvas back to display pixels, so that it\n",
       "             * appears correct on HiDPI screens. */\n",
       "            canvas.style.width = width + 'px';\n",
       "            canvas.style.height = height + 'px';\n",
       "\n",
       "            rubberband_canvas.setAttribute('width', width);\n",
       "            rubberband_canvas.setAttribute('height', height);\n",
       "\n",
       "            // And update the size in Python. We ignore the initial 0/0 size\n",
       "            // that occurs as the element is placed into the DOM, which should\n",
       "            // otherwise not happen due to the minimum size styling.\n",
       "            if (fig.ws.readyState == 1 && width != 0 && height != 0) {\n",
       "                fig.request_resize(width, height);\n",
       "            }\n",
       "        }\n",
       "    });\n",
       "    this.resizeObserverInstance.observe(canvas_div);\n",
       "\n",
       "    function on_mouse_event_closure(name) {\n",
       "        /* User Agent sniffing is bad, but WebKit is busted:\n",
       "         * https://bugs.webkit.org/show_bug.cgi?id=144526\n",
       "         * https://bugs.webkit.org/show_bug.cgi?id=181818\n",
       "         * The worst that happens here is that they get an extra browser\n",
       "         * selection when dragging, if this check fails to catch them.\n",
       "         */\n",
       "        var UA = navigator.userAgent;\n",
       "        var isWebKit = /AppleWebKit/.test(UA) && !/Chrome/.test(UA);\n",
       "        if(isWebKit) {\n",
       "            return function (event) {\n",
       "                /* This prevents the web browser from automatically changing to\n",
       "                 * the text insertion cursor when the button is pressed. We\n",
       "                 * want to control all of the cursor setting manually through\n",
       "                 * the 'cursor' event from matplotlib */\n",
       "                event.preventDefault()\n",
       "                return fig.mouse_event(event, name);\n",
       "            };\n",
       "        } else {\n",
       "            return function (event) {\n",
       "                return fig.mouse_event(event, name);\n",
       "            };\n",
       "        }\n",
       "    }\n",
       "\n",
       "    canvas_div.addEventListener(\n",
       "        'mousedown',\n",
       "        on_mouse_event_closure('button_press')\n",
       "    );\n",
       "    canvas_div.addEventListener(\n",
       "        'mouseup',\n",
       "        on_mouse_event_closure('button_release')\n",
       "    );\n",
       "    canvas_div.addEventListener(\n",
       "        'dblclick',\n",
       "        on_mouse_event_closure('dblclick')\n",
       "    );\n",
       "    // Throttle sequential mouse events to 1 every 20ms.\n",
       "    canvas_div.addEventListener(\n",
       "        'mousemove',\n",
       "        on_mouse_event_closure('motion_notify')\n",
       "    );\n",
       "\n",
       "    canvas_div.addEventListener(\n",
       "        'mouseenter',\n",
       "        on_mouse_event_closure('figure_enter')\n",
       "    );\n",
       "    canvas_div.addEventListener(\n",
       "        'mouseleave',\n",
       "        on_mouse_event_closure('figure_leave')\n",
       "    );\n",
       "\n",
       "    canvas_div.addEventListener('wheel', function (event) {\n",
       "        if (event.deltaY < 0) {\n",
       "            event.step = 1;\n",
       "        } else {\n",
       "            event.step = -1;\n",
       "        }\n",
       "        on_mouse_event_closure('scroll')(event);\n",
       "    });\n",
       "\n",
       "    canvas_div.appendChild(canvas);\n",
       "    canvas_div.appendChild(rubberband_canvas);\n",
       "\n",
       "    this.rubberband_context = rubberband_canvas.getContext('2d');\n",
       "    this.rubberband_context.strokeStyle = '#000000';\n",
       "\n",
       "    this._resize_canvas = function (width, height, forward) {\n",
       "        if (forward) {\n",
       "            canvas_div.style.width = width + 'px';\n",
       "            canvas_div.style.height = height + 'px';\n",
       "        }\n",
       "    };\n",
       "\n",
       "    // Disable right mouse context menu.\n",
       "    canvas_div.addEventListener('contextmenu', function (_e) {\n",
       "        event.preventDefault();\n",
       "        return false;\n",
       "    });\n",
       "\n",
       "    function set_focus() {\n",
       "        canvas.focus();\n",
       "        canvas_div.focus();\n",
       "    }\n",
       "\n",
       "    window.setTimeout(set_focus, 100);\n",
       "};\n",
       "\n",
       "mpl.figure.prototype._init_toolbar = function () {\n",
       "    var fig = this;\n",
       "\n",
       "    var toolbar = document.createElement('div');\n",
       "    toolbar.classList = 'mpl-toolbar';\n",
       "    this.root.appendChild(toolbar);\n",
       "\n",
       "    function on_click_closure(name) {\n",
       "        return function (_event) {\n",
       "            return fig.toolbar_button_onclick(name);\n",
       "        };\n",
       "    }\n",
       "\n",
       "    function on_mouseover_closure(tooltip) {\n",
       "        return function (event) {\n",
       "            if (!event.currentTarget.disabled) {\n",
       "                return fig.toolbar_button_onmouseover(tooltip);\n",
       "            }\n",
       "        };\n",
       "    }\n",
       "\n",
       "    fig.buttons = {};\n",
       "    var buttonGroup = document.createElement('div');\n",
       "    buttonGroup.classList = 'mpl-button-group';\n",
       "    for (var toolbar_ind in mpl.toolbar_items) {\n",
       "        var name = mpl.toolbar_items[toolbar_ind][0];\n",
       "        var tooltip = mpl.toolbar_items[toolbar_ind][1];\n",
       "        var image = mpl.toolbar_items[toolbar_ind][2];\n",
       "        var method_name = mpl.toolbar_items[toolbar_ind][3];\n",
       "\n",
       "        if (!name) {\n",
       "            /* Instead of a spacer, we start a new button group. */\n",
       "            if (buttonGroup.hasChildNodes()) {\n",
       "                toolbar.appendChild(buttonGroup);\n",
       "            }\n",
       "            buttonGroup = document.createElement('div');\n",
       "            buttonGroup.classList = 'mpl-button-group';\n",
       "            continue;\n",
       "        }\n",
       "\n",
       "        var button = (fig.buttons[name] = document.createElement('button'));\n",
       "        button.classList = 'mpl-widget';\n",
       "        button.setAttribute('role', 'button');\n",
       "        button.setAttribute('aria-disabled', 'false');\n",
       "        button.addEventListener('click', on_click_closure(method_name));\n",
       "        button.addEventListener('mouseover', on_mouseover_closure(tooltip));\n",
       "\n",
       "        var icon_img = document.createElement('img');\n",
       "        icon_img.src = '_images/' + image + '.png';\n",
       "        icon_img.srcset = '_images/' + image + '_large.png 2x';\n",
       "        icon_img.alt = tooltip;\n",
       "        button.appendChild(icon_img);\n",
       "\n",
       "        buttonGroup.appendChild(button);\n",
       "    }\n",
       "\n",
       "    if (buttonGroup.hasChildNodes()) {\n",
       "        toolbar.appendChild(buttonGroup);\n",
       "    }\n",
       "\n",
       "    var fmt_picker = document.createElement('select');\n",
       "    fmt_picker.classList = 'mpl-widget';\n",
       "    toolbar.appendChild(fmt_picker);\n",
       "    this.format_dropdown = fmt_picker;\n",
       "\n",
       "    for (var ind in mpl.extensions) {\n",
       "        var fmt = mpl.extensions[ind];\n",
       "        var option = document.createElement('option');\n",
       "        option.selected = fmt === mpl.default_extension;\n",
       "        option.innerHTML = fmt;\n",
       "        fmt_picker.appendChild(option);\n",
       "    }\n",
       "\n",
       "    var status_bar = document.createElement('span');\n",
       "    status_bar.classList = 'mpl-message';\n",
       "    toolbar.appendChild(status_bar);\n",
       "    this.message = status_bar;\n",
       "};\n",
       "\n",
       "mpl.figure.prototype.request_resize = function (x_pixels, y_pixels) {\n",
       "    // Request matplotlib to resize the figure. Matplotlib will then trigger a resize in the client,\n",
       "    // which will in turn request a refresh of the image.\n",
       "    this.send_message('resize', { width: x_pixels, height: y_pixels });\n",
       "};\n",
       "\n",
       "mpl.figure.prototype.send_message = function (type, properties) {\n",
       "    properties['type'] = type;\n",
       "    properties['figure_id'] = this.id;\n",
       "    this.ws.send(JSON.stringify(properties));\n",
       "};\n",
       "\n",
       "mpl.figure.prototype.send_draw_message = function () {\n",
       "    if (!this.waiting) {\n",
       "        this.waiting = true;\n",
       "        this.ws.send(JSON.stringify({ type: 'draw', figure_id: this.id }));\n",
       "    }\n",
       "};\n",
       "\n",
       "mpl.figure.prototype.handle_save = function (fig, _msg) {\n",
       "    var format_dropdown = fig.format_dropdown;\n",
       "    var format = format_dropdown.options[format_dropdown.selectedIndex].value;\n",
       "    fig.ondownload(fig, format);\n",
       "};\n",
       "\n",
       "mpl.figure.prototype.handle_resize = function (fig, msg) {\n",
       "    var size = msg['size'];\n",
       "    if (size[0] !== fig.canvas.width || size[1] !== fig.canvas.height) {\n",
       "        fig._resize_canvas(size[0], size[1], msg['forward']);\n",
       "        fig.send_message('refresh', {});\n",
       "    }\n",
       "};\n",
       "\n",
       "mpl.figure.prototype.handle_rubberband = function (fig, msg) {\n",
       "    var x0 = msg['x0'] / fig.ratio;\n",
       "    var y0 = (fig.canvas.height - msg['y0']) / fig.ratio;\n",
       "    var x1 = msg['x1'] / fig.ratio;\n",
       "    var y1 = (fig.canvas.height - msg['y1']) / fig.ratio;\n",
       "    x0 = Math.floor(x0) + 0.5;\n",
       "    y0 = Math.floor(y0) + 0.5;\n",
       "    x1 = Math.floor(x1) + 0.5;\n",
       "    y1 = Math.floor(y1) + 0.5;\n",
       "    var min_x = Math.min(x0, x1);\n",
       "    var min_y = Math.min(y0, y1);\n",
       "    var width = Math.abs(x1 - x0);\n",
       "    var height = Math.abs(y1 - y0);\n",
       "\n",
       "    fig.rubberband_context.clearRect(\n",
       "        0,\n",
       "        0,\n",
       "        fig.canvas.width / fig.ratio,\n",
       "        fig.canvas.height / fig.ratio\n",
       "    );\n",
       "\n",
       "    fig.rubberband_context.strokeRect(min_x, min_y, width, height);\n",
       "};\n",
       "\n",
       "mpl.figure.prototype.handle_figure_label = function (fig, msg) {\n",
       "    // Updates the figure title.\n",
       "    fig.header.textContent = msg['label'];\n",
       "};\n",
       "\n",
       "mpl.figure.prototype.handle_cursor = function (fig, msg) {\n",
       "    fig.canvas_div.style.cursor = msg['cursor'];\n",
       "};\n",
       "\n",
       "mpl.figure.prototype.handle_message = function (fig, msg) {\n",
       "    fig.message.textContent = msg['message'];\n",
       "};\n",
       "\n",
       "mpl.figure.prototype.handle_draw = function (fig, _msg) {\n",
       "    // Request the server to send over a new figure.\n",
       "    fig.send_draw_message();\n",
       "};\n",
       "\n",
       "mpl.figure.prototype.handle_image_mode = function (fig, msg) {\n",
       "    fig.image_mode = msg['mode'];\n",
       "};\n",
       "\n",
       "mpl.figure.prototype.handle_history_buttons = function (fig, msg) {\n",
       "    for (var key in msg) {\n",
       "        if (!(key in fig.buttons)) {\n",
       "            continue;\n",
       "        }\n",
       "        fig.buttons[key].disabled = !msg[key];\n",
       "        fig.buttons[key].setAttribute('aria-disabled', !msg[key]);\n",
       "    }\n",
       "};\n",
       "\n",
       "mpl.figure.prototype.handle_navigate_mode = function (fig, msg) {\n",
       "    if (msg['mode'] === 'PAN') {\n",
       "        fig.buttons['Pan'].classList.add('active');\n",
       "        fig.buttons['Zoom'].classList.remove('active');\n",
       "    } else if (msg['mode'] === 'ZOOM') {\n",
       "        fig.buttons['Pan'].classList.remove('active');\n",
       "        fig.buttons['Zoom'].classList.add('active');\n",
       "    } else {\n",
       "        fig.buttons['Pan'].classList.remove('active');\n",
       "        fig.buttons['Zoom'].classList.remove('active');\n",
       "    }\n",
       "};\n",
       "\n",
       "mpl.figure.prototype.updated_canvas_event = function () {\n",
       "    // Called whenever the canvas gets updated.\n",
       "    this.send_message('ack', {});\n",
       "};\n",
       "\n",
       "// A function to construct a web socket function for onmessage handling.\n",
       "// Called in the figure constructor.\n",
       "mpl.figure.prototype._make_on_message_function = function (fig) {\n",
       "    return function socket_on_message(evt) {\n",
       "        if (evt.data instanceof Blob) {\n",
       "            var img = evt.data;\n",
       "            if (img.type !== 'image/png') {\n",
       "                /* FIXME: We get \"Resource interpreted as Image but\n",
       "                 * transferred with MIME type text/plain:\" errors on\n",
       "                 * Chrome.  But how to set the MIME type?  It doesn't seem\n",
       "                 * to be part of the websocket stream */\n",
       "                img.type = 'image/png';\n",
       "            }\n",
       "\n",
       "            /* Free the memory for the previous frames */\n",
       "            if (fig.imageObj.src) {\n",
       "                (window.URL || window.webkitURL).revokeObjectURL(\n",
       "                    fig.imageObj.src\n",
       "                );\n",
       "            }\n",
       "\n",
       "            fig.imageObj.src = (window.URL || window.webkitURL).createObjectURL(\n",
       "                img\n",
       "            );\n",
       "            fig.updated_canvas_event();\n",
       "            fig.waiting = false;\n",
       "            return;\n",
       "        } else if (\n",
       "            typeof evt.data === 'string' &&\n",
       "            evt.data.slice(0, 21) === 'data:image/png;base64'\n",
       "        ) {\n",
       "            fig.imageObj.src = evt.data;\n",
       "            fig.updated_canvas_event();\n",
       "            fig.waiting = false;\n",
       "            return;\n",
       "        }\n",
       "\n",
       "        var msg = JSON.parse(evt.data);\n",
       "        var msg_type = msg['type'];\n",
       "\n",
       "        // Call the  \"handle_{type}\" callback, which takes\n",
       "        // the figure and JSON message as its only arguments.\n",
       "        try {\n",
       "            var callback = fig['handle_' + msg_type];\n",
       "        } catch (e) {\n",
       "            console.log(\n",
       "                \"No handler for the '\" + msg_type + \"' message type: \",\n",
       "                msg\n",
       "            );\n",
       "            return;\n",
       "        }\n",
       "\n",
       "        if (callback) {\n",
       "            try {\n",
       "                // console.log(\"Handling '\" + msg_type + \"' message: \", msg);\n",
       "                callback(fig, msg);\n",
       "            } catch (e) {\n",
       "                console.log(\n",
       "                    \"Exception inside the 'handler_\" + msg_type + \"' callback:\",\n",
       "                    e,\n",
       "                    e.stack,\n",
       "                    msg\n",
       "                );\n",
       "            }\n",
       "        }\n",
       "    };\n",
       "};\n",
       "\n",
       "function getModifiers(event) {\n",
       "    var mods = [];\n",
       "    if (event.ctrlKey) {\n",
       "        mods.push('ctrl');\n",
       "    }\n",
       "    if (event.altKey) {\n",
       "        mods.push('alt');\n",
       "    }\n",
       "    if (event.shiftKey) {\n",
       "        mods.push('shift');\n",
       "    }\n",
       "    if (event.metaKey) {\n",
       "        mods.push('meta');\n",
       "    }\n",
       "    return mods;\n",
       "}\n",
       "\n",
       "/*\n",
       " * return a copy of an object with only non-object keys\n",
       " * we need this to avoid circular references\n",
       " * https://stackoverflow.com/a/24161582/3208463\n",
       " */\n",
       "function simpleKeys(original) {\n",
       "    return Object.keys(original).reduce(function (obj, key) {\n",
       "        if (typeof original[key] !== 'object') {\n",
       "            obj[key] = original[key];\n",
       "        }\n",
       "        return obj;\n",
       "    }, {});\n",
       "}\n",
       "\n",
       "mpl.figure.prototype.mouse_event = function (event, name) {\n",
       "    if (name === 'button_press') {\n",
       "        this.canvas.focus();\n",
       "        this.canvas_div.focus();\n",
       "    }\n",
       "\n",
       "    // from https://stackoverflow.com/q/1114465\n",
       "    var boundingRect = this.canvas.getBoundingClientRect();\n",
       "    var x = (event.clientX - boundingRect.left) * this.ratio;\n",
       "    var y = (event.clientY - boundingRect.top) * this.ratio;\n",
       "\n",
       "    this.send_message(name, {\n",
       "        x: x,\n",
       "        y: y,\n",
       "        button: event.button,\n",
       "        step: event.step,\n",
       "        modifiers: getModifiers(event),\n",
       "        guiEvent: simpleKeys(event),\n",
       "    });\n",
       "\n",
       "    return false;\n",
       "};\n",
       "\n",
       "mpl.figure.prototype._key_event_extra = function (_event, _name) {\n",
       "    // Handle any extra behaviour associated with a key event\n",
       "};\n",
       "\n",
       "mpl.figure.prototype.key_event = function (event, name) {\n",
       "    // Prevent repeat events\n",
       "    if (name === 'key_press') {\n",
       "        if (event.key === this._key) {\n",
       "            return;\n",
       "        } else {\n",
       "            this._key = event.key;\n",
       "        }\n",
       "    }\n",
       "    if (name === 'key_release') {\n",
       "        this._key = null;\n",
       "    }\n",
       "\n",
       "    var value = '';\n",
       "    if (event.ctrlKey && event.key !== 'Control') {\n",
       "        value += 'ctrl+';\n",
       "    }\n",
       "    else if (event.altKey && event.key !== 'Alt') {\n",
       "        value += 'alt+';\n",
       "    }\n",
       "    else if (event.shiftKey && event.key !== 'Shift') {\n",
       "        value += 'shift+';\n",
       "    }\n",
       "\n",
       "    value += 'k' + event.key;\n",
       "\n",
       "    this._key_event_extra(event, name);\n",
       "\n",
       "    this.send_message(name, { key: value, guiEvent: simpleKeys(event) });\n",
       "    return false;\n",
       "};\n",
       "\n",
       "mpl.figure.prototype.toolbar_button_onclick = function (name) {\n",
       "    if (name === 'download') {\n",
       "        this.handle_save(this, null);\n",
       "    } else {\n",
       "        this.send_message('toolbar_button', { name: name });\n",
       "    }\n",
       "};\n",
       "\n",
       "mpl.figure.prototype.toolbar_button_onmouseover = function (tooltip) {\n",
       "    this.message.textContent = tooltip;\n",
       "};\n",
       "\n",
       "///////////////// REMAINING CONTENT GENERATED BY embed_js.py /////////////////\n",
       "// prettier-ignore\n",
       "var _JSXTOOLS_RESIZE_OBSERVER=function(A){var t,i=new WeakMap,n=new WeakMap,a=new WeakMap,r=new WeakMap,o=new Set;function s(e){if(!(this instanceof s))throw new TypeError(\"Constructor requires 'new' operator\");i.set(this,e)}function h(){throw new TypeError(\"Function is not a constructor\")}function c(e,t,i,n){e=0 in arguments?Number(arguments[0]):0,t=1 in arguments?Number(arguments[1]):0,i=2 in arguments?Number(arguments[2]):0,n=3 in arguments?Number(arguments[3]):0,this.right=(this.x=this.left=e)+(this.width=i),this.bottom=(this.y=this.top=t)+(this.height=n),Object.freeze(this)}function d(){t=requestAnimationFrame(d);var s=new WeakMap,p=new Set;o.forEach((function(t){r.get(t).forEach((function(i){var r=t instanceof window.SVGElement,o=a.get(t),d=r?0:parseFloat(o.paddingTop),f=r?0:parseFloat(o.paddingRight),l=r?0:parseFloat(o.paddingBottom),u=r?0:parseFloat(o.paddingLeft),g=r?0:parseFloat(o.borderTopWidth),m=r?0:parseFloat(o.borderRightWidth),w=r?0:parseFloat(o.borderBottomWidth),b=u+f,F=d+l,v=(r?0:parseFloat(o.borderLeftWidth))+m,W=g+w,y=r?0:t.offsetHeight-W-t.clientHeight,E=r?0:t.offsetWidth-v-t.clientWidth,R=b+v,z=F+W,M=r?t.width:parseFloat(o.width)-R-E,O=r?t.height:parseFloat(o.height)-z-y;if(n.has(t)){var k=n.get(t);if(k[0]===M&&k[1]===O)return}n.set(t,[M,O]);var S=Object.create(h.prototype);S.target=t,S.contentRect=new c(u,d,M,O),s.has(i)||(s.set(i,[]),p.add(i)),s.get(i).push(S)}))})),p.forEach((function(e){i.get(e).call(e,s.get(e),e)}))}return s.prototype.observe=function(i){if(i instanceof window.Element){r.has(i)||(r.set(i,new Set),o.add(i),a.set(i,window.getComputedStyle(i)));var n=r.get(i);n.has(this)||n.add(this),cancelAnimationFrame(t),t=requestAnimationFrame(d)}},s.prototype.unobserve=function(i){if(i instanceof window.Element&&r.has(i)){var n=r.get(i);n.has(this)&&(n.delete(this),n.size||(r.delete(i),o.delete(i))),n.size||r.delete(i),o.size||cancelAnimationFrame(t)}},A.DOMRectReadOnly=c,A.ResizeObserver=s,A.ResizeObserverEntry=h,A}; // eslint-disable-line\n",
       "mpl.toolbar_items = [[\"Home\", \"Reset original view\", \"fa fa-home\", \"home\"], [\"Back\", \"Back to previous view\", \"fa fa-arrow-left\", \"back\"], [\"Forward\", \"Forward to next view\", \"fa fa-arrow-right\", \"forward\"], [\"\", \"\", \"\", \"\"], [\"Pan\", \"Left button pans, Right button zooms\\nx/y fixes axis, CTRL fixes aspect\", \"fa fa-arrows\", \"pan\"], [\"Zoom\", \"Zoom to rectangle\\nx/y fixes axis\", \"fa fa-square-o\", \"zoom\"], [\"\", \"\", \"\", \"\"], [\"Download\", \"Download plot\", \"fa fa-floppy-o\", \"download\"]];\n",
       "\n",
       "mpl.extensions = [\"eps\", \"jpeg\", \"pgf\", \"pdf\", \"png\", \"ps\", \"raw\", \"svg\", \"tif\", \"webp\"];\n",
       "\n",
       "mpl.default_extension = \"png\";/* global mpl */\n",
       "\n",
       "var comm_websocket_adapter = function (comm) {\n",
       "    // Create a \"websocket\"-like object which calls the given IPython comm\n",
       "    // object with the appropriate methods. Currently this is a non binary\n",
       "    // socket, so there is still some room for performance tuning.\n",
       "    var ws = {};\n",
       "\n",
       "    ws.binaryType = comm.kernel.ws.binaryType;\n",
       "    ws.readyState = comm.kernel.ws.readyState;\n",
       "    function updateReadyState(_event) {\n",
       "        if (comm.kernel.ws) {\n",
       "            ws.readyState = comm.kernel.ws.readyState;\n",
       "        } else {\n",
       "            ws.readyState = 3; // Closed state.\n",
       "        }\n",
       "    }\n",
       "    comm.kernel.ws.addEventListener('open', updateReadyState);\n",
       "    comm.kernel.ws.addEventListener('close', updateReadyState);\n",
       "    comm.kernel.ws.addEventListener('error', updateReadyState);\n",
       "\n",
       "    ws.close = function () {\n",
       "        comm.close();\n",
       "    };\n",
       "    ws.send = function (m) {\n",
       "        //console.log('sending', m);\n",
       "        comm.send(m);\n",
       "    };\n",
       "    // Register the callback with on_msg.\n",
       "    comm.on_msg(function (msg) {\n",
       "        //console.log('receiving', msg['content']['data'], msg);\n",
       "        var data = msg['content']['data'];\n",
       "        if (data['blob'] !== undefined) {\n",
       "            data = {\n",
       "                data: new Blob(msg['buffers'], { type: data['blob'] }),\n",
       "            };\n",
       "        }\n",
       "        // Pass the mpl event to the overridden (by mpl) onmessage function.\n",
       "        ws.onmessage(data);\n",
       "    });\n",
       "    return ws;\n",
       "};\n",
       "\n",
       "mpl.mpl_figure_comm = function (comm, msg) {\n",
       "    // This is the function which gets called when the mpl process\n",
       "    // starts-up an IPython Comm through the \"matplotlib\" channel.\n",
       "\n",
       "    var id = msg.content.data.id;\n",
       "    // Get hold of the div created by the display call when the Comm\n",
       "    // socket was opened in Python.\n",
       "    var element = document.getElementById(id);\n",
       "    var ws_proxy = comm_websocket_adapter(comm);\n",
       "\n",
       "    function ondownload(figure, _format) {\n",
       "        window.open(figure.canvas.toDataURL());\n",
       "    }\n",
       "\n",
       "    var fig = new mpl.figure(id, ws_proxy, ondownload, element);\n",
       "\n",
       "    // Call onopen now - mpl needs it, as it is assuming we've passed it a real\n",
       "    // web socket which is closed, not our websocket->open comm proxy.\n",
       "    ws_proxy.onopen();\n",
       "\n",
       "    fig.parent_element = element;\n",
       "    fig.cell_info = mpl.find_output_cell(\"<div id='\" + id + \"'></div>\");\n",
       "    if (!fig.cell_info) {\n",
       "        console.error('Failed to find cell for figure', id, fig);\n",
       "        return;\n",
       "    }\n",
       "    fig.cell_info[0].output_area.element.on(\n",
       "        'cleared',\n",
       "        { fig: fig },\n",
       "        fig._remove_fig_handler\n",
       "    );\n",
       "};\n",
       "\n",
       "mpl.figure.prototype.handle_close = function (fig, msg) {\n",
       "    var width = fig.canvas.width / fig.ratio;\n",
       "    fig.cell_info[0].output_area.element.off(\n",
       "        'cleared',\n",
       "        fig._remove_fig_handler\n",
       "    );\n",
       "    fig.resizeObserverInstance.unobserve(fig.canvas_div);\n",
       "\n",
       "    // Update the output cell to use the data from the current canvas.\n",
       "    fig.push_to_output();\n",
       "    var dataURL = fig.canvas.toDataURL();\n",
       "    // Re-enable the keyboard manager in IPython - without this line, in FF,\n",
       "    // the notebook keyboard shortcuts fail.\n",
       "    IPython.keyboard_manager.enable();\n",
       "    fig.parent_element.innerHTML =\n",
       "        '<img src=\"' + dataURL + '\" width=\"' + width + '\">';\n",
       "    fig.close_ws(fig, msg);\n",
       "};\n",
       "\n",
       "mpl.figure.prototype.close_ws = function (fig, msg) {\n",
       "    fig.send_message('closing', msg);\n",
       "    // fig.ws.close()\n",
       "};\n",
       "\n",
       "mpl.figure.prototype.push_to_output = function (_remove_interactive) {\n",
       "    // Turn the data on the canvas into data in the output cell.\n",
       "    var width = this.canvas.width / this.ratio;\n",
       "    var dataURL = this.canvas.toDataURL();\n",
       "    this.cell_info[1]['text/html'] =\n",
       "        '<img src=\"' + dataURL + '\" width=\"' + width + '\">';\n",
       "};\n",
       "\n",
       "mpl.figure.prototype.updated_canvas_event = function () {\n",
       "    // Tell IPython that the notebook contents must change.\n",
       "    IPython.notebook.set_dirty(true);\n",
       "    this.send_message('ack', {});\n",
       "    var fig = this;\n",
       "    // Wait a second, then push the new image to the DOM so\n",
       "    // that it is saved nicely (might be nice to debounce this).\n",
       "    setTimeout(function () {\n",
       "        fig.push_to_output();\n",
       "    }, 1000);\n",
       "};\n",
       "\n",
       "mpl.figure.prototype._init_toolbar = function () {\n",
       "    var fig = this;\n",
       "\n",
       "    var toolbar = document.createElement('div');\n",
       "    toolbar.classList = 'btn-toolbar';\n",
       "    this.root.appendChild(toolbar);\n",
       "\n",
       "    function on_click_closure(name) {\n",
       "        return function (_event) {\n",
       "            return fig.toolbar_button_onclick(name);\n",
       "        };\n",
       "    }\n",
       "\n",
       "    function on_mouseover_closure(tooltip) {\n",
       "        return function (event) {\n",
       "            if (!event.currentTarget.disabled) {\n",
       "                return fig.toolbar_button_onmouseover(tooltip);\n",
       "            }\n",
       "        };\n",
       "    }\n",
       "\n",
       "    fig.buttons = {};\n",
       "    var buttonGroup = document.createElement('div');\n",
       "    buttonGroup.classList = 'btn-group';\n",
       "    var button;\n",
       "    for (var toolbar_ind in mpl.toolbar_items) {\n",
       "        var name = mpl.toolbar_items[toolbar_ind][0];\n",
       "        var tooltip = mpl.toolbar_items[toolbar_ind][1];\n",
       "        var image = mpl.toolbar_items[toolbar_ind][2];\n",
       "        var method_name = mpl.toolbar_items[toolbar_ind][3];\n",
       "\n",
       "        if (!name) {\n",
       "            /* Instead of a spacer, we start a new button group. */\n",
       "            if (buttonGroup.hasChildNodes()) {\n",
       "                toolbar.appendChild(buttonGroup);\n",
       "            }\n",
       "            buttonGroup = document.createElement('div');\n",
       "            buttonGroup.classList = 'btn-group';\n",
       "            continue;\n",
       "        }\n",
       "\n",
       "        button = fig.buttons[name] = document.createElement('button');\n",
       "        button.classList = 'btn btn-default';\n",
       "        button.href = '#';\n",
       "        button.title = name;\n",
       "        button.innerHTML = '<i class=\"fa ' + image + ' fa-lg\"></i>';\n",
       "        button.addEventListener('click', on_click_closure(method_name));\n",
       "        button.addEventListener('mouseover', on_mouseover_closure(tooltip));\n",
       "        buttonGroup.appendChild(button);\n",
       "    }\n",
       "\n",
       "    if (buttonGroup.hasChildNodes()) {\n",
       "        toolbar.appendChild(buttonGroup);\n",
       "    }\n",
       "\n",
       "    // Add the status bar.\n",
       "    var status_bar = document.createElement('span');\n",
       "    status_bar.classList = 'mpl-message pull-right';\n",
       "    toolbar.appendChild(status_bar);\n",
       "    this.message = status_bar;\n",
       "\n",
       "    // Add the close button to the window.\n",
       "    var buttongrp = document.createElement('div');\n",
       "    buttongrp.classList = 'btn-group inline pull-right';\n",
       "    button = document.createElement('button');\n",
       "    button.classList = 'btn btn-mini btn-primary';\n",
       "    button.href = '#';\n",
       "    button.title = 'Stop Interaction';\n",
       "    button.innerHTML = '<i class=\"fa fa-power-off icon-remove icon-large\"></i>';\n",
       "    button.addEventListener('click', function (_evt) {\n",
       "        fig.handle_close(fig, {});\n",
       "    });\n",
       "    button.addEventListener(\n",
       "        'mouseover',\n",
       "        on_mouseover_closure('Stop Interaction')\n",
       "    );\n",
       "    buttongrp.appendChild(button);\n",
       "    var titlebar = this.root.querySelector('.ui-dialog-titlebar');\n",
       "    titlebar.insertBefore(buttongrp, titlebar.firstChild);\n",
       "};\n",
       "\n",
       "mpl.figure.prototype._remove_fig_handler = function (event) {\n",
       "    var fig = event.data.fig;\n",
       "    if (event.target !== this) {\n",
       "        // Ignore bubbled events from children.\n",
       "        return;\n",
       "    }\n",
       "    fig.close_ws(fig, {});\n",
       "};\n",
       "\n",
       "mpl.figure.prototype._root_extra_style = function (el) {\n",
       "    el.style.boxSizing = 'content-box'; // override notebook setting of border-box.\n",
       "};\n",
       "\n",
       "mpl.figure.prototype._canvas_extra_style = function (el) {\n",
       "    // this is important to make the div 'focusable\n",
       "    el.setAttribute('tabindex', 0);\n",
       "    // reach out to IPython and tell the keyboard manager to turn it's self\n",
       "    // off when our div gets focus\n",
       "\n",
       "    // location in version 3\n",
       "    if (IPython.notebook.keyboard_manager) {\n",
       "        IPython.notebook.keyboard_manager.register_events(el);\n",
       "    } else {\n",
       "        // location in version 2\n",
       "        IPython.keyboard_manager.register_events(el);\n",
       "    }\n",
       "};\n",
       "\n",
       "mpl.figure.prototype._key_event_extra = function (event, _name) {\n",
       "    // Check for shift+enter\n",
       "    if (event.shiftKey && event.which === 13) {\n",
       "        this.canvas_div.blur();\n",
       "        // select the cell after this one\n",
       "        var index = IPython.notebook.find_cell_index(this.cell_info[0]);\n",
       "        IPython.notebook.select(index + 1);\n",
       "    }\n",
       "};\n",
       "\n",
       "mpl.figure.prototype.handle_save = function (fig, _msg) {\n",
       "    fig.ondownload(fig, null);\n",
       "};\n",
       "\n",
       "mpl.find_output_cell = function (html_output) {\n",
       "    // Return the cell and output element which can be found *uniquely* in the notebook.\n",
       "    // Note - this is a bit hacky, but it is done because the \"notebook_saving.Notebook\"\n",
       "    // IPython event is triggered only after the cells have been serialised, which for\n",
       "    // our purposes (turning an active figure into a static one), is too late.\n",
       "    var cells = IPython.notebook.get_cells();\n",
       "    var ncells = cells.length;\n",
       "    for (var i = 0; i < ncells; i++) {\n",
       "        var cell = cells[i];\n",
       "        if (cell.cell_type === 'code') {\n",
       "            for (var j = 0; j < cell.output_area.outputs.length; j++) {\n",
       "                var data = cell.output_area.outputs[j];\n",
       "                if (data.data) {\n",
       "                    // IPython >= 3 moved mimebundle to data attribute of output\n",
       "                    data = data.data;\n",
       "                }\n",
       "                if (data['text/html'] === html_output) {\n",
       "                    return [cell, data, j];\n",
       "                }\n",
       "            }\n",
       "        }\n",
       "    }\n",
       "};\n",
       "\n",
       "// Register the function which deals with the matplotlib target/channel.\n",
       "// The kernel may be null if the page has been refreshed.\n",
       "if (IPython.notebook.kernel !== null) {\n",
       "    IPython.notebook.kernel.comm_manager.register_target(\n",
       "        'matplotlib',\n",
       "        mpl.mpl_figure_comm\n",
       "    );\n",
       "}\n"
      ],
      "text/plain": [
       "<IPython.core.display.Javascript object>"
      ]
     },
     "metadata": {},
     "output_type": "display_data"
    },
    {
     "data": {
      "text/html": [
       "<img src=\"data:image/png;base64,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\" width=\"640\">"
      ],
      "text/plain": [
       "<IPython.core.display.HTML object>"
      ]
     },
     "metadata": {},
     "output_type": "display_data"
    }
   ],
   "source": [
    "fig2 = plt.figure()\n",
    "plt.imshow(np.where(np.isnan(i_data), np.nanmedian(i_data), i_data)) \n",
    "plt.title(\"2-D Heat Map\")\n",
    "plt.show()"
   ]
  },
  {
   "cell_type": "markdown",
   "metadata": {
    "slideshow": {
     "slide_type": "slide"
    }
   },
   "source": [
    "We can quickly see the problem with a linear scaling. The dynamic range is too large to reveal any significant structure in the data. We can see the brightest stars, but that is it.\n",
    "\n",
    "We can adjust the bounds on the plotted distribution to better highlight the salient features in the data."
   ]
  },
  {
   "cell_type": "markdown",
   "metadata": {
    "slideshow": {
     "slide_type": "slide"
    }
   },
   "source": [
    "**Problem 1b**\n",
    "\n",
    "Make a histogram of the counts in the image. If necessary, adjust the default settings to get a better sense of the distribution. \n",
    "\n",
    "*Hint* - be sure to input a 1D array, `i_data` is 2D."
   ]
  },
  {
   "cell_type": "code",
   "execution_count": 7,
   "metadata": {
    "slideshow": {
     "slide_type": "slide"
    }
   },
   "outputs": [],
   "source": [
    "fig3 = plt.figure()# complete\n",
    "plt.hist(i_data[0], bins = 1000)\n",
    "plt.hist(i_data[1], bins = 1000)\n",
    "plt.xlabel('pixels')\n",
    "plt.ylabel('counts')\n",
    "plt.xlim([0,200])\n",
    "plt.ylim([0,300])\n",
    "plt.show()    \n",
    "# complete"
   ]
  },
  {
   "cell_type": "markdown",
   "metadata": {
    "slideshow": {
     "slide_type": "slide"
    }
   },
   "source": [
    "We can see a nearly logarithmic distribution, with nearly all the pixels near the \"noise floor\" of 175 or so, and a large tail to larger values.\n",
    "\n",
    "Based on this histogram, we will clip the range we show to create better constrast in the visualization."
   ]
  },
  {
   "cell_type": "markdown",
   "metadata": {
    "slideshow": {
     "slide_type": "slide"
    }
   },
   "source": [
    "**Problem 1c**\n",
    "\n",
    "Replot the i-band image while limiting the range that is displayed to extend from $m$ the minimum pixel value to $M$ the maximum pixel value. While it is possible to do this directly in `imshow()`, use `numpy` to limit the range of what is plotted (the utility of this will become clear later)."
   ]
  },
  {
   "cell_type": "code",
   "execution_count": null,
   "metadata": {
    "slideshow": {
     "slide_type": "slide"
    }
   },
   "outputs": [],
   "source": [
    "m = \n",
    "M = \n",
    "\n",
    "fig, ax = plt.subplots(# complete\n",
    "    \n",
    "# complete"
   ]
  },
  {
   "cell_type": "markdown",
   "metadata": {
    "slideshow": {
     "slide_type": "slide"
    }
   },
   "source": [
    "Between these two examples we have seen the challenge of linear scales: \n",
    "\n",
    "(i) when featuring the full dynamic range they only feature \"highlights\" associated with the brightest pixels, \n",
    "\n",
    "(ii) when the the plotting range is limited then information about the brightest stars and galaxy cores is lost. "
   ]
  },
  {
   "cell_type": "markdown",
   "metadata": {
    "slideshow": {
     "slide_type": "slide"
    }
   },
   "source": [
    "**Problem 1d** \n",
    "\n",
    "Plot the i-band data using a log stretch. How does this compare to the linear stretch?\n",
    "\n",
    "*Hint* – think about the salient features of the image. "
   ]
  },
  {
   "cell_type": "code",
   "execution_count": null,
   "metadata": {
    "slideshow": {
     "slide_type": "slide"
    }
   },
   "outputs": [],
   "source": [
    "fig, ax = plt.subplots(# complete\n",
    "    \n",
    "# complete"
   ]
  },
  {
   "cell_type": "markdown",
   "metadata": {
    "slideshow": {
     "slide_type": "slide"
    }
   },
   "source": [
    "Once again the brightest pixels dominate the range that is plotted, however, fainter structures are far more clear than with the linear stretch. \n",
    "\n",
    "It is also worth noting that the eye's response to intensity is roughly logarithmic\\*. Therefore, plotting the data with a logrithmic stretch \"mimics\" what we actually see when looking up at the night sky."
   ]
  },
  {
   "cell_type": "markdown",
   "metadata": {
    "slideshow": {
     "slide_type": "subslide"
    }
   },
   "source": [
    "\\* This is the origin of the \"magnitude\" system, which is one of the worst units conventions in all of science. "
   ]
  },
  {
   "cell_type": "markdown",
   "metadata": {
    "slideshow": {
     "slide_type": "slide"
    }
   },
   "source": [
    "As before, we can do better by limiting the range that is displayed after the conversion to a log stretch. \n",
    "\n",
    "**Problem 1e**\n",
    "\n",
    "Re-plot the i-band data with a log stretch and a cap on the minimum and maximum values to better highlight the \"shadows\" or faint structure within the data. "
   ]
  },
  {
   "cell_type": "code",
   "execution_count": null,
   "metadata": {
    "slideshow": {
     "slide_type": "slide"
    }
   },
   "outputs": [],
   "source": [
    "fig, ax = plt.subplots(# complete\n",
    "    \n",
    "# complete"
   ]
  },
  {
   "cell_type": "markdown",
   "metadata": {
    "slideshow": {
     "slide_type": "slide"
    }
   },
   "source": [
    "With the log scaling, we finally see the beautiful barred spiral galaxy to the northwest of the ring nebula. However, as was the case with the linear scaling, in order to see the spiral arms in the galaxy all the structure in the ring nebula gets blown out.\n",
    "\n",
    "(There are also issues with log scaling when making false color images - we will come back to this.)"
   ]
  },
  {
   "cell_type": "markdown",
   "metadata": {
    "slideshow": {
     "slide_type": "slide"
    }
   },
   "source": [
    "It is now generally accepted that the best scaling for CCD images is the [inverse hyperbolic sine](https://en.wikipedia.org/wiki/Inverse_hyperbolic_functions#Inverse_hyperbolic_sine). This non-linear transformation $$\\operatorname{arsinh} x = \\ln (x + \\sqrt{x^2 + 1})$$ has the really nice property that for $|x| \\ll 1$ $\\operatorname{arsinh} x \\approx x$ and for $|x| \\gg 1$ $\\operatorname{arsinh} x \\approx \\ln (2x)$. Therefore, with a single transformation we can get the best properties of each of the stretches condisered above. "
   ]
  },
  {
   "cell_type": "markdown",
   "metadata": {
    "slideshow": {
     "slide_type": "slide"
    }
   },
   "source": [
    "**Problem 1f**\n",
    "\n",
    "Plot the i-band data with an inverse hyperbolic sine scaling."
   ]
  },
  {
   "cell_type": "code",
   "execution_count": null,
   "metadata": {
    "slideshow": {
     "slide_type": "slide"
    }
   },
   "outputs": [],
   "source": [
    "fig, ax = plt.subplots(# complete\n",
    "    \n",
    "# complete"
   ]
  },
  {
   "cell_type": "markdown",
   "metadata": {
    "slideshow": {
     "slide_type": "slide"
    }
   },
   "source": [
    "Off the shelf that looks pretty good. However we are missing some of the fainter structures. We can \"re-center\" the data so that the low-level shadows are closer to the $\\sim$linear portion of the $\\operatorname{arsinh}$ response curve."
   ]
  },
  {
   "cell_type": "markdown",
   "metadata": {
    "slideshow": {
     "slide_type": "slide"
    }
   },
   "source": [
    "**Problem 1g**\n",
    "\n",
    "Subtract the median from the data and re-plot using an inverse hyperbolic sine scaling. \n",
    "\n",
    "*Hint* – do not forget about the `nan` values in the array."
   ]
  },
  {
   "cell_type": "code",
   "execution_count": null,
   "metadata": {
    "slideshow": {
     "slide_type": "slide"
    }
   },
   "outputs": [],
   "source": [
    "fig, ax = plt.subplots(# complete\n",
    "    \n",
    "# complete"
   ]
  },
  {
   "cell_type": "markdown",
   "metadata": {
    "slideshow": {
     "slide_type": "slide"
    }
   },
   "source": [
    "And just like that we have the best looking image (by far!) with a relatively minimal amount of effort. In this representation the ring nebula is a little saturated/washed out. We can correct that with a softening parameter (more below). \n",
    "\n",
    "From **Problem 1** it is clear: the inverse hyperbolic sine is the best transform to use when displaying astronomical images. "
   ]
  },
  {
   "cell_type": "markdown",
   "metadata": {
    "slideshow": {
     "slide_type": "slide"
    }
   },
   "source": [
    "## Problem 2) Color\n",
    "\n",
    "\n",
    "Color is not a particularly useful tool for conveying information when visualizing data. "
   ]
  },
  {
   "cell_type": "markdown",
   "metadata": {
    "slideshow": {
     "slide_type": "slide"
    }
   },
   "source": [
    "And yet..."
   ]
  },
  {
   "cell_type": "markdown",
   "metadata": {
    "slideshow": {
     "slide_type": "slide"
    }
   },
   "source": [
    "When it comes to 2D CCD images, simply put, color wins.\\*\n",
    "\n",
    "<br>\n",
    "\n",
    "\\* With the important and glaring exception that the standard RGB format is not color-blind friendly, and therefore color images are not always inclusive. "
   ]
  },
  {
   "cell_type": "markdown",
   "metadata": {
    "slideshow": {
     "slide_type": "slide"
    }
   },
   "source": [
    "For example, this  image with intensity information shows some stars and galaxies (and not much more). \n",
    "\n",
    " \n",
    "\n",
    "<img style=\"display: block; margin-left: auto; margin-right: auto\" src=\"images/false_color_intensity.png\" align=\"middle\">\n",
    "\n",
    "<div align=\"right\"> <font size=\"-3\">(credit: Zolt Levay/STScI) </font></div>"
   ]
  },
  {
   "cell_type": "markdown",
   "metadata": {
    "slideshow": {
     "slide_type": "slide"
    }
   },
   "source": [
    "Whereas the RGB version immediately reveals a high-$z$ quasar. (So this isn't just about \"pretty pictures\" we are using color to better communicate what we are looking at.)\n",
    "\n",
    "<img style=\"display: block; margin-left: auto; margin-right: auto\" src=\"images/false_color_RGB.png\" align=\"middle\">\n",
    "\n",
    "<div align=\"right\"> <font size=\"-3\">(credit: Zolt Levay/STScI) </font></div>"
   ]
  },
  {
   "cell_type": "markdown",
   "metadata": {
    "slideshow": {
     "slide_type": "slide"
    }
   },
   "source": [
    "Suppose you have data in 3 filters (e.g., g, r, i) and you wish to make a false color image. DSFP \"best-practices\" would suggest optimizing the luminance display for each filter and then showing them side by side (this is the colorblind-friendly solution):\n"
   ]
  },
  {
   "cell_type": "markdown",
   "metadata": {
    "slideshow": {
     "slide_type": "fragment"
    }
   },
   "source": [
    "<img style=\"display: block; margin-left: auto; margin-right: auto\" src=\"images/false_color_1.png\" align=\"middle\">\n",
    "\n",
    "<div align=\"right\"> <font size=\"-3\">(credit: Zolt Levay/STScI) </font></div>"
   ]
  },
  {
   "cell_type": "markdown",
   "metadata": {
    "slideshow": {
     "slide_type": "slide"
    }
   },
   "source": [
    "You could even play with the color scheme slightly to be more subjective (while remaining colorblind-friendly):\n",
    "\n"
   ]
  },
  {
   "cell_type": "markdown",
   "metadata": {
    "slideshow": {
     "slide_type": "fragment"
    }
   },
   "source": [
    "<img style=\"display: block; margin-left: auto; margin-right: auto\" src=\"images/false_color_2.png\" align=\"middle\">\n",
    "\n",
    "<div align=\"right\"> <font size=\"-3\">(credit: Zolt Levay/STScI) </font></div>"
   ]
  },
  {
   "cell_type": "markdown",
   "metadata": {
    "slideshow": {
     "slide_type": "slide"
    }
   },
   "source": [
    "But in combination it becomes possible to truly pick out structure (such as H$\\alpha$ emission, traced by red in this instance):\n",
    "\n",
    "<img style=\"display: block; margin-left: auto; margin-right: auto\" src=\"images/false_color_3.png\" width=\"550\" align=\"middle\">\n",
    "\n",
    "<div align=\"right\"> <font size=\"-3\">(credit: Zolt Levay/STScI) </font></div>"
   ]
  },
  {
   "cell_type": "markdown",
   "metadata": {
    "slideshow": {
     "slide_type": "slide"
    }
   },
   "source": [
    "Following the suggestions laid out in [Lupton et al. (2004)](https://ui.adsabs.harvard.edu/abs/2004PASP..116..133L/abstract) we will now make a false color vizualization of the ring nebula using the ZTF g,r,i reference images. "
   ]
  },
  {
   "cell_type": "markdown",
   "metadata": {
    "slideshow": {
     "slide_type": "slide"
    }
   },
   "source": [
    "**Problem 2a**\n",
    "\n",
    "Load the data from the g- and r-band images, and store it in variables named `g_data` and `r_data` respectively."
   ]
  },
  {
   "cell_type": "code",
   "execution_count": null,
   "metadata": {
    "slideshow": {
     "slide_type": "slide"
    }
   },
   "outputs": [],
   "source": [
    "g_data = fits.getdata('ztf_g_band.fits.gz')\n",
    "r_data = fits.getdata('ztf_r_band.fits.gz')"
   ]
  },
  {
   "cell_type": "markdown",
   "metadata": {
    "slideshow": {
     "slide_type": "slide"
    }
   },
   "source": [
    "To display an RGB color image with `imshow()` we need to create an MxNx3 array, where MxN is the size of the image, and the last axis corresponds to the red, green, and blue channels respectively. \n",
    "\n",
    "Building this 3D array is simple using [`numpy.dstack()`](https://numpy.org/doc/stable/reference/generated/numpy.dstack.html)."
   ]
  },
  {
   "cell_type": "markdown",
   "metadata": {
    "slideshow": {
     "slide_type": "slide"
    }
   },
   "source": [
    "**Problem 2b**\n",
    "\n",
    "Build an RGB array of the ZTF images and display the data using `imshow()`."
   ]
  },
  {
   "cell_type": "code",
   "execution_count": null,
   "metadata": {
    "slideshow": {
     "slide_type": "slide"
    }
   },
   "outputs": [],
   "source": [
    "rgb = # complete\n",
    "fig, ax = plt.subplots( # complete\n",
    "\n",
    "# complete"
   ]
  },
  {
   "cell_type": "markdown",
   "metadata": {
    "slideshow": {
     "slide_type": "slide"
    }
   },
   "source": [
    "That looks terrible! \n",
    "\n",
    "As the warning states, RGB data needs to be scaled from 0 to 1 (or 0 to 255 for integer inputs) in order to properly display the relative intensities in each channel. "
   ]
  },
  {
   "cell_type": "markdown",
   "metadata": {
    "slideshow": {
     "slide_type": "slide"
    }
   },
   "source": [
    "**Problem 2c**\n",
    "\n",
    "Build a helper function `scaled_intensity()` that takes as input 3 MxN arrays, and returns an MxNx3 array in which the input arrays have all been rescaled between 0 and 1. \n",
    "\n",
    "Use your function to display a false color image of the ring nebula.\n",
    "\n",
    "*Hint* –– here (and below) it may be helpful to write a solution in multiple cells. "
   ]
  },
  {
   "cell_type": "code",
   "execution_count": null,
   "metadata": {
    "slideshow": {
     "slide_type": "slide"
    }
   },
   "outputs": [],
   "source": [
    "def scaled_intensity( # complete\n",
    "    '''\n",
    "    Linearly scale input RGB arrays from 0 ---> 1\n",
    "    \n",
    "    Parameters\n",
    "    ----------\n",
    "    R_array : array-like of shape (M columns, N rows)\n",
    "        R channel data array\n",
    "\n",
    "    G_array : array-like of shape (M columns, N rows)\n",
    "        G channel data array\n",
    "\n",
    "    B_array : array-like of shape (M columns, N rows)\n",
    "        B channel data array\n",
    "\n",
    "    Returns\n",
    "    -------\n",
    "    rgb_scaled : array-like of shape (M columns, N rows, 3)\n",
    "        RGB array for display with matplotlib\n",
    "    '''\n",
    "    \n",
    "    r_scaled = # complete\n",
    "\n",
    "    g_scaled = # complete\n",
    "\n",
    "    b_scaled = # complete\n",
    "    \n",
    "    rgb_scaled = # complete\n",
    "    \n",
    "    return # complete"
   ]
  },
  {
   "cell_type": "code",
   "execution_count": null,
   "metadata": {},
   "outputs": [],
   "source": [
    "fig, ax = plt.subplots( # complete\n",
    "    \n",
    "# complete"
   ]
  },
  {
   "cell_type": "markdown",
   "metadata": {
    "slideshow": {
     "slide_type": "slide"
    }
   },
   "source": [
    "As before, there are few pixels bright enough over the full scale of the image to see any real structure in the data (though you can make out hints of the ring nebula in this otherwise awful image).\n",
    "\n",
    "There are two ways to address this and we will do both: (i) use a different scaling, such as $\\log$, and (ii) limit the full plotting range."
   ]
  },
  {
   "cell_type": "markdown",
   "metadata": {
    "slideshow": {
     "slide_type": "slide"
    }
   },
   "source": [
    "**Problem 2d**\n",
    "\n",
    "Write a new (but very similar to **2c**) function called `scaled_log_intensity()` that returns the log of the flux (to better highlight faint features), scaled from 0 to 1 (to allow output as an RGB image). Plot the newly scaled rgb array."
   ]
  },
  {
   "cell_type": "code",
   "execution_count": null,
   "metadata": {
    "slideshow": {
     "slide_type": "slide"
    }
   },
   "outputs": [],
   "source": [
    "def scaled_log_intensity( # complete\n",
    "    '''\n",
    "    Log scale input RGB arrays from 0 ---> 1\n",
    "    \n",
    "    Parameters\n",
    "    ----------\n",
    "    R_array : array-like of shape (M columns, N rows)\n",
    "        R channel data array\n",
    "\n",
    "    G_array : array-like of shape (M columns, N rows)\n",
    "        G channel data array\n",
    "\n",
    "    B_array : array-like of shape (M columns, N rows)\n",
    "        B channel data array\n",
    "\n",
    "    Returns\n",
    "    -------\n",
    "    rgb_scaled : array-like of shape (M columns, N rows, 3)\n",
    "        RGB array for display with matplotlib\n",
    "    '''\n",
    "    \n",
    "    # complete\n",
    "    # complete\n",
    "    # complete"
   ]
  },
  {
   "cell_type": "code",
   "execution_count": null,
   "metadata": {
    "slideshow": {
     "slide_type": "slide"
    }
   },
   "outputs": [],
   "source": [
    "fig, ax = plt.subplots( # complete\n",
    "# complete\n",
    "# complete"
   ]
  },
  {
   "cell_type": "markdown",
   "metadata": {
    "slideshow": {
     "slide_type": "slide"
    }
   },
   "source": [
    "Now the ring nebular stands out, (AND the color is telling us something, the strong green color reflects strong emission from $\\mathrm{H}\\alpha$ in the outer layers of the nebular, while the blue center is the result of [O III] emission), however, there is very little information being transmitted by the rest of the image. We can improve this by adding limits to the plotting range. "
   ]
  },
  {
   "cell_type": "markdown",
   "metadata": {
    "slideshow": {
     "slide_type": "slide"
    }
   },
   "source": [
    "**Problem 2e**\n",
    "\n",
    "Modify `scaled_log_intensity()` to \"clip\" each array at a maximum and minimum value. Replot your RGB array after clipping.\n",
    "\n",
    "*Hint* – in principle this means six new variables should be added to the function (r_min, r_max, g_min, g_max, b_min, b_max). For now, use the same lower and upper bound for all 3 filters for simplicity. `np.percentile()` is a decent way to do this uniformly across all 3 filters. "
   ]
  },
  {
   "cell_type": "code",
   "execution_count": null,
   "metadata": {
    "slideshow": {
     "slide_type": "slide"
    }
   },
   "outputs": [],
   "source": [
    "def scaled_log_intensity( # complete\n",
    "    '''\n",
    "    Log scale input RGB arrays from 0 ---> 1\n",
    "    \n",
    "    Parameters\n",
    "    ----------\n",
    "    R_array : array-like of shape (M columns, N rows)\n",
    "        R channel data array\n",
    "\n",
    "    G_array : array-like of shape (M columns, N rows)\n",
    "        G channel data array\n",
    "\n",
    "    B_array : array-like of shape (M columns, N rows)\n",
    "        B channel data array\n",
    "\n",
    "    # complete : # complete\n",
    "        # complete\n",
    "    \n",
    "    # complete : # complete\n",
    "        # complete\n",
    "\n",
    "    Returns\n",
    "    -------\n",
    "    rgb_scaled : array-like of shape (M columns, N rows, 3)\n",
    "        RGB array for display with matplotlib\n",
    "    '''\n",
    "    \n",
    "    # complete\n",
    "    # complete\n",
    "    # complete"
   ]
  },
  {
   "cell_type": "code",
   "execution_count": null,
   "metadata": {
    "slideshow": {
     "slide_type": "slide"
    }
   },
   "outputs": [],
   "source": [
    "fig, ax = plt.subplots(# complete\n",
    "# complete\n",
    "# complete"
   ]
  },
  {
   "cell_type": "markdown",
   "metadata": {
    "slideshow": {
     "slide_type": "slide"
    }
   },
   "source": [
    "We have a false color image! The problem, as highlighted in Lupton et al. 2004, is that the \"standard\" log scaling of each channel leads to the cores of each of the individual stars appearing as a whitish color. While we have a false color image, we have actually lost all the color information."
   ]
  },
  {
   "cell_type": "markdown",
   "metadata": {
    "slideshow": {
     "slide_type": "slide"
    }
   },
   "source": [
    "## Problem 3) Lupton et al. (2004)\n",
    "\n",
    "As the Sloan Digital Sky Survey began producing multi-filter wide-field images at an \"industrial\" scale, it was quickly realized that superior solutions were needed for visualizing the 5 filter images (in particular, the use of \"log\" scaling dramatically reduced the information content). \n",
    "\n",
    "Lupton et al. proposed a solution that has now been widely adopted. Half of the solution is to use $\\operatorname{arsinh}$, and the other half is to be clever about defining the relative color in each pixel (perhaps the most useful insight from Lupton et al.). "
   ]
  },
  {
   "cell_type": "markdown",
   "metadata": {
    "slideshow": {
     "slide_type": "slide"
    }
   },
   "source": [
    "We start by defining the intensity in each pixel $I \\equiv (r + g + b)/3$, where the $r$, $g$, and $b$ values are the value in each pixel of the R(ed), G(reen), and B(lue) images, respectively. Then the output false color image can be defined by:\n",
    "\n",
    "$$R = r f(I)/I, \\\\ G = g f(I)/I, \\\\ B = b f(I)/I,$$\n",
    "\n",
    "where $f(I)$ is some scaling function, such as $\\log$ or $\\operatorname{arsinh}$."
   ]
  },
  {
   "cell_type": "markdown",
   "metadata": {
    "slideshow": {
     "slide_type": "slide"
    }
   },
   "source": [
    "As a final step the intensity in each filter is also clipped (which allows the preservation of color information even in pixels that have an intensity = 1; this is a hugely important insight). If \n",
    "\n",
    "$$\\mathrm{max_{RGB}} \\equiv \\mathrm{max(R,G,B)} > 1$$\n",
    "\n",
    "then we need to set $R \\equiv R/\\mathrm{max_{RGB}}, G \\equiv G/\\mathrm{max_{RGB}},$ and $B \\equiv B/\\mathrm{max_{RGB}}$, similarly if $\\mathrm{min_{RGB}} \\leq 0$ then set $R \\equiv G \\equiv B \\equiv 0$. "
   ]
  },
  {
   "cell_type": "markdown",
   "metadata": {
    "slideshow": {
     "slide_type": "slide"
    }
   },
   "source": [
    "Finally, Lupton et al. point out that a useful parameterization of $f(I)$ is: $$f(I) = \\operatorname{arsinh}(\\alpha Q [I-m])/Q,$$ where $Q$ and $\\alpha$ are both \"softening\" parameters that enable the user to highlight specific regions within the image with a linear stretch (and $m$ is the minimum for the plotting range as described earlier). "
   ]
  },
  {
   "cell_type": "markdown",
   "metadata": {
    "slideshow": {
     "slide_type": "slide"
    }
   },
   "source": [
    "In summary, in order to obtain the \"optimal\" RGB scaling as described in Lupton et al. we must \n",
    "  \n",
    "  (i) create a total intensity map for each pixel $I$, \n",
    "  \n",
    "  (ii) apply an $\\operatorname{arsinh}$ transform to all the data, and \n",
    "  \n",
    "  (iii) rescale the intensity to be clipped at unity (but in such a way that preserves color information in the clipped pixels) and zero. "
   ]
  },
  {
   "cell_type": "markdown",
   "metadata": {
    "slideshow": {
     "slide_type": "slide"
    }
   },
   "source": [
    "(In true DSFP fashion,) We will build this functionality one step at a time, but ultimately we want a single function that can take 3 input arrays and output a nice RGB array for plotting."
   ]
  },
  {
   "cell_type": "markdown",
   "metadata": {
    "slideshow": {
     "slide_type": "slide"
    }
   },
   "source": [
    "**Problem 3a**\n",
    "\n",
    "Create a function `tmp_lupton_1` that takes as input 3 MxN arrays, computes the intensity array $I$, and returns an MxNx3 array in which the input arrays have been divided by I *AND* rescaled between 0 and 1. (we will add $\\operatorname{arsinh}$ in a later step)\n",
    "\n",
    "*Hint* – you can plot the results, but they won't be very compelling."
   ]
  },
  {
   "cell_type": "code",
   "execution_count": null,
   "metadata": {
    "slideshow": {
     "slide_type": "slide"
    }
   },
   "outputs": [],
   "source": [
    "def tmp_lupton_1( # complete\n",
    "    '''\n",
    "    normalize intensity and scale input RGB arrays from 0 ---> 1\n",
    "    \n",
    "    Parameters\n",
    "    ----------\n",
    "    R_array : array-like of shape (M columns, N rows)\n",
    "        R channel data array\n",
    "\n",
    "    G_array : array-like of shape (M columns, N rows)\n",
    "        G channel data array\n",
    "\n",
    "    B_array : array-like of shape (M columns, N rows)\n",
    "        B channel data array\n",
    "\n",
    "    Returns\n",
    "    -------\n",
    "    rgb_scaled : array-like of shape (M columns, N rows, 3)\n",
    "        intensity scaled RGB array for display with matplotlib\n",
    "    '''\n",
    "    \n",
    "    # complete\n",
    "    # complete\n",
    "    # complete"
   ]
  },
  {
   "cell_type": "markdown",
   "metadata": {
    "slideshow": {
     "slide_type": "slide"
    }
   },
   "source": [
    "**Problem 3b**\n",
    "\n",
    "Create a new function `tmp_lupton_2` that does everything in `tmp_lupton_1` but *also* mutliplies the individual arrays by $f(I)$ as defined above. There will be 3 new parameters in the model now: $m$, $Q$, and $\\alpha$."
   ]
  },
  {
   "cell_type": "code",
   "execution_count": null,
   "metadata": {
    "slideshow": {
     "slide_type": "slide"
    }
   },
   "outputs": [],
   "source": [
    "def tmp_lupton_2( # complete\n",
    "    '''\n",
    "    arsinh intensities scaled to RGB arrays from 0 ---> 1\n",
    "    \n",
    "    Parameters\n",
    "    ----------\n",
    "    R_array : array-like of shape (M columns, N rows)\n",
    "        R channel data array\n",
    "\n",
    "    G_array : array-like of shape (M columns, N rows)\n",
    "        G channel data array\n",
    "\n",
    "    B_array : array-like of shape (M columns, N rows)\n",
    "        B channel data array\n",
    "    \n",
    "    # complete : # complete\n",
    "        # complete\n",
    "    \n",
    "    # complete : # complete\n",
    "        # complete\n",
    "        \n",
    "    # complete : # complete\n",
    "        # complete\n",
    "\n",
    "    Returns\n",
    "    -------\n",
    "    rgb_scaled : array-like of shape (M columns, N rows, 3)\n",
    "        intensity scaled RGB array for display with matplotlib\n",
    "    '''\n",
    "    \n",
    "    # complete\n",
    "    # complete\n",
    "    # complete"
   ]
  },
  {
   "cell_type": "markdown",
   "metadata": {
    "slideshow": {
     "slide_type": "slide"
    }
   },
   "source": [
    "**Problem 3c**\n",
    "\n",
    "Use `tmp_lupton_2` to rescale the ZTF data and plot the results.\n",
    "\n",
    "*Hint* – if the results appear a little underwhelming, do not forget to subtract the median value from the input arrays."
   ]
  },
  {
   "cell_type": "code",
   "execution_count": null,
   "metadata": {
    "slideshow": {
     "slide_type": "slide"
    }
   },
   "outputs": [],
   "source": [
    "fig, ax = plt.subplots( # complete \n",
    "# complete"
   ]
  },
  {
   "cell_type": "markdown",
   "metadata": {
    "slideshow": {
     "slide_type": "slide"
    }
   },
   "source": [
    "You should already see a huge improvement relative to the $\\log$ scaled false color image that was produced in **Problem 2**. Further improvements can still be made, however. For instance, the background is a little \"muddy\" in the sense that everything looks a little brown instead of black."
   ]
  },
  {
   "cell_type": "markdown",
   "metadata": {
    "slideshow": {
     "slide_type": "slide"
    }
   },
   "source": [
    "**Problem 3d**\n",
    "\n",
    "Create a new function `lupton` that does everything in `tmp_lupton_2` but *also* clips and normalizes data with $I \\equiv 0$ or $\\mathrm{max_{RGB}} > 1$."
   ]
  },
  {
   "cell_type": "code",
   "execution_count": null,
   "metadata": {
    "slideshow": {
     "slide_type": "slide"
    }
   },
   "outputs": [],
   "source": [
    "def lupton( # complete\n",
    "    '''\n",
    "    arsinh intensities scaled to RGB arrays from 0 ---> 1\n",
    "    \n",
    "    Parameters\n",
    "    ----------\n",
    "    R_array : array-like of shape (M columns, N rows)\n",
    "        R channel data array\n",
    "\n",
    "    G_array : array-like of shape (M columns, N rows)\n",
    "        G channel data array\n",
    "\n",
    "    B_array : array-like of shape (M columns, N rows)\n",
    "        B channel data array\n",
    "    \n",
    "    # complete : # complete\n",
    "        # complete\n",
    "    \n",
    "    # complete : # complete\n",
    "        # complete\n",
    "        \n",
    "    # complete : # complete\n",
    "        # complete\n",
    "        \n",
    "\n",
    "    Returns\n",
    "    -------\n",
    "    rgb_scaled : array-like of shape (M columns, N rows, 3)\n",
    "        intensity scaled RGB array for display with matplotlib\n",
    "    '''\n",
    "    \n",
    "    # complete\n",
    "    # complete\n",
    "    # complete\n",
    "\n",
    "    # complete\n",
    "    # complete\n",
    "    # complete\n",
    "\n",
    "    # complete\n",
    "    # complete\n",
    "    # complete"
   ]
  },
  {
   "cell_type": "code",
   "execution_count": null,
   "metadata": {
    "slideshow": {
     "slide_type": "slide"
    }
   },
   "outputs": [],
   "source": [
    "fig, ax = plt.subplots( # complete\n",
    "    \n",
    "# complete"
   ]
  },
  {
   "cell_type": "markdown",
   "metadata": {
    "slideshow": {
     "slide_type": "slide"
    }
   },
   "source": [
    "That looks worse than what we had before! \n",
    "\n",
    "However - we have not attempted to tune the visualization parameters at all (and the default values in the solutions, namely $Q = 1$ and $\\alpha = 1$ are attrocious."
   ]
  },
  {
   "cell_type": "markdown",
   "metadata": {
    "slideshow": {
     "slide_type": "slide"
    }
   },
   "source": [
    "**Problem 3e**\n",
    "\n",
    "Re-plot the ZTF data after adjusting the tuning parameters $m, Q, \\mathrm{and} \\alpha$. Expect some trial and error.\n",
    "\n",
    "*Hint* –– a footnote in [(Lupton et al. 2004)](https://ui.adsabs.harvard.edu/abs/2004PASP..116..133L/abstract) suggests setting $Q \\rightarrow 0$ to tune $\\alpha$ in such a way to highlight faint structures, then adjusting $Q$ to highlight the bright regions in the image.\n",
    "\n",
    "*Hint 2* –– it is very likely that your initial \"solution\" will appear overly \"green.\" This is because the color-balance is off. One secret about creating such images is that you are allowed to play with the relative intensities of the R, G, and B channels. This is a *False* color image, after all. If you want something that appears less \"green\" try multiplying the B or R channel (or both) by some constant $> 1$ to get a color balance you prefer. The optimal solution maximizes the salience of your final image."
   ]
  },
  {
   "cell_type": "code",
   "execution_count": null,
   "metadata": {
    "slideshow": {
     "slide_type": "slide"
    }
   },
   "outputs": [],
   "source": [
    "fig, ax = plt.subplots( # complete\n",
    "\n",
    "# complete"
   ]
  },
  {
   "cell_type": "markdown",
   "metadata": {
    "slideshow": {
     "slide_type": "slide"
    }
   },
   "source": [
    "Wow! \n",
    "\n",
    "This image of the Ring nebular and the nearby spiral is really nice. The background is black. The stars are not saturated (in the sense that it is extremely easy to tell the difference between the red stars and blue stars). Structure in the ring nebular can be seen (though the outermost halo is missing, see e.g., **3c**). And the nearby barred-spiral looks especially good. The nucleus is somewhat orange, suggesting an older stellar population, while the arms are clearly blue (and therefore forming stars at a higher rate than the nucleus).\n",
    "\n",
    "This is a very very nice depiction of the ring nebula."
   ]
  },
  {
   "cell_type": "markdown",
   "metadata": {
    "slideshow": {
     "slide_type": "slide"
    }
   },
   "source": [
    "## Problem 4) Astropy\n",
    "\n",
    "As is often the case, the good people at [`astropy`](https://www.astropy.org/) have already created a helper function that essentially does everything that we just developed in this notebook. In this case, with the `astropy.visualization` library there is a function called [`make_lupton_rgb`](https://docs.astropy.org/en/stable/api/astropy.visualization.make_lupton_rgb.html?highlight=make_lupton_rgb) that takes as input 3 MxN arrays, and returns a scaled MxNx3 rgb array for display purposes."
   ]
  },
  {
   "cell_type": "markdown",
   "metadata": {
    "slideshow": {
     "slide_type": "slide"
    }
   },
   "source": [
    "**Problem 4a**\n",
    "\n",
    "Load `make_lupton_rgb` and make a plot of the results. How does it compare to your own solution?\n",
    "\n",
    "*Hint* –– the `make_lupton_rgb` function uses a parameter called `stretch` instead of $\\alpha$. As you tune the output note that $\\mathrm{stretch} \\approx 1/\\alpha$."
   ]
  },
  {
   "cell_type": "code",
   "execution_count": null,
   "metadata": {
    "slideshow": {
     "slide_type": "slide"
    }
   },
   "outputs": [],
   "source": [
    "from astropy.visualization import make_lupton_rgb\n",
    "\n",
    "rgb = make_lupton_rgb( # complete\n",
    "fig, ax = plt.subplots( # complete"
   ]
  },
  {
   "cell_type": "markdown",
   "metadata": {
    "slideshow": {
     "slide_type": "slide"
    }
   },
   "source": [
    "This is an extremely similar solution to what we derived. \n",
    "\n",
    "The stars all more or less look the same, though the outer outer halo of the ring nebular is now more clear (at the cost of saturating the inner $\\mathrm{H}\\alpha$ ring). "
   ]
  },
  {
   "cell_type": "markdown",
   "metadata": {
    "slideshow": {
     "slide_type": "slide"
    }
   },
   "source": [
    "**Problem 4b**\n",
    "\n",
    "*This is optional* In the cell below images from SDSS are loaded. Use `make_lupton_rgb` to create a false color RGB image. The star formation rate in the three main galaxies in the image are actually somewhat different, see if you can highlight that. "
   ]
  },
  {
   "cell_type": "code",
   "execution_count": null,
   "metadata": {
    "slideshow": {
     "slide_type": "slide"
    }
   },
   "outputs": [],
   "source": [
    "from astropy.utils.data import get_pkg_data_filename\n",
    "\n",
    "# Read in the three images downloaded from here:\n",
    "g_name = get_pkg_data_filename('visualization/reprojected_sdss_g.fits.bz2')\n",
    "r_name = get_pkg_data_filename('visualization/reprojected_sdss_r.fits.bz2')\n",
    "i_name = get_pkg_data_filename('visualization/reprojected_sdss_i.fits.bz2')\n",
    "g_dat = fits.open(g_name)[0].data\n",
    "r_dat = fits.open(r_name)[0].data\n",
    "i_dat = fits.open(i_name)[0].data\n",
    "\n",
    "# complete\n",
    "# complete\n",
    "# complete"
   ]
  },
  {
   "cell_type": "markdown",
   "metadata": {
    "slideshow": {
     "slide_type": "slide"
    }
   },
   "source": [
    "## Challenge Problem\n",
    "\n",
    "Section 3 in [(Lupton et al. 2004)](https://ui.adsabs.harvard.edu/abs/2004PASP..116..133L/abstract) provides a solution for dealing with saturated/masked pixels. Implement that solution to create a nicer visualization of the ring nebular that does not feature so many `nan` values."
   ]
  },
  {
   "cell_type": "markdown",
   "metadata": {
    "slideshow": {
     "slide_type": "slide"
    }
   },
   "source": []
  }
 ],
 "metadata": {
  "celltoolbar": "Slideshow",
  "kernelspec": {
   "display_name": "Python 3 (ipykernel)",
   "language": "python",
   "name": "python3"
  },
  "language_info": {
   "codemirror_mode": {
    "name": "ipython",
    "version": 3
   },
   "file_extension": ".py",
   "mimetype": "text/x-python",
   "name": "python",
   "nbconvert_exporter": "python",
   "pygments_lexer": "ipython3",
   "version": "3.10.4"
  },
  "rise": {
   "scroll": true,
   "theme": "solarized"
  }
 },
 "nbformat": 4,
 "nbformat_minor": 4
}
