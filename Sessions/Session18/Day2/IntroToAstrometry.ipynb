{
 "cells": [
  {
   "cell_type": "markdown",
   "id": "8ae22b21-c7d7-42cf-a4bd-47784a71b729",
   "metadata": {},
   "source": [
    "# Introduction to Astrometry Notebook"
   ]
  },
  {
   "cell_type": "markdown",
   "id": "4f295204-9595-450a-ae4d-47c863ec7855",
   "metadata": {},
   "source": [
    "We're going to take sources from an HSC observation and match them to Gaia, look at the separations, then fit the wcs and look at  focal plane distortions, finally we'll look at the effect of proper motions, then apply proper motions and parallax and redo the fit. \n",
    "\n",
    "If that is too fast, also fit the source positions.\n",
    "Potential extras: do a better fit using error of measurements, try to find bug in astropy proper motion."
   ]
  },
  {
   "cell_type": "markdown",
   "id": "1aec4e9f-b975-4179-8bd8-104541582b01",
   "metadata": {},
   "source": [
    "#### First, load some helpful packages:"
   ]
  },
  {
   "cell_type": "code",
   "execution_count": 1,
   "id": "f555d57d-46f2-4aec-a0e8-cea2f152fc82",
   "metadata": {
    "execution": {
     "iopub.execute_input": "2023-06-08T18:48:35.224999Z",
     "iopub.status.busy": "2023-06-08T18:48:35.224767Z",
     "iopub.status.idle": "2023-06-08T18:48:35.227935Z",
     "shell.execute_reply": "2023-06-08T18:48:35.227505Z",
     "shell.execute_reply.started": "2023-06-08T18:48:35.224984Z"
    },
    "tags": []
   },
   "outputs": [],
   "source": [
    "# Start by loading some helpful packages:\n",
    "import numpy as np\n",
    "import matplotlib.pyplot as plt\n",
    "from astropy.coordinates import SkyCoord\n",
    "import astropy.wcs\n",
    "import astropy.units as u\n",
    "from astropy.io import fits\n",
    "from astropy import wcs\n",
    "import pandas as pd\n",
    "from glob import glob\n",
    "import re"
   ]
  },
  {
   "cell_type": "markdown",
   "id": "92cd083e",
   "metadata": {},
   "source": [
    "Normally, I wouldn't recommend suppressing warning messages, but in this case astropy will complain a lot about the input files, so it's helpful here:"
   ]
  },
  {
   "cell_type": "code",
   "execution_count": 2,
   "id": "586563ee",
   "metadata": {},
   "outputs": [],
   "source": [
    "import warnings\n",
    "from astropy.utils.exceptions import AstropyWarning\n",
    "warnings.simplefilter('ignore', category=AstropyWarning)"
   ]
  },
  {
   "cell_type": "markdown",
   "id": "6824607d",
   "metadata": {},
   "source": [
    "## Part 1: Fitting a WCS"
   ]
  },
  {
   "cell_type": "markdown",
   "id": "61ab13f3-8d94-4828-ac9e-8f1373347d0c",
   "metadata": {},
   "source": [
    "#### 1. Matching sources to a reference catalog\n",
    "\n",
    "We start by loading the sample data sets. In the \"astrometry_data\" subdirectory, there are files containing the sources measured in one HSC exposure. There is one file for each detector. These source catalogs only contain isolated stars that are appropriate for fitting the astrometric solution (i.e., there are no galaxies or stars that are close to galaxies). There is also one file with a subset of the Gaia catalog overlapping the footprint of the HSC exposure."
   ]
  },
  {
   "cell_type": "markdown",
   "id": "314bf585-934f-4b47-b2c5-a113f7f58c5c",
   "metadata": {},
   "source": [
    "First, load the Gaia catalog:\n",
    "(In this Gaia catalog, missing entries are denoted by NaNs, so you probably want to filter these out.)"
   ]
  },
  {
   "cell_type": "code",
   "execution_count": 19,
   "id": "1939cd8b",
   "metadata": {},
   "outputs": [],
   "source": [
    "gaia_cat = pd.read_parquet('astrometry_data/gaia_refCat.parquet')\n",
    "good_ids = np.isfinite(gaia_cat['coord_ra'])\n",
    "gaia_cat_true = gaia_cat[good_ids]\n",
    "#print(gaia_cat_true)\n",
    "gaia_skyCoord = SkyCoord(gaia_cat_true['coord_ra'], gaia_cat_true['coord_dec'], unit=u.radian)"
   ]
  },
  {
   "cell_type": "code",
   "execution_count": 20,
   "id": "4a006208",
   "metadata": {},
   "outputs": [
    {
     "name": "stdout",
     "output_type": "stream",
     "text": [
      "<SkyCoord (ICRS): (ra, dec) in deg\n",
      "    [(151.08625144, 2.26910322), (151.1138923 , 2.2753019 ),\n",
      "     (151.07714322, 2.27941641), ..., (149.60790663, 2.25564513),\n",
      "     (149.58325668, 2.26242986), (149.60453964, 2.26563869)]>\n"
     ]
    }
   ],
   "source": [
    "print(gaia_skyCoord)"
   ]
  },
  {
   "cell_type": "markdown",
   "id": "54f5ece8",
   "metadata": {},
   "source": [
    "The files \"astrometry_data/1180_\\<detector\\>.fits\" contain the sources from each detector for visit 1180. The fits files have a best guess for the WCS in the primary HDU and the table of sources in the second HDU.\n",
    "\n",
    "Let's start by just looking at one source catalog:"
   ]
  },
  {
   "cell_type": "code",
   "execution_count": 56,
   "id": "ae2bd621",
   "metadata": {},
   "outputs": [
    {
     "data": {
      "text/plain": [
       "SIMPLE  =                    T / conforms to FITS standard                      \n",
       "BITPIX  =                   16 / array data type                                \n",
       "NAXIS   =                    0 / number of array dimensions                     \n",
       "EXTEND  =                    T / FITS dataset may contain extensions            \n",
       "BUNIT   = 'ADU     '           / Unit of original pixel value                   \n",
       "BSCALE  =                  1.0 / Default scaling factor                         \n",
       "BZERO   =                32768 / Offset data range to that of unsigned short    \n",
       "BLANK   =               -32768 / Value used for NULL pixels                     \n",
       "TIMESYS = 'UTC     '           / Time System used in the header                 \n",
       "DATE-OBS= '2014-03-28'         / Observation start date  (yyyy-mm-dd)           \n",
       "UT-STR  = '06:56:41.946'       / HH:MM:SS.S UTC at the start exposure time      \n",
       "HST-STR = '20:56:41.946'       / HH:MM:SS.S HST at the beginning of exp.        \n",
       "LST-STR = '08:57:15.325'       / HH:MM:SS.SSS LST at the beginning of exposure  \n",
       "MJD-STR =    56744.28937437199 / [d] Mod.Julian Date at the start of exposure   \n",
       "UT      = '06:56:41.987'       / HH:MM:SS.S typical UTC at the exposure (middle \n",
       "HST     = '20:56:41.987'       / HH:MM:SS.S Typical HST at exposure             \n",
       "LST     = '08:57:15.366'       / HH:MM:SS.SSS Typical LST at exposure           \n",
       "MJD     =    56744.28937484836 / [d] Mod. Julian Date at typical time           \n",
       "UT-END  = '07:01:15.117'       / HH:MM:SS.S UTC at the end of the exposure      \n",
       "HST-END = '21:01:15.117'       / HH:MM:SS.S HST at the end of exposure          \n",
       "LST-END = '09:01:49.243'       / HH:MM:SS.SSS LST at the end of exposure        \n",
       "MJD-END =     56744.2925360715 / [d] Mod.Julian Date at the end of exposure     \n",
       "ZD-STR  =    23.65088679999999 / [degree] Zenith Distance at exposure start tim \n",
       "ZD-END  =          22.92509719 / [degree] Zenith Distance at exposure end time  \n",
       "SECZ-STR=                1.092 / SEC(Zenith Distance) at exposure start time    \n",
       "SECZ-END=                1.086 / SEC(Zenith Distance) at exposure end time      \n",
       "AIRMASS =    1.091503572617466 / Average airmass during exposure                \n",
       "AZIMUTH =         136.35018883 / [degree] Azimuth of tel-pointing. 0:S->90:W    \n",
       "ALTITUDE=    66.34911320000001 / [degree] Altitude ang. of telescope pointing   \n",
       "PROP-ID = 'o14406  '           / Proposal ID                                    \n",
       "OBSERVER= '\"Yasuda, Nishizawa, Kawanomoto, Furusawa, Yamada, Koike, Nakata\"' / N\n",
       "FRAMEID = 'HSCA00118108'       / /raid/S14A/20140327/object039_1_08.fits        \n",
       "EXP-ID  = 'HSCA00118000'       / First frame ID                                 \n",
       "DATASET = 'NODATA  '           / ID of dataset this data were taken             \n",
       "OBS-MOD = 'IMAG_5  '           / Observation Mode                               \n",
       "OBS-ALOC= 'Observation'        / Allocation Mode                                \n",
       "DATA-TYP= 'OBJECT  '           / Characteristics of this data                   \n",
       "OBJECT  = 'SSP-UDeep-COSMOS'   / Object                                         \n",
       "RA      = '10:00:50.522'       / Right ascension of telescope pointing          \n",
       "DEC     = '+02:13:50.96'       / Declination of telescope pointing              \n",
       "RA2000  = '10:00:50.522'       / Right ascension of telescope pointing (J2000)  \n",
       "DEC2000 = '+02:13:50.96'       / Declination of telescope pointing (J2000)      \n",
       "RADECSYS= 'FK5     '           / The equatorial coordinate system               \n",
       "EQUINOX =               2000.0 / [y] Equinox                                    \n",
       "CTYPE1  = 'RA---TAN-SIP'                                                        \n",
       "CRPIX1  =    953.2552519999999                                                  \n",
       "CRVAL1  =     150.112511312214                                                  \n",
       "CUNIT1  = 'degree  '                                                            \n",
       "CTYPE2  = 'DEC--TAN-SIP'                                                        \n",
       "CRPIX2  =          2241.526671                                                  \n",
       "CRVAL2  =    2.126695234940722                                                  \n",
       "CUNIT2  = 'degree  '                                                            \n",
       "CD1_1   = -5.5014476817794E-08                                                  \n",
       "CD1_2   = 4.67806861305731E-05                                                  \n",
       "CD2_1   = 4.67731565013891E-05                                                  \n",
       "CD2_2   = -3.1267748271620E-08                                                  \n",
       "LONGPOLE=                180.0                                                  \n",
       "WCS-ORIG= 'Rough estimation'   / Origin/quality of the WCS values               \n",
       "OBSERVAT= 'NAOJ    '           / Observatory                                    \n",
       "TELESCOP= 'Subaru  '           / Telescope name                                 \n",
       "FOC-POS = 'PRIME   '           / Position of the instrument focus unit          \n",
       "TELFOCUS= 'P_OPT2  '           / The Focus where beam reaches                   \n",
       "FOC-VAL =                  3.6 / [mm] Encoder value of the focus unit           \n",
       "FILTER01= 'HSC-z   '           / Filter barcode                                 \n",
       "EXPTIME =                270.0 / Exposure time                                  \n",
       "INSTRUME= 'Hyper Suprime-Cam'  / Name of instrument                             \n",
       "DETECTOR= 'notSet  '           / Name of the detector/CCD                       \n",
       "DET-ID  =                   42 / \"Sequential number assgined for the entire CCDs\n",
       "DET-TMP =             -100.854 / CCD Temperature value [celsius degree]         \n",
       "DET-TMED=                  0.0 / [Kelvin] Median of the detector temperature    \n",
       "DET-TMIN=                  0.0 / [Kelvin] Minimum of the detector temperature   \n",
       "DET-TMAX=                  0.0 / [Kelvin] Maximum of the detector temperature   \n",
       "GAIN    =                  0.0 / AD conversion factor (electron/ADU)            \n",
       "BIN-FCT1=                    1 / Binning factor of axis 1                       \n",
       "BIN-FCT2=                    1 / Binning factor of axis 2                       \n",
       "DET-VER = 'notSet  '           / Version of the detector control command        \n",
       "INS-VER = 'notSet  '           / Version of the instrument (hard/soft)          \n",
       "WEATHER = 'Fine    '           / Weather condition                              \n",
       "SEEING  =                  0.0 / [arcsec] FWHM of the star at telescope focus   \n",
       "ADC-TYPE= 'IN      '           / ADC name if it is used. (BLUE, RED, NONE)      \n",
       "ADC-STR =                 -0.0 / [degree] ADC pos. ang. at the start of exposur \n",
       "ADC-END =                 -0.0 / [degree] ADC pos. ang. at the end of exposure  \n",
       "INR-STR =           -40.511525 / [degree] Inst. rotator angle at start          \n",
       "INR-END =           -40.511525 / [degree] Inst. rotator angle at end            \n",
       "DOM-WND =                  0.0 / [m/s] Wind speed in the dome/enclosure         \n",
       "OUT-WND =                  0.7 / [m/s] Wind speed outside dome/enclosure        \n",
       "DOM-TMP =               275.25 / [Kelvin] Atm. temp. in the dome/enclosure      \n",
       "OUT-TMP =               272.35 / [Kelvin] Atm. temp. outside the dome/encl.     \n",
       "DOM-HUM =                 25.7 / [%] Humidity in the dome                       \n",
       "OUT-HUM =                 36.5 / [%] Humidity outside the dome/encl.            \n",
       "DOM-PRS =    621.3000000000001 / [hPa] Atm. pressure in the dome                \n",
       "OUT-PRS =    621.3000000000001 / [hPa] Atm. press. outside the dome/encl.       \n",
       "INST-PA =                  0.0 / Position Angle of the Instrument Flange        \n",
       "M2-POS1 =             -2.86013 / [mm] Stewart Platform x-value                  \n",
       "M2-POS2 =            -4.797828 / [mm] Stewart Platform y-value                  \n",
       "M2-POS3 =             5.531208 / [mm] Stewart Platform z-value                  \n",
       "M2-ANG1 =             0.750088 / [arcmin] Stewart Platform x-rotation angle     \n",
       "M2-ANG2 =             2.249748 / [arcmin] Stewart Platform y-rotation angle     \n",
       "M2-ANG3 =            -0.000194 / [arcmin] Stewart Platform z-rotation angle     \n",
       "COMMENT ------------------------------------------------------------            \n",
       "COMMENT ------------- PARAMETERS FOR HYPER SUPRIME_CAM -------------            \n",
       "COMMENT ------------------------------------------------------------            \n",
       "T_M2OFF1=                 -1.8                                                  \n",
       "T_M2OFF2=                 -2.6                                                  \n",
       "T_M2OFF3=                  3.6                                                  \n",
       "T_PROG  = 'SSP-UDeep'          / Name of research program                       \n",
       "T_PNTGID= 'U-04-010001-01, N=3/5, DRA=150, DDEC=75' / Pointing ID of this exposu\n",
       "T_PURPOS= 'OBJECT  '           / Purpose of this exposure                       \n",
       "T_DATSET= 'NODATA  '           / Dataset to which this exposure belongs         \n",
       "T_SHTDIR=                    2 / The number shows which screen did move on this \n",
       "T_AG    =                    F / AG Exposure                                    \n",
       "T_UFNAME= '/raid/S14A/20140327/object039_1_08.fits' / Original filename         \n",
       "T_NFRAME=                  112 / \"Number of total frames\"                       \n",
       "T_GAIN2 =                 3.21 / \"Gain for channel 2\"                           \n",
       "T_GAIN1 =                 3.29 / \"Gain for channel 1\"                           \n",
       "T_GAIN4 =                 3.38 / \"Gain for channel 4\"                           \n",
       "T_GAIN3 =                 3.37 / \"Gain for channel 3\"                           \n",
       "T_XFLIP =                    F / \"CCD readout is x-flipped when create image\"   \n",
       "T_CCDID = 'undefined'          / \"Name of CCD\"                                  \n",
       "T_CCDSN = '165     '           / \"CCD Serial Number\"                            \n",
       "T_YFLIP =                    F / \"CCD readout is y-flipped when create image\"   \n",
       "T_CCDTV =             -100.854 / CCD Temperature value [celsius degree]         \n",
       "T_CCDTM = '21:00:28'           / CCD Temperature retrieve time                  \n",
       "T_HEDVER= '116 CCDs for Summit4' / 2014/03/06 Updated by Utsumi, Y.             \n",
       "T_CFGFIL= '20140306.cfg'                                                        \n",
       "T_BEEID =                    1                                                  \n",
       "T_SDOID =                    8                                                  \n",
       "T_OSMN11=                  521 / MIN pixel of x-overscan region for ch1         \n",
       "T_OSMX11=                  536 / MAX pixel of x-overscan region for ch1         \n",
       "T_EFMN11=                    9 / MIN pixel of x-effective range for ch1         \n",
       "T_EFMX11=                  520 / MAX pixel of x-effective range for ch1         \n",
       "T_OSMN12=                 4226 / MIN pixel of y-overscan region for ch1         \n",
       "T_OSMX12=                 4241 / MAX pixel of y-overscan region for ch1         \n",
       "T_EFMN12=                   50 / MIN pixel of y-effective range for ch1         \n",
       "T_EFMX12=                 4225 / MAX pixel of y-effective range for ch1         \n",
       "T_OSMN21=                  537 / MIN pixel of x-overscan region for ch2         \n",
       "T_OSMX21=                  552 / MAX pixel of x-overscan region for ch2         \n",
       "T_EFMN21=                  553 / MIN pixel of x-effective range for ch2         \n",
       "T_EFMX21=                 1064 / MAX pixel of x-effective range for ch2         \n",
       "T_OSMN22=                 4226 / MIN pixel of y-overscan region for ch2         \n",
       "T_OSMX22=                 4241 / MAX pixel of y-overscan region for ch2         \n",
       "T_EFMN22=                   50 / MIN pixel of y-effective range for ch2         \n",
       "T_EFMX22=                 4225 / MAX pixel of y-effective range for ch2         \n",
       "T_OSMN31=                 1593 / MIN pixel of x-overscan region for ch3         \n",
       "T_OSMX31=                 1608 / MAX pixel of x-overscan region for ch3         \n",
       "T_EFMN31=                 1081 / MIN pixel of x-effective range for ch3         \n",
       "T_EFMX31=                 1592 / MAX pixel of x-effective range for ch3         \n",
       "T_OSMN32=                 4226 / MIN pixel of y-overscan region for ch3         \n",
       "T_OSMX32=                 4241 / MAX pixel of y-overscan region for ch3         \n",
       "T_EFMN32=                   50 / MIN pixel of y-effective range for ch3         \n",
       "T_EFMX32=                 4225 / MAX pixel of y-effective range for ch3         \n",
       "T_OSMN41=                 1609 / MIN pixel of x-overscan region for ch4         \n",
       "T_OSMX41=                 1624 / MAX pixel of x-overscan region for ch4         \n",
       "T_EFMN41=                 1625 / MIN pixel of x-effective range for ch4         \n",
       "T_EFMX41=                 2136 / MAX pixel of x-effective range for ch4         \n",
       "T_OSMN42=                 4226 / MIN pixel of y-overscan region for ch4         \n",
       "T_OSMX42=                 4241 / MAX pixel of y-overscan region for ch4         \n",
       "T_EFMN42=                   50 / MIN pixel of y-effective range for ch4         \n",
       "T_EFMX42=                 4225 / MAX pixel of y-effective range for ch4         "
      ]
     },
     "execution_count": 56,
     "metadata": {},
     "output_type": "execute_result"
    }
   ],
   "source": [
    "sources = fits.open('astrometry_data/1180_42.fits')\n",
    "source_cat = sources[1].data\n",
    "# You can check the column names of the data:\n",
    "sources[0].header"
   ]
  },
  {
   "cell_type": "markdown",
   "id": "d64e45fc-67f9-4cf6-91e6-dd4038c384f1",
   "metadata": {
    "execution": {
     "iopub.execute_input": "2023-06-08T19:56:18.683475Z",
     "iopub.status.busy": "2023-06-08T19:56:18.683252Z",
     "iopub.status.idle": "2023-06-08T19:56:18.693101Z",
     "shell.execute_reply": "2023-06-08T19:56:18.692671Z",
     "shell.execute_reply.started": "2023-06-08T19:56:18.683460Z"
    },
    "tags": []
   },
   "source": [
    "Now convert the source catalog pixel values to RA and Dec using the WCS in the header"
   ]
  },
  {
   "cell_type": "code",
   "execution_count": 73,
   "id": "ae924009-50e5-49c9-9f08-4f0a6e727953",
   "metadata": {
    "tags": []
   },
   "outputs": [
    {
     "name": "stdout",
     "output_type": "stream",
     "text": [
      "WCS Keywords\n",
      "\n",
      "Number of WCS axes: 2\n",
      "CTYPE : 'RA---TAN-SIP'  'DEC--TAN-SIP'  \n",
      "CRVAL : 150.112511312214  2.126695234940722  \n",
      "CRPIX : 953.2552519999999  2241.526671  \n",
      "CD1_1 CD1_2  : -5.5014476817794e-08  4.67806861305731e-05  \n",
      "CD2_1 CD2_2  : 4.67731565013891e-05  -3.126774827162e-08  \n",
      "NAXIS : 0  0\n"
     ]
    },
    {
     "data": {
      "text/plain": [
       "<SkyCoord (FK5: equinox=2000.0): (ra, dec) in deg\n",
       "    [(150.00962882, 2.08628661), (150.01077289, 2.12105591),\n",
       "     (150.01187552, 2.14180264), (150.01244033, 2.12860488),\n",
       "     (150.01331644, 2.15722449), (150.01554761, 2.11354445),\n",
       "     (150.01549671, 2.13939151), (150.01556619, 2.1578849 ),\n",
       "     (150.01585936, 2.17179473), (150.01588108, 2.16124926),\n",
       "     (150.01632701, 2.1284523 ), (150.01765772, 2.10119743),\n",
       "     (150.01752958, 2.17547582), (150.01831346, 2.16892826),\n",
       "     (150.01967678, 2.15442545), (150.02119444, 2.16487087),\n",
       "     (150.02264069, 2.14589962), (150.02314703, 2.11688689),\n",
       "     (150.02304536, 2.15596833), (150.0243618 , 2.15655781),\n",
       "     (150.02441177, 2.11682414), (150.02518344, 2.17554592),\n",
       "     (150.02699378, 2.14528196), (150.03029715, 2.14524015),\n",
       "     (150.03172811, 2.15300725), (150.03225673, 2.13271557),\n",
       "     (150.03378377, 2.10199918), (150.03562075, 2.1735846 ),\n",
       "     (150.03592291, 2.12839711), (150.03671457, 2.11176794),\n",
       "     (150.03739596, 2.10088978), (150.03834579, 2.0913081 ),\n",
       "     (150.03921943, 2.14584943), (150.04012131, 2.17241546),\n",
       "     (150.0419075 , 2.11532793), (150.04443566, 2.11027946),\n",
       "     (150.04573311, 2.1404581 ), (150.04592645, 2.17381682),\n",
       "     (150.04853463, 2.14503964), (150.04958904, 2.14653171),\n",
       "     (150.05021004, 2.13420821), (150.05116598, 2.09705324),\n",
       "     (150.05135532, 2.13582511), (150.0535893 , 2.09230664),\n",
       "     (150.05541268, 2.16446647), (150.05749436, 2.17476691),\n",
       "     (150.05838736, 2.09560647), (150.05872476, 2.13016572),\n",
       "     (150.05889542, 2.0974036 ), (150.05919277, 2.12700325),\n",
       "     (150.05907402, 2.1629758 ), (150.05983977, 2.13517177),\n",
       "     (150.06060045, 2.17124498), (150.06211546, 2.11355855),\n",
       "     (150.06330281, 2.13138043), (150.06668845, 2.13780382),\n",
       "     (150.06691253, 2.15266073), (150.06679722, 2.09121847),\n",
       "     (150.06726339, 2.08423755), (150.06812302, 2.08904373),\n",
       "     (150.06904362, 2.17531592), (150.06919491, 2.12608811),\n",
       "     (150.07090095, 2.17436862), (150.07071288, 2.16794604),\n",
       "     (150.07115047, 2.16418326), (150.07520117, 2.13690643),\n",
       "     (150.07615749, 2.11072456), (150.07589339, 2.14348404),\n",
       "     (150.07575866, 2.1632774 ), (150.08049145, 2.10496975),\n",
       "     (150.08144087, 2.11869663), (150.08245242, 2.12538483),\n",
       "     (150.08304842, 2.17535116), (150.08269553, 2.10379425),\n",
       "     (150.08287904, 2.13778346), (150.08372429, 2.10945785),\n",
       "     (150.08424424, 2.136176  ), (150.08421155, 2.11135036),\n",
       "     (150.08455483, 2.176898  ), (150.08615628, 2.16868953),\n",
       "     (150.08623884, 2.16536954), (150.08673498, 2.14360329),\n",
       "     (150.08727548, 2.13995868), (150.08697193, 2.16745533),\n",
       "     (150.08777851, 2.13202581), (150.08790066, 2.08627636),\n",
       "     (150.08857257, 2.11895115), (150.08987749, 2.14674189),\n",
       "     (150.09025359, 2.08991366), (150.09125318, 2.13020725),\n",
       "     (150.09103584, 2.16503427), (150.09251453, 2.17207995),\n",
       "     (150.09318922, 2.09134649), (150.09520558, 2.12545258),\n",
       "     (150.09591235, 2.13445485), (150.09706886, 2.12670326),\n",
       "     (150.09769884, 2.1504216 ), (150.09869345, 2.14624703),\n",
       "     (150.09884443, 2.10055609), (150.10089004, 2.1299388 ),\n",
       "     (150.10261841, 2.14042193), (150.10309541, 2.09968256),\n",
       "     (150.10606218, 2.10174927), (150.10807518, 2.13783719),\n",
       "     (150.10873723, 2.1342014 ), (150.10947292, 2.16099963),\n",
       "     (150.10973944, 2.08750886), (150.10938752, 2.17677538),\n",
       "     (150.11083881, 2.08432391), (150.11153694, 2.10674783),\n",
       "     (150.11201569, 2.12047516), (150.11084069, 2.10435299),\n",
       "     (150.11209552, 2.14106477), (150.11289338, 2.08493387),\n",
       "     (150.11246408, 2.1449867 ), (150.11314873, 2.09452553),\n",
       "     (150.11307939, 2.11289556), (150.11337245, 2.13899089),\n",
       "     (150.11495617, 2.09050616), (150.11605425, 2.11003461),\n",
       "     (150.11613853, 2.16113056), (150.11719256, 2.09064843),\n",
       "     (150.11743698, 2.16082909), (150.11771674, 2.09247551),\n",
       "     (150.11741163, 2.15866351), (150.11931713, 2.10962941),\n",
       "     (150.12058251, 2.14809568), (150.12058297, 2.16029346),\n",
       "     (150.12163067, 2.12737474), (150.12154025, 2.13231473),\n",
       "     (150.12226825, 2.12805497), (150.12480548, 2.10335667),\n",
       "     (150.12474082, 2.12443185), (150.12551111, 2.09072161),\n",
       "     (150.12675242, 2.10686547), (150.12792464, 2.10805399),\n",
       "     (150.1284729 , 2.0986909 ), (150.13093824, 2.16154887),\n",
       "     (150.13129594, 2.09111336), (150.13231564, 2.12404552),\n",
       "     (150.13292366, 2.17153782), (150.13460869, 2.17686332),\n",
       "     (150.13505263, 2.10584067), (150.13566758, 2.14795259),\n",
       "     (150.13860054, 2.10497213), (150.14069745, 2.1142346 ),\n",
       "     (150.14180707, 2.13689254), (150.14276072, 2.15146956),\n",
       "     (150.14297863, 2.17555766), (150.14359516, 2.12001951),\n",
       "     (150.14438646, 2.12345766), (150.14473844, 2.11249965),\n",
       "     (150.14536218, 2.14160622), (150.1458329 , 2.13075155),\n",
       "     (150.14734172, 2.16996778), (150.14942656, 2.14312807),\n",
       "     (150.14993157, 2.10506388), (150.15078528, 2.1218348 ),\n",
       "     (150.15207826, 2.08434133), (150.15256233, 2.15337817),\n",
       "     (150.15312882, 2.16701472), (150.15340879, 2.11362047),\n",
       "     (150.15395872, 2.10007942), (150.15523323, 2.17685507),\n",
       "     (150.15642954, 2.11352227), (150.1583675 , 2.13953131),\n",
       "     (150.158512  , 2.10078271), (150.16027787, 2.11949552),\n",
       "     (150.16025421, 2.1519738 ), (150.1604126 , 2.09897138),\n",
       "     (150.16053376, 2.16055003), (150.16160333, 2.13448304),\n",
       "     (150.16286432, 2.1252174 ), (150.1645159 , 2.14204754),\n",
       "     (150.16423623, 2.17348651), (150.16504138, 2.1693277 ),\n",
       "     (150.16548057, 2.11550005), (150.16793417, 2.12763518),\n",
       "     (150.16797511, 2.16566064), (150.16890425, 2.13405388),\n",
       "     (150.16885226, 2.13984016), (150.16894383, 2.17153182),\n",
       "     (150.16908801, 2.09457034), (150.17009955, 2.1531238 ),\n",
       "     (150.17052619, 2.14527801), (150.1706847 , 2.10952496),\n",
       "     (150.17189188, 2.09398634), (150.17369273, 2.08492527),\n",
       "     (150.17374988, 2.17065639), (150.17501925, 2.17250168),\n",
       "     (150.1777186 , 2.13657346), (150.17811424, 2.16050667),\n",
       "     (150.17842243, 2.14036323), (150.17956133, 2.14786746),\n",
       "     (150.17981179, 2.10626669), (150.17994226, 2.12203018),\n",
       "     (150.1841508 , 2.15445645), (150.18479724, 2.09638655),\n",
       "     (150.18550954, 2.1518303 ), (150.1861278 , 2.12149569),\n",
       "     (150.18761754, 2.08676391), (150.1875068 , 2.09829798),\n",
       "     (150.1882837 , 2.09370534), (150.18992081, 2.1050278 ),\n",
       "     (150.18960008, 2.14511485), (150.18979465, 2.16722251),\n",
       "     (150.19074047, 2.16981291), (150.19406575, 2.08856145),\n",
       "     (150.19593839, 2.13529781), (150.19646177, 2.09535098),\n",
       "     (150.19720312, 2.10110683), (150.19757071, 2.15646049),\n",
       "     (150.19783199, 2.11017275), (150.19986703, 2.14330425),\n",
       "     (150.19986909, 2.1034562 ), (150.20192373, 2.15276294)]>"
      ]
     },
     "execution_count": 73,
     "metadata": {},
     "output_type": "execute_result"
    }
   ],
   "source": [
    "detector_wcs = wcs.WCS(sources[0].header)\n",
    "print(detector_wcs)\n",
    "# Hint: wcs has a pixel_to_world method that is helpful here\n",
    "source_skyCoords = detector_wcs.pixel_to_world(source_cat['x'],source_cat['y'])# complete\n",
    "source_skyCoords"
   ]
  },
  {
   "cell_type": "markdown",
   "id": "d0ed50e7-342a-4082-9ee9-0b9676ffb1ee",
   "metadata": {},
   "source": [
    "Make a plot showing the RA and Dec positions of the two catalogs to make sure we are starting with something sensible. For example, first make sure that the RA and Dec values of the two catalogs overlap, which they should. (Mixing up degrees and radians happens all the time!) Does it look like there are any likely matches between the catalogs? I recommend using different markers for each catalog in your scatter plot."
   ]
  },
  {
   "cell_type": "code",
   "execution_count": 80,
   "id": "4a3c32e7-f4df-4573-8546-e3c51384ea9a",
   "metadata": {},
   "outputs": [
    {
     "data": {
      "text/plain": [
       "Text(0, 0.5, 'dec')"
      ]
     },
     "execution_count": 80,
     "metadata": {},
     "output_type": "execute_result"
    },
    {
     "data": {
      "image/png": "[encoded data removed]",
      "text/plain": [
       "<Figure size 576x432 with 1 Axes>"
      ]
     },
     "metadata": {
      "needs_background": "light"
     },
     "output_type": "display_data"
    }
   ],
   "source": [
    "# Complete\n",
    "fig, ax = plt.subplots(figsize=(8,6))\n",
    "ax.scatter(gaia_skyCoord.ra, gaia_skyCoord.dec, marker='+')\n",
    "ax.scatter(source_skyCoords.ra, source_skyCoords.dec)\n",
    "ax.set_xlabel('ra')\n",
    "ax.set_ylabel('dec')"
   ]
  },
  {
   "cell_type": "markdown",
   "id": "327b2fa3-96f2-4223-9a17-aa1e495433cc",
   "metadata": {},
   "source": [
    "Given the initial estimate of RA and Dec, match the Gaia catalog sources to the new source catalog:"
   ]
  },
  {
   "cell_type": "code",
   "execution_count": null,
   "id": "983cd419",
   "metadata": {},
   "outputs": [],
   "source": [
    "# Complete: \n",
    "# (Hint: astropy SkyCoord has a \"match_to_catalog_sky\" function that works well for this.)\n"
   ]
  },
  {
   "cell_type": "markdown",
   "id": "646304cc-26a9-48df-95de-97d292b7a1e7",
   "metadata": {},
   "source": [
    "Not every source in the catalog will have a match in the Gaia catalog. Make a histogram of the match separations and choose a sensible limit for the distance between matches."
   ]
  },
  {
   "cell_type": "code",
   "execution_count": 157,
   "id": "e6cc71b8-0481-401e-a3ba-4cb39bf33d8e",
   "metadata": {
    "tags": []
   },
   "outputs": [],
   "source": [
    "# Complete"
   ]
  },
  {
   "cell_type": "markdown",
   "id": "480d0d16",
   "metadata": {},
   "source": [
    "Make a histogram of just the good matches to see what the separations look like."
   ]
  },
  {
   "cell_type": "code",
   "execution_count": null,
   "id": "ceb41737",
   "metadata": {},
   "outputs": [],
   "source": [
    "# Complete"
   ]
  },
  {
   "cell_type": "markdown",
   "id": "327a666e-942a-4e22-8ed9-2993428c19bf",
   "metadata": {},
   "source": [
    "You may also want to remove any sources that have ambiguous pairings (within the limit you selected above) -- i.e. one gaia star matches multiple science sources or vice-versa"
   ]
  },
  {
   "cell_type": "markdown",
   "id": "74ec02de-c7dc-41a6-8812-5a2ae53149d1",
   "metadata": {},
   "source": [
    "#### 2. Fitting a WCS\n",
    "\n",
    "Now that we have found the stars that are in both our science image and our reference catalog, let's try to fit an improved WCS.\n",
    "\n",
    "To do a simple version of this, use `astropy.wcs.utils.fit_wcs_from_points` to fit a WCS function. Use the optional argument `sip_degree` to choose what order of polynomial to use for the function. (Choosing zero should give something pretty close to the WCS we got from the fits file header.) The pixel values should come from our source catalog, and the sky coordinates should come from the Gaia catalog."
   ]
  },
  {
   "cell_type": "code",
   "execution_count": null,
   "id": "1cddcde4-de00-405e-9946-656858432234",
   "metadata": {},
   "outputs": [],
   "source": [
    "new_wcs = # Complete"
   ]
  },
  {
   "cell_type": "markdown",
   "id": "14f8e01d",
   "metadata": {},
   "source": [
    "Now calculate the RA and Dec for the pixel coordinages in the input image and see if the separations between the science image and Gaia have improved."
   ]
  },
  {
   "cell_type": "code",
   "execution_count": null,
   "id": "d8cb0f67",
   "metadata": {},
   "outputs": [],
   "source": [
    "new_radec = # complete"
   ]
  },
  {
   "cell_type": "markdown",
   "id": "fd4fe4ee-5beb-4e17-a6f7-c5a5ea2c6806",
   "metadata": {},
   "source": [
    "#### 3. Fit the WCS over the whole focal plane and look for camera-level effects"
   ]
  },
  {
   "cell_type": "markdown",
   "id": "d4efceea-6236-4143-bcef-cf3860e4e087",
   "metadata": {},
   "source": [
    "We are going to put the above steps together in a loop over all the detectors to get an improved WCS for each detector. "
   ]
  },
  {
   "cell_type": "code",
   "execution_count": null,
   "id": "ce80ba6a-d2be-46b3-8d01-ab6b6cd38859",
   "metadata": {},
   "outputs": [],
   "source": [
    "source_files = glob('astrometry_data/1180_*.fits')\n",
    "get_detector = re.compile(r'astrometry_data/1180_(\\d+?).fits')\n",
    "orig_wcs_dict = {}\n",
    "new_wcs_dict = {}\n",
    "for source_file in source_files:\n",
    "    sources = # complete\n",
    "    \n",
    "    s = get_detector.search(source_file)\n",
    "    detector = int(s.group(1))\n",
    "\n",
    "    orig_wcs_dict[detector] = # complete\n",
    "\n",
    "    source_cat = # complete\n",
    "\n",
    "    source_coords = # complete\n",
    "\n",
    "    # Choose good matches as above...\n",
    "\n",
    "    new_wcs = # complete\n",
    "    new_wcs_dict[detector] = new_wcs\n"
   ]
  },
  {
   "cell_type": "markdown",
   "id": "b8f65252",
   "metadata": {},
   "source": [
    "Plot the difference in RA and Dec vs the simple wcs position, then look at this difference over the focal plane. Are there coherent distortions between detectors?\n",
    "\n",
    "To do this, I recommend making a grid in x and y pixel values and calculating what RA and Dec those map to using the original and new WCSs for each detector. "
   ]
  },
  {
   "cell_type": "code",
   "execution_count": null,
   "id": "c7492c54",
   "metadata": {},
   "outputs": [],
   "source": [
    "x_range = np.arange(0, 2048, 100)\n",
    "y_range = np.arange(0, 4096, 100)\n",
    "\n",
    "# complete"
   ]
  },
  {
   "cell_type": "markdown",
   "id": "4959cf05-e15e-4cab-b653-3f7e5570f09a",
   "metadata": {},
   "source": [
    "#### 4. How good is the model?\n",
    "\n",
    "Use the pixel scale matrix (the CD matrix) to approximate the WCS Jacobian and propagate the x and y errors to RA and Dec. You can use this equation for the error propagation:\n",
    "\n",
    "$$ \\mathbf{C}_{RA, Dec} = \\mathbf{J} \\mathbf{C}_{x, y} \\mathbf{J}^T\n",
    "$$\n",
    "\n",
    "where $\\mathbf{C}_{x, y}$ is the x,y covariance matrix, \\mathbf{C}_{RA, Dec} is the covariance in RA and Dec, and \\mathbf{J} is the Jacobian of the WCS transformation.\n"
   ]
  },
  {
   "cell_type": "code",
   "execution_count": null,
   "id": "3b84cea5-ccb3-43dc-96b3-fbbb2f0a764a",
   "metadata": {},
   "outputs": [],
   "source": [
    "print(new_wcs.pixel_scale_matrix)"
   ]
  },
  {
   "cell_type": "markdown",
   "id": "b441ceea",
   "metadata": {},
   "source": [
    "Using this covariance, calculated the chi-squared of the model for the WCS that we have calculated."
   ]
  },
  {
   "cell_type": "code",
   "execution_count": null,
   "id": "8d78fcfd",
   "metadata": {},
   "outputs": [],
   "source": []
  }
 ],
 "metadata": {
  "kernelspec": {
   "display_name": "Python 3 (ipykernel)",
   "language": "python",
   "name": "python3"
  },
  "language_info": {
   "codemirror_mode": {
    "name": "ipython",
    "version": 3
   },
   "file_extension": ".py",
   "mimetype": "text/x-python",
   "name": "python",
   "nbconvert_exporter": "python",
   "pygments_lexer": "ipython3",
   "version": "3.10.4"
  }
 },
 "nbformat": 4,
 "nbformat_minor": 5
}
